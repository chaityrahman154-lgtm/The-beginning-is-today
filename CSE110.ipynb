{
  "cells": [
    {
      "cell_type": "markdown",
      "metadata": {
        "id": "view-in-github",
        "colab_type": "text"
      },
      "source": [
        "<a href=\"https://colab.research.google.com/github/chaityrahman154-lgtm/The-beginning-is-today/blob/main/CSE110.ipynb\" target=\"_parent\"><img src=\"https://colab.research.google.com/assets/colab-badge.svg\" alt=\"Open In Colab\"/></a>"
      ]
    },
    {
      "cell_type": "markdown",
      "source": [
        "CSE110 Function Assignment- Dictionary & Tuple"
      ],
      "metadata": {
        "id": "cjwWaQnte9xp"
      }
    },
    {
      "cell_type": "code",
      "source": [
        "def function1(**args):\n",
        "    print(args)\n",
        "function1(a=6,b=23,c=1)"
      ],
      "metadata": {
        "colab": {
          "base_uri": "https://localhost:8080/"
        },
        "id": "tmf3MFjnMfWp",
        "outputId": "b30bfbbc-7958-41cf-915b-de32f4303053"
      },
      "execution_count": null,
      "outputs": [
        {
          "output_type": "stream",
          "name": "stdout",
          "text": [
            "{'a': 6, 'b': 23, 'c': 1}\n"
          ]
        }
      ]
    },
    {
      "cell_type": "code",
      "source": [
        "# range is a function\n",
        "def make_square(t):\n",
        "    d={}\n",
        "    for i in range(t[0],t[1]+1):\n",
        "        d[i]=i**2\n",
        "    return d\n",
        "print(make_square((1,3)))\n",
        "print(make_square((5,9)))"
      ],
      "metadata": {
        "colab": {
          "base_uri": "https://localhost:8080/"
        },
        "id": "gJ62qGE5ZCoN",
        "outputId": "42362187-2453-4e3e-d144-d314411e649c"
      },
      "execution_count": null,
      "outputs": [
        {
          "output_type": "stream",
          "name": "stdout",
          "text": [
            "{1: 1, 2: 4, 3: 9}\n",
            "{5: 25, 6: 36, 7: 49, 8: 64, 9: 81}\n"
          ]
        }
      ]
    },
    {
      "cell_type": "code",
      "source": [
        "#Task 11\n",
        "def rem_duplicate(t):\n",
        "    lst=[]\n",
        "    for i in t:\n",
        "        if i not in lst:\n",
        "            lst.append(i)\n",
        "    tup=tuple(lst)\n",
        "    return tup\n",
        "print(rem_duplicate((1,1,1,2,3,4,5,6,6,6,6,4,0,0,0)))\n",
        "print(rem_duplicate((\"Hi\", 1, 2, 3, 3, \"Hi\",'a', 'a', [1,2])))"
      ],
      "metadata": {
        "colab": {
          "base_uri": "https://localhost:8080/"
        },
        "id": "bLAI8Wxobt8_",
        "outputId": "4533117f-63e9-4929-f747-c8ace648f085"
      },
      "execution_count": null,
      "outputs": [
        {
          "output_type": "stream",
          "name": "stdout",
          "text": [
            "(1, 2, 3, 4, 5, 6, 0)\n",
            "('Hi', 1, 2, 3, 'a', [1, 2])\n"
          ]
        }
      ]
    },
    {
      "cell_type": "code",
      "source": [
        "#Task 15\n",
        "def function_name(lt,dl=\"Dhanmondi\"):\n",
        "        item=[\"Rice\", \"Potato\", \"Chicken\", \"Beef\", \"Oil\"]\n",
        "        price=[105, 20, 250 ,510, 85]\n",
        "        d={}\n",
        "        for i in range(len(item)):\n",
        "            d[item[i]]=price[i]\n",
        "        print(d)\n",
        "        s=0\n",
        "        for i in range(len(lt)):\n",
        "            for j in d.keys():\n",
        "                if lt[i]==j:\n",
        "                    s+=d[j]\n",
        "        if dl==\"Dhanmondi\":\n",
        "            s+=30\n",
        "        else:\n",
        "            s+=70\n",
        "        return s\n",
        "print(function_name([\"Rice\", \"Beef\", \"Rice\"], \"Mohakhali\"))\n",
        "print(function_name([\"Rice\", \"Beef\", \"Rice\"]))"
      ],
      "metadata": {
        "colab": {
          "base_uri": "https://localhost:8080/"
        },
        "id": "-hujdjUlfNbp",
        "outputId": "74605d35-4b50-4da7-947c-4a8d526c6f3d"
      },
      "execution_count": null,
      "outputs": [
        {
          "output_type": "stream",
          "name": "stdout",
          "text": [
            "{'Rice': 105, 'Potato': 20, 'Chicken': 250, 'Beef': 510, 'Oil': 85}\n",
            "790\n",
            "{'Rice': 105, 'Potato': 20, 'Chicken': 250, 'Beef': 510, 'Oil': 85}\n",
            "750\n"
          ]
        }
      ]
    },
    {
      "cell_type": "code",
      "source": [
        "#Easy 2\n",
        "def function_name(a):\n",
        "    d={}\n",
        "    for i in range(len(a)):\n",
        "        d[a[i]]=[i,i-(len(a))]\n",
        "    return d\n",
        "print(function_name(\"pythonbook\") )"
      ],
      "metadata": {
        "colab": {
          "base_uri": "https://localhost:8080/"
        },
        "id": "euufeWkGvG9D",
        "outputId": "7c9a6e5c-a1ac-48cc-c2bd-54f7adea1552"
      },
      "execution_count": null,
      "outputs": [
        {
          "output_type": "stream",
          "name": "stdout",
          "text": [
            "{'p': [0, -10], 'y': [1, -9], 't': [2, -8], 'h': [3, -7], 'o': [8, -2], 'n': [5, -5], 'b': [6, -4], 'k': [9, -1]}\n"
          ]
        }
      ]
    },
    {
      "cell_type": "code",
      "source": [
        "def function_name(s): #will the order of the dictionary keys have to be same as output?\n",
        "    d={}\n",
        "    emp=\"\"\n",
        "    for i in range(len(s)):\n",
        "        if s[i]!=\" \":\n",
        "                emp+=s[i]\n",
        "        if s[i]==\" \" or i==(len(s))-1:\n",
        "            if emp not in d:\n",
        "                d[emp]=1\n",
        "            else:\n",
        "                d[emp]+=1\n",
        "            emp=\"\"\n",
        "    return d\n",
        "\n",
        "print(function_name(\"go there come and go here and there go care\"))"
      ],
      "metadata": {
        "colab": {
          "base_uri": "https://localhost:8080/"
        },
        "id": "iAhxPxgjFYfA",
        "outputId": "1a66fb3c-e5d9-41c8-9dae-ee8f9412be29"
      },
      "execution_count": null,
      "outputs": [
        {
          "output_type": "stream",
          "name": "stdout",
          "text": [
            "{'go': 3, 'there': 2, 'come': 1, 'and': 2, 'here': 1, 'care': 1}\n"
          ]
        }
      ]
    },
    {
      "cell_type": "code",
      "source": [
        "#Medium 4check\n",
        "def function_name(x):\n",
        "    d={}\n",
        "    for i in x:\n",
        "        a=int(i)\n",
        "        s=0\n",
        "        lst=[]\n",
        "        for j in range(1,a):\n",
        "            if a%j==0:\n",
        "                s+=j\n",
        "        if a%2==0:\n",
        "            lst.append(\"even\")\n",
        "        if a%2!=0:\n",
        "            lst.append(\"odd\")\n",
        "        if s==1:\n",
        "            lst.append(\"prime\")\n",
        "        if s!=1:\n",
        "            lst.append(\"not prime\")\n",
        "        if s==a:\n",
        "            lst.append(\"perfect\")\n",
        "        if s!=a:\n",
        "            lst.append(\"not perfect\")\n",
        "        b=tuple(lst)\n",
        "        d[a]=b\n",
        "    return d\n",
        "print(function_name(\"2441396\"))"
      ],
      "metadata": {
        "colab": {
          "base_uri": "https://localhost:8080/"
        },
        "id": "mHAmBXi-vdTH",
        "outputId": "b9a4fffe-19d0-46ff-fd23-dbd105505f33"
      },
      "execution_count": null,
      "outputs": [
        {
          "output_type": "stream",
          "name": "stdout",
          "text": [
            "{2: ('even', 'prime', 'not perfect'), 4: ('even', 'not prime', 'not perfect'), 1: ('odd', 'not prime', 'not perfect'), 3: ('odd', 'prime', 'not perfect'), 9: ('odd', 'not prime', 'not perfect'), 6: ('even', 'not prime', 'perfect')}\n"
          ]
        }
      ]
    },
    {
      "cell_type": "markdown",
      "source": [
        "Assignment-1 List Dictionary & Tuple"
      ],
      "metadata": {
        "id": "R4FdBBz83iv4"
      }
    },
    {
      "cell_type": "code",
      "source": [
        "#5 can't solve it wanna know another technique of string sorting\n",
        "x=input()\n",
        "s=\"\"\n",
        "for i in range(len(x)): #brac\n",
        " min=i\n",
        " if \"a\"<=x[i]<=\"z\":\n",
        "  for j in range(i,len(x)):\n",
        "      if x[j]<x[min]:\n",
        "        min=j\n",
        "  s1=x[:i]+x[min]+x[i:min]+x[min+1:]\n",
        "  x=s1\n",
        " else:\n",
        "    break\n",
        "print(x)"
      ],
      "metadata": {
        "id": "paCDqHCrhYdM",
        "colab": {
          "base_uri": "https://localhost:8080/"
        },
        "outputId": "45aa39ba-15f1-4c6b-895e-c6700077275a"
      },
      "execution_count": null,
      "outputs": [
        {
          "output_type": "stream",
          "name": "stdout",
          "text": [
            "brac\n",
            "abcr\n"
          ]
        }
      ]
    },
    {
      "cell_type": "code",
      "source": [
        "for i in range(len(lstl)):\n",
        "    for j in range(len(lstl)-1):\n",
        "        if ord(lstl[j])>ord(lstl[j+1]):\n",
        "            temp=lstl[j]\n",
        "            lstl[j]=lstl[j+1]\n",
        "            lstl[j+1]=temp\n",
        "for i in lstl:\n",
        "    s+=i\n",
        "for i in range(len(lstu)):\n",
        "    for j in range(len(lstu)-1):\n",
        "        if ord(lstu[j])>ord(lstu[j+1]):\n",
        "            temp=lstu[j]\n",
        "            lstu[j]=lstu[j+1]\n",
        "            lstu[j+1]=temp\n",
        "for i in lstu:\n",
        "    s+=i\n",
        "for i in range(len(lsto)):\n",
        "    for j in range(len(lsto)-1):\n",
        "        if ord(lsto[j])>ord(lsto[j+1]):\n",
        "            temp=lsto[j]\n",
        "            lsto[j]=lsto[j+1]\n",
        "            lsto[j+1]=temp\n",
        "for i in lsto:\n",
        "    s+=i\n",
        "for i in range(len(lste)):\n",
        "    for j in range(len(lste)-1):\n",
        "        if ord(lste[j])>ord(lste[j+1]):\n",
        "            temp=lste[j]\n",
        "            lste[j]=lste[j+1]\n",
        "            lste[j+1]=temp\n",
        "for i in lste:\n",
        "    s+=i\n",
        "print(s)"
      ],
      "metadata": {
        "id": "GVXaJNm8OPn7"
      },
      "execution_count": null,
      "outputs": []
    },
    {
      "cell_type": "code",
      "source": [
        "x=input()\n",
        "s=\"\"\n",
        "for i in range(len(x)):\n",
        "    if \"A\"<=x[i]<=\"Z\":\n",
        "        s+=x[i]\n",
        "for i in range(len(x)):\n",
        "  if \"0\"<=x[i]<=\"9\":\n",
        "     if int(x[i])%2!=0:\n",
        "        s+=x[i]\n",
        "for i in range(len(x)):\n",
        "   if \"0\"<=x[i]<=\"9\":\n",
        "     if int(x[i])%2==0:\n",
        "        s+=x[i]\n",
        "print(s)"
      ],
      "metadata": {
        "colab": {
          "base_uri": "https://localhost:8080/"
        },
        "id": "54YSvaC3wxZY",
        "outputId": "e45f9cee-c0af-4219-9aed-0a2cc6a1e907"
      },
      "execution_count": null,
      "outputs": [
        {
          "output_type": "stream",
          "name": "stdout",
          "text": [
            "Bracu1234\n",
            "B1324\n"
          ]
        }
      ]
    },
    {
      "cell_type": "code",
      "source": [
        "#6\n",
        "x=input()\n",
        "y=input()\n",
        "a=x.split(' ')\n",
        "b=y.split(' ')\n",
        "for i in range(len(a)):\n",
        "    a[i]=int(a[i])\n",
        "for i in range(len(b)):\n",
        "    b[i]=int(b[i])\n",
        "c=0\n",
        "for i in b:\n",
        "    p=5-i\n",
        "    if p>= a[1]:\n",
        "        c+=1\n",
        "q=c//3\n",
        "print(q)"
      ],
      "metadata": {
        "colab": {
          "base_uri": "https://localhost:8080/"
        },
        "id": "1pLi9t1ATL9u",
        "outputId": "4363e6e7-5362-4388-b7f2-df8f0fe463cd"
      },
      "execution_count": null,
      "outputs": [
        {
          "output_type": "stream",
          "name": "stdout",
          "text": [
            "6 4\n",
            "0 1 2 3 4 5\n",
            "0\n"
          ]
        }
      ]
    },
    {
      "cell_type": "code",
      "source": [
        "#6 can't solve it\n",
        "d={1:\".,?!:\",2:\"ABC\",3:\"DEF\",4:\"GHI\",5:\"JKL\",6:\"MNO\",7:\"PQRS\",8:\"TUV\",9:\"WXYZ\",0:\" \"}\n",
        "p=input()\n",
        "x=p.upper()\n",
        "s=\"\"\n",
        "for i in x:\n",
        "    for k,v in d.items():\n",
        "        for j in range(len(v)):\n",
        "            if v[j]==i:\n",
        "                s+=str(k)*(j+1)\n",
        "print(s)"
      ],
      "metadata": {
        "id": "9hwvLKRM20Gp",
        "colab": {
          "base_uri": "https://localhost:8080/"
        },
        "outputId": "80a8cf3f-37a2-4626-9d54-465bd7655f54"
      },
      "execution_count": null,
      "outputs": [
        {
          "output_type": "stream",
          "name": "stdout",
          "text": [
            "Hello, World!\n",
            "4433555555666110966677755531111\n"
          ]
        }
      ]
    },
    {
      "cell_type": "code",
      "source": [
        "s=input()\n",
        "x=s.upper()\n",
        "print(x)"
      ],
      "metadata": {
        "colab": {
          "base_uri": "https://localhost:8080/"
        },
        "id": "_aZOaW3YmBRd",
        "outputId": "6032b305-625c-45f2-b0b5-0b4314c6a873"
      },
      "execution_count": null,
      "outputs": [
        {
          "output_type": "stream",
          "name": "stdout",
          "text": [
            "Hello, World!\n",
            "HELLO, WORLD!\n"
          ]
        }
      ]
    },
    {
      "cell_type": "code",
      "source": [
        "a=\"asd\"\n",
        "b=a.upper()\n",
        "print(a,b)"
      ],
      "metadata": {
        "colab": {
          "base_uri": "https://localhost:8080/"
        },
        "id": "sjRFxYtABlzd",
        "outputId": "43ef572e-aeb4-4224-c821-38f30f42f8a9"
      },
      "execution_count": null,
      "outputs": [
        {
          "output_type": "stream",
          "name": "stdout",
          "text": [
            "asd ASD\n"
          ]
        }
      ]
    },
    {
      "cell_type": "code",
      "source": [
        "s=\"Python programming is fun\"\n",
        "a=s.lower()\n",
        "d={}\n",
        "for i in a:\n",
        "   if i!=\" \":\n",
        "    if i in d.keys():\n",
        "        d[i]+=1\n",
        "    else:\n",
        "        d[i]=1\n",
        "print(d)"
      ],
      "metadata": {
        "colab": {
          "base_uri": "https://localhost:8080/"
        },
        "id": "ehpjE_ayfoRg",
        "outputId": "e5d6c59c-17d1-4e3e-a227-efda093c5c58"
      },
      "execution_count": null,
      "outputs": [
        {
          "output_type": "stream",
          "name": "stdout",
          "text": [
            "{'p': 2, 'y': 1, 't': 1, 'h': 1, 'o': 2, 'n': 3, 'r': 2, 'g': 2, 'a': 1, 'm': 2, 'i': 2, 's': 1, 'f': 1, 'u': 1}\n"
          ]
        }
      ]
    },
    {
      "cell_type": "code",
      "source": [
        "#3\n",
        "a=[2,3,6]\n",
        "b=[3,4,5]\n",
        "lst=[]\n",
        "for i in a:\n",
        "    for j in b:\n",
        "        p=i*j\n",
        "        lst.append(p)\n",
        "print(lst)"
      ],
      "metadata": {
        "colab": {
          "base_uri": "https://localhost:8080/"
        },
        "id": "K5GMxfTIPwFf",
        "outputId": "23498398-7902-416d-a9b6-794d286aa423"
      },
      "execution_count": null,
      "outputs": [
        {
          "output_type": "stream",
          "name": "stdout",
          "text": [
            "[6, 8, 10, 9, 12, 15, 18, 24, 30]\n"
          ]
        }
      ]
    },
    {
      "cell_type": "code",
      "source": [
        "#2\n",
        "n=int(input())\n",
        "max=None\n",
        "for j in range(n):\n",
        "    s=input()\n",
        "    a=s.split(' ')\n",
        "    for i in range(len(a)):\n",
        "        a[i]=int(a[i])\n",
        "    s=0\n",
        "    for i in a:\n",
        "        s+=i\n",
        "    if j==0:\n",
        "        max=s\n",
        "        ml=a\n",
        "    else:\n",
        "         if s>max:\n",
        "            max=s\n",
        "            ml=a\n",
        "print(max)\n",
        "print(ml)"
      ],
      "metadata": {
        "id": "0D2Ph_DBgpeJ",
        "colab": {
          "base_uri": "https://localhost:8080/"
        },
        "outputId": "d0e1a8ce-ee31-4a78-ae38-3290e1e51e58"
      },
      "execution_count": null,
      "outputs": [
        {
          "output_type": "stream",
          "name": "stdout",
          "text": [
            "2\n",
            "1 2 3\n",
            "4 5 6\n",
            "15\n",
            "[4, 5, 6]\n"
          ]
        }
      ]
    },
    {
      "cell_type": "code",
      "source": [
        "#5\n",
        "x=input()\n",
        "y=input()\n",
        "ni=-1\n",
        "all=True\n",
        "for i in range(len(x)):\n",
        "    if x[i]!=y[ni]:\n",
        "        all=False\n",
        "    ni-=1\n",
        "if all==True:\n",
        "    print(\"Those strings are anagrams.\")\n",
        "else:\n",
        "    print(\"Those strings are not anagrams.\")"
      ],
      "metadata": {
        "colab": {
          "base_uri": "https://localhost:8080/"
        },
        "id": "e7pLVjP-1WHs",
        "outputId": "6f87f9aa-38f3-40cf-aeba-23722650f2c5"
      },
      "execution_count": null,
      "outputs": [
        {
          "output_type": "stream",
          "name": "stdout",
          "text": [
            "live\n",
            "lvil\n",
            "Those strings are not anagrams.\n"
          ]
        }
      ]
    },
    {
      "cell_type": "code",
      "source": [
        "d1={'a': 100, 'b': 100, 'c': 200, 'd': 300 }\n",
        "d2={'a': 300, 'b': 200, 'd': 400, 'e': 200 }\n",
        "d={}\n",
        "for i in d1.keys():\n",
        "    d[i]=d1[i] #is both key and value are copying\n",
        "print(d)\n",
        "for i in d2.keys():\n",
        "    if i in d:\n",
        "        d[i]=d[i]+d2[i]\n",
        "    else:\n",
        "        d[i]=d2[i]\n",
        "print(d)\n",
        "lst=[]\n",
        "for i in d.values():\n",
        "    lst.append(i)\n",
        "lt=[]\n",
        "for i in lst:\n",
        "    if i not in lt:\n",
        "        lt.append(i)\n",
        "for i in range(len(lt)):\n",
        "    for j in range(len(lt)-1):\n",
        "        if lt[j]>lt[j+1]:\n",
        "            temp=lt[j]\n",
        "            lt[j]=lt[j+1]\n",
        "            lt[j+1]=temp\n",
        "print(\"Values:\",tuple(lt))"
      ],
      "metadata": {
        "colab": {
          "base_uri": "https://localhost:8080/"
        },
        "id": "KzNUDE0U2nsn",
        "outputId": "d737ff44-bde0-41e4-e6d7-7d5b762b796d"
      },
      "execution_count": null,
      "outputs": [
        {
          "output_type": "stream",
          "name": "stdout",
          "text": [
            "{'a': 100, 'b': 100, 'c': 200, 'd': 300}\n",
            "{'a': 400, 'b': 300, 'c': 200, 'd': 700, 'e': 200}\n",
            "Values: (200, 300, 400, 700)\n"
          ]
        }
      ]
    },
    {
      "cell_type": "code",
      "source": [
        "while True:\n",
        "    a=input()\n",
        "    if a==\"STOP\":\n",
        "        break\n",
        "    else:\n",
        "        b=a.split(\" \")\n",
        "        for i in range(len(b)):\n",
        "            b[i]=int(b[i])\n",
        "        print(b)\n",
        "    c=0\n",
        "    for i in range(len(b)-1):\n",
        "        d=abs(b[i]-b[i+1])\n",
        "        p=str(d)\n",
        "        q=str(len(b)-1)\n",
        "        if \"1\"<=p<=q:\n",
        "            c+=1\n",
        "    if c==(len(b)-1): #check c die hbe?\n",
        "        print(\"UB Jumper\")\n",
        "    else:\n",
        "        print(\"Not UB Jumper\")"
      ],
      "metadata": {
        "id": "devUjnkIOjzV",
        "colab": {
          "base_uri": "https://localhost:8080/"
        },
        "outputId": "87d0daa5-18b6-45e4-ae8f-97e5d3943077"
      },
      "execution_count": null,
      "outputs": [
        {
          "name": "stdout",
          "output_type": "stream",
          "text": [
            "1 4 2 3\n",
            "[1, 4, 2, 3]\n",
            "UB Jumper\n",
            "2 1 4 6 10\n",
            "[2, 1, 4, 6, 10]\n",
            "UB Jumper\n",
            "1 4 2 -1 6\n",
            "[1, 4, 2, -1, 6]\n",
            "Not UB Jumper\n",
            "STOP\n"
          ]
        }
      ]
    },
    {
      "cell_type": "code",
      "source": [
        "x=input() #1 4 2 3\n",
        "while x!=\"STOP\":\n",
        "  lst=[]\n",
        "  emp=\"\"\n",
        "  for i in range(len(x)):\n",
        "    if x[i]!=\" \":\n",
        "      emp+=x[i]\n",
        "    if x[i]==\" \" or i==(len(x))-1:\n",
        "      lst.append(int(emp))\n",
        "      emp=\"\"\n",
        "  print(lst)\n",
        "  c=0\n",
        "  for i in range(len(lst)-1):\n",
        "    d=abs(lst[i]-lst[i+1])\n",
        "    a=str(d)\n",
        "    b=str(len(lst)-1)\n",
        "    if \"1\"<=a<=b:\n",
        "      c+=1\n",
        "\n",
        "  if c==(len(lst)-1):\n",
        "    print(\"UB Jumper\")\n",
        "  else:\n",
        "    print(\"Not UB Jumper\")\n",
        "  x=input()"
      ],
      "metadata": {
        "id": "ClgEMIMv3xVi",
        "colab": {
          "base_uri": "https://localhost:8080/"
        },
        "outputId": "8be7a763-7bac-4b8a-bc08-b58d4441812d"
      },
      "execution_count": null,
      "outputs": [
        {
          "name": "stdout",
          "output_type": "stream",
          "text": [
            "1 4 2 3\n",
            "[1, 4, 2, 3]\n",
            "UB Jumper\n",
            "2 1 4 6 10\n",
            "[2, 1, 4, 6, 10]\n",
            "UB Jumper\n",
            "STOP\n"
          ]
        }
      ]
    },
    {
      "cell_type": "code",
      "source": [
        "x=input()\n",
        "lst=[]\n",
        "lst.append(int(x))\n",
        "while x!=\"STOP\":\n",
        "    x=input()\n",
        "    if x!=\"STOP\":\n",
        "     lst.append(int(x))\n",
        "print(lst)\n",
        "d={}\n",
        "for i in lst:\n",
        "    if i in d.keys():\n",
        "        d[i]+=1\n",
        "    else:\n",
        "        d[i]=1\n",
        "for i in d:\n",
        "    print(i,\"-\",d[i],\"times\")"
      ],
      "metadata": {
        "colab": {
          "base_uri": "https://localhost:8080/"
        },
        "outputId": "d0261ae6-05fa-4aac-f559-520b35aaa02a",
        "id": "0ZnFyKXsA3xw"
      },
      "execution_count": null,
      "outputs": [
        {
          "output_type": "stream",
          "name": "stdout",
          "text": [
            "1\n",
            "2\n",
            "2\n",
            "3\n",
            "STOP\n",
            "[1, 2, 2, 3]\n",
            "1 - 1 times\n",
            "2 - 2 times\n",
            "3 - 1 times\n"
          ]
        }
      ]
    },
    {
      "cell_type": "code",
      "source": [
        "d={'key1':'value1', 'key2':'value2', 'key3':'value1'}\n",
        "d1={}\n",
        "for k,v in d.items():\n",
        "    if v not in d1.keys():\n",
        "        d1[v]=[k]\n",
        "    else:\n",
        "        d1[v].append(k)\n",
        "\n",
        "print(d1)"
      ],
      "metadata": {
        "colab": {
          "base_uri": "https://localhost:8080/"
        },
        "id": "Uq_eHgGMfmlo",
        "outputId": "aff3d944-e1bf-42a1-dcdd-eb4e6c93c689"
      },
      "execution_count": null,
      "outputs": [
        {
          "output_type": "stream",
          "name": "stdout",
          "text": [
            "{'value1': ['key1', 'key3'], 'value2': ['key2']}\n"
          ]
        }
      ]
    },
    {
      "cell_type": "markdown",
      "source": [
        "Assignment 2 Home Task"
      ],
      "metadata": {
        "id": "LpVNch2puKUH"
      }
    },
    {
      "cell_type": "code",
      "source": [
        "def hospital_fee(**kwargs):\n",
        "    names = list(kwargs.keys())\n",
        "    pay = list(kwargs.values())\n",
        "    for i in range(len(pay)):\n",
        "        for j in range(len(pay)-1):\n",
        "            if pay[j]<pay[j+1]:\n",
        "                temp,temp1=pay[j],names[j]\n",
        "                pay[j],names[j]=pay[j+1],names[j+1]\n",
        "                pay[j+1],names[j+1]=temp,temp1\n",
        "\n",
        "    s=names[0]\n",
        "    for i in range(len(pay)-1):\n",
        "        if pay[i]==pay[i+1]:\n",
        "            s+=\",\"+names[i+1]\n",
        "\n",
        "        else:\n",
        "            break\n",
        "    return pay[0],s\n",
        "max_amount, max_payer = hospital_fee(Neymar =100, Dembele = 500, Reus = 100, Bale = 500)\n",
        "#max_amount, max_payer = hospital_fee(Mashrafe =400, Bumrah = 900, Steyn = 1200, Cummins = 900,Wood = 400, Marsh = 700)\n",
        "print(f\"Highest fee was {max_amount} tk which was paid by {max_payer}\")"
      ],
      "metadata": {
        "colab": {
          "base_uri": "https://localhost:8080/"
        },
        "id": "hqL5wckEeP8O",
        "outputId": "7c35b620-e2df-441d-bf63-42886db556a5"
      },
      "execution_count": null,
      "outputs": [
        {
          "output_type": "stream",
          "name": "stdout",
          "text": [
            "Highest fee was 500 tk which was paid by Dembele,Bale\n"
          ]
        }
      ]
    },
    {
      "cell_type": "code",
      "source": [
        "def is_james_bond(l):\n",
        "    s=\"\"\n",
        "    for i in l:\n",
        "        if i==0 or i==7:\n",
        "            s+=str(i)\n",
        "    if \"007\" in s:\n",
        "        return \"True\"\n",
        "    else:\n",
        "        return \"False\"\n",
        "print(is_james_bond( [1, 9, 0, 0, 7, 5] ))"
      ],
      "metadata": {
        "colab": {
          "base_uri": "https://localhost:8080/"
        },
        "id": "k8QvugeLxMLX",
        "outputId": "3d042a87-11ed-43b6-e3ec-7e2e5242d0e2"
      },
      "execution_count": null,
      "outputs": [
        {
          "output_type": "stream",
          "name": "stdout",
          "text": [
            "True\n"
          ]
        }
      ]
    },
    {
      "cell_type": "code",
      "source": [
        "def assign_students_to_sections(x,*args): #do we have to keep A as 1st key in Dictionary\n",
        "    d={}\n",
        "    for i in args:\n",
        "        s=0\n",
        "        for j in i:\n",
        "            s+=ord(j)\n",
        "        section=s%5\n",
        "        sec=x[section]\n",
        "        if sec not in d:\n",
        "            d[sec]=[i]\n",
        "        else:\n",
        "            d[sec].append(i)\n",
        "    for i in x:\n",
        "        if i not in d:\n",
        "            d[i]=[]\n",
        "    return d\n",
        "print(assign_students_to_sections ('ABCDE','Alice','Bob', 'Charlie', 'David', 'Eve', 'Frank', 'Grace'))"
      ],
      "metadata": {
        "colab": {
          "base_uri": "https://localhost:8080/"
        },
        "id": "vmFXCHp2cgsA",
        "outputId": "a820960d-cc35-43eb-e4c7-2fdf7ac70b4c"
      },
      "execution_count": null,
      "outputs": [
        {
          "output_type": "stream",
          "name": "stdout",
          "text": [
            "{'D': ['Alice', 'David', 'Eve', 'Frank'], 'A': ['Bob'], 'B': ['Charlie'], 'C': ['Grace'], 'E': []}\n"
          ]
        }
      ]
    },
    {
      "cell_type": "code",
      "source": [
        "def username_generator(fn,ln,id,mn=\"\"):\n",
        "    s=\"\"\n",
        "    x=\"\"\n",
        "    if len(fn)>3:\n",
        "        for i in range(3):\n",
        "            if \"a\"<=fn[i]<=\"z\":\n",
        "                s+=chr(ord(fn[i])-32)\n",
        "            else:\n",
        "                s+=fn[i]\n",
        "    else:\n",
        "        for i in range(len(fn)):\n",
        "            if \"a\"<=fn[i]<=\"z\":\n",
        "                s+=chr(ord(fn[i])-32)\n",
        "            else:\n",
        "                s+=fn[i]\n",
        "    if len(ln)>3:\n",
        "        for i in range(-3,0,1):\n",
        "                if \"A\"<=ln[i]<=\"Z\":\n",
        "                    x+=chr(ord(ln[i])+32)\n",
        "                else:\n",
        "                    x+=ln[i]\n",
        "    else:\n",
        "         for i in range(-len(ln),0,1):\n",
        "            if \"A\"<=ln[i]<=\"Z\":\n",
        "                x+=chr(ord(ln[i])+32)\n",
        "            else:\n",
        "                x+=ln[i]\n",
        "    id=str(id)\n",
        "    s+=mn+x+\"_\"+id[-4::1]\n",
        "    return s\n",
        "first_name, middle_name, last_name, student_id= input(\"First Name:\"), input(\"Middle Name:\"), input(\"Last Name:\"), int (input (\"Student ID:\"))\n",
        "print(username_generator (first_name, last_name, student_id))\n",
        "print(username_generator(first_name, last_name, student_id, middle_name))"
      ],
      "metadata": {
        "colab": {
          "base_uri": "https://localhost:8080/"
        },
        "id": "Glk6b59tCrQz",
        "outputId": "d63fb933-2953-427f-da9d-2e743ea4460f"
      },
      "execution_count": null,
      "outputs": [
        {
          "output_type": "stream",
          "name": "stdout",
          "text": [
            "First Name:Jahanara\n",
            "Middle Name:\n",
            "Last Name:Islam\n",
            "Student ID:18101954\n",
            "JAHlam_1954\n",
            "JAHlam_1954\n"
          ]
        }
      ]
    },
    {
      "cell_type": "code",
      "source": [
        "x=\"AB\"\n",
        "for i in range(-(len(x)),0,1):\n",
        "    print(x[i])"
      ],
      "metadata": {
        "colab": {
          "base_uri": "https://localhost:8080/"
        },
        "id": "qB16cCCZpNTt",
        "outputId": "832ea88a-6f4a-4c10-c926-8dc0a2a02a74"
      },
      "execution_count": null,
      "outputs": [
        {
          "output_type": "stream",
          "name": "stdout",
          "text": [
            "A\n",
            "B\n"
          ]
        }
      ]
    },
    {
      "cell_type": "code",
      "source": [
        "def key_generator(*args):\n",
        "    lst=[]\n",
        "    for i in args:\n",
        "        if \"A\"<i[0]<=\"Z\":\n",
        "            s=chr(ord(i[0])+32)\n",
        "        else:\n",
        "            s=i[0]\n",
        "        for j in range(-2,-(len(i)),-1):\n",
        "            p=str(ord(i[j]))\n",
        "            s+=p\n",
        "        if \"a\"<=i[-1]<=\"z\":\n",
        "            s+=chr(ord(i[-1])-32)\n",
        "        else:\n",
        "            s+=i[-1]\n",
        "        lst.append(s)\n",
        "    return lst\n",
        "key_list = key_generator(\"aleX\",\"Bob\", \"Trudy\")\n",
        "print(\"Encrypted Keys:\",key_list)"
      ],
      "metadata": {
        "colab": {
          "base_uri": "https://localhost:8080/"
        },
        "id": "qMNezTKQHnOv",
        "outputId": "1cafa26d-d70c-44f4-abc7-5dba4b04529b"
      },
      "execution_count": null,
      "outputs": [
        {
          "output_type": "stream",
          "name": "stdout",
          "text": [
            "Encrypted Keys: ['a101108X', 'b111B', 't100117114Y']\n"
          ]
        }
      ]
    },
    {
      "cell_type": "code",
      "source": [
        "def playRockPaperScissor(rounds):\n",
        "    import random\n",
        "    a = [\"rock\",\"paper\",\"scissor\"]\n",
        "    c=0\n",
        "    c1=0\n",
        "    for i in range(rounds):\n",
        "        pc = random.choices(a)[0] # why 0 is it a tuple of length 1\n",
        "        print(\"Computer:\",pc)\n",
        "        x=input()\n",
        "        if pc==\"rock\" and x==\"paper\":\n",
        "            c+=1\n",
        "        elif pc==\"rock\" and x==\"scissor\":\n",
        "            c1+=1\n",
        "        elif pc==\"paper\" and x==\"rock\":\n",
        "            c1+=1\n",
        "        elif pc==\"scissor\" and x==\"rock\":\n",
        "            c+=1\n",
        "        elif pc==\"paper\" and x==\"scissor\":\n",
        "            c+=1\n",
        "        elif pc==\"scissor\" and x==\"paper\":\n",
        "            c1+=1\n",
        "    if c>c1:\n",
        "        s=\"You\"\n",
        "    else:\n",
        "        s=\"Computer\"\n",
        "    return c,c1,s\n",
        "p,q,r=playRockPaperScissor(3)\n",
        "print(\"Your Score:\",p)\n",
        "print(\"Computer's Score:\",q)\n",
        "print(f\"{r} has won the game!\")"
      ],
      "metadata": {
        "colab": {
          "base_uri": "https://localhost:8080/"
        },
        "id": "uJks4jcYg7pc",
        "outputId": "06bf014d-708d-421a-a8b0-36dc2af49acc"
      },
      "execution_count": null,
      "outputs": [
        {
          "output_type": "stream",
          "name": "stdout",
          "text": [
            "Computer: scissor\n",
            "paper\n",
            "Computer: scissor\n",
            "paper\n",
            "Computer: scissor\n",
            "paper\n",
            "Your Score: 0\n",
            "Computer's Score: 3\n",
            "Computer has won the game!\n"
          ]
        }
      ]
    },
    {
      "cell_type": "markdown",
      "source": [
        "**Dictionary**"
      ],
      "metadata": {
        "id": "R3MCOf1Hir_c"
      }
    },
    {
      "cell_type": "code",
      "source": [
        "#Task 1\n",
        "d1={'Harry':15, 'Draco':8, 'Nevil':19}\n",
        "d2={'Ginie':18, 'Luna': 14}\n",
        "d3={}\n",
        "for i in d1.keys():\n",
        "    d3[i]=d1[i]\n",
        "for i in d2.keys():\n",
        "    d3[i]=d2[i]\n",
        "print(d3)"
      ],
      "metadata": {
        "colab": {
          "base_uri": "https://localhost:8080/"
        },
        "id": "sja1gwBGiu7x",
        "outputId": "39315cd3-97d5-48a3-8068-08f135355f24"
      },
      "execution_count": null,
      "outputs": [
        {
          "output_type": "stream",
          "name": "stdout",
          "text": [
            "{'Harry': 15, 'Draco': 8, 'Nevil': 19, 'Ginie': 18, 'Luna': 14}\n"
          ]
        }
      ]
    },
    {
      "cell_type": "code",
      "source": [
        "#Task 2\n",
        "d={}\n",
        "for i in range(3):\n",
        "    x=input()\n",
        "    y=int(input())\n",
        "    d[x]=y\n",
        "s=0\n",
        "for i in d.values():\n",
        "    s+=i\n",
        "a=int(s/3)\n",
        "print(\"Average is\",a)"
      ],
      "metadata": {
        "colab": {
          "base_uri": "https://localhost:8080/"
        },
        "id": "VXdT62QbjsjR",
        "outputId": "2884c166-b5cc-490c-a1f7-20dc37ddf546"
      },
      "execution_count": null,
      "outputs": [
        {
          "output_type": "stream",
          "name": "stdout",
          "text": [
            "Jon\n",
            "100\n",
            "Dan\n",
            "200\n",
            "Rob\n",
            "300\n",
            "Average is 200\n"
          ]
        }
      ]
    },
    {
      "cell_type": "code",
      "source": [
        "#task 3\n",
        "exam_marks = {'Cierra Vega': 175, 'Alden Cantrell': 200, 'Kierra Gentry': 165, 'Pierre Cox': 190}\n",
        "x=int(input())\n",
        "d={}\n",
        "for i in exam_marks.keys():\n",
        "    if exam_marks[i]>=x:\n",
        "      d[i]=exam_marks[i]\n",
        "print(d)"
      ],
      "metadata": {
        "colab": {
          "base_uri": "https://localhost:8080/"
        },
        "id": "mRLy7-4skkpW",
        "outputId": "b85a98eb-07cc-41f7-e783-4a0fda7da2a9"
      },
      "execution_count": null,
      "outputs": [
        {
          "output_type": "stream",
          "name": "stdout",
          "text": [
            "190\n",
            "{'Alden Cantrell': 200, 'Pierre Cox': 190}\n"
          ]
        }
      ]
    },
    {
      "cell_type": "code",
      "source": [
        "#Task 4\n",
        "d1={'sci fi': 5, 'mystery': 3, 'horror': 14, 'young_adult': 2, 'adventure':9}\n",
        "h=0 #hbe? otherwise 1st value k kivabe store korbo\n",
        "for i in d1.keys():\n",
        "    if d1[i]>h:\n",
        "        h=d1[i]\n",
        "        hk=i\n",
        "print(f\"The highest selling book genre is '{hk}' and the number of books sold are {h}.\")"
      ],
      "metadata": {
        "colab": {
          "base_uri": "https://localhost:8080/"
        },
        "id": "ZGp_XN2soFKj",
        "outputId": "25e3e88b-585a-496b-de0e-d6cd6fd5a196"
      },
      "execution_count": null,
      "outputs": [
        {
          "output_type": "stream",
          "name": "stdout",
          "text": [
            "The highest selling book genre is 'horror' and the number of books sold are 14.\n"
          ]
        }
      ]
    },
    {
      "cell_type": "code",
      "source": [
        "#Task 5\n",
        "a=\"Python programming is fun\"\n",
        "d={}\n",
        "for i in a:\n",
        "   if i!=\" \":\n",
        "    if i in d.keys():\n",
        "        d[i]+=1\n",
        "    else:\n",
        "        d[i]=1\n",
        "print(d)"
      ],
      "metadata": {
        "colab": {
          "base_uri": "https://localhost:8080/"
        },
        "outputId": "2e4bad11-fa19-4fa0-f354-c4d0df179e71",
        "id": "iOV4xwkokyJe"
      },
      "execution_count": null,
      "outputs": [
        {
          "output_type": "stream",
          "name": "stdout",
          "text": [
            "{'P': 1, 'y': 1, 't': 1, 'h': 1, 'o': 2, 'n': 3, 'p': 1, 'r': 2, 'g': 2, 'a': 1, 'm': 2, 'i': 2, 's': 1, 'f': 1, 'u': 1}\n"
          ]
        }
      ]
    },
    {
      "cell_type": "code",
      "source": [
        "#Task 6\n",
        "dict_1 = {'A': [1, 2, 3], 'b': ['1', '2'], \"c\": [4, 5, 6, 7]}\n",
        "c=0\n",
        "for i in dict_1.values():\n",
        "    for j in i:\n",
        "        c+=1\n",
        "print(c)"
      ],
      "metadata": {
        "id": "vFSqXeM5rieL",
        "colab": {
          "base_uri": "https://localhost:8080/"
        },
        "outputId": "cabc6862-49ff-49b2-d115-528fca90c449"
      },
      "execution_count": null,
      "outputs": [
        {
          "output_type": "stream",
          "name": "stdout",
          "text": [
            "9\n"
          ]
        }
      ]
    },
    {
      "cell_type": "code",
      "source": [
        "#Task 7\n",
        "my_dictionary = {'c1':'Red', 'c2':'Green', 'c3':None, 'd4':'Blue', 'a5':None}\n",
        "d={}\n",
        "for i in my_dictionary.keys():\n",
        "    if my_dictionary[i]!=None:\n",
        "      d[i]=my_dictionary [i]\n",
        "print(d)"
      ],
      "metadata": {
        "colab": {
          "base_uri": "https://localhost:8080/"
        },
        "id": "AsBMKKtDsE-s",
        "outputId": "9f5576fd-2613-4be4-e876-7a21ca607520"
      },
      "execution_count": null,
      "outputs": [
        {
          "output_type": "stream",
          "name": "stdout",
          "text": [
            "{'c1': 'Red', 'c2': 'Green', 'd4': 'Blue'}\n"
          ]
        }
      ]
    },
    {
      "cell_type": "code",
      "source": [
        "#Task 8\n",
        "dict_1 = {'a' : 6, 'b' : 7, 'c' : 9, 'd' : 8, 'e' : 11, 'f' : 12, 'g' : 13}\n",
        "li=int(input())\n",
        "ue=int(input())\n",
        "lst=[]\n",
        "dict_2={}\n",
        "for i in dict_1.values():\n",
        "    lst.append(i)\n",
        "v=0\n",
        "for i in dict_1.keys():\n",
        "    if lst[v]>=li and lst[v]<ue:\n",
        "        dict_2[i]=lst[v]\n",
        "    v+=1\n",
        "print(dict_2)\n"
      ],
      "metadata": {
        "colab": {
          "base_uri": "https://localhost:8080/"
        },
        "id": "bOvzhA2XtAqz",
        "outputId": "617b456d-7ad3-4cd9-b531-ea9eff91eb06"
      },
      "execution_count": null,
      "outputs": [
        {
          "output_type": "stream",
          "name": "stdout",
          "text": [
            "14\n",
            "18\n",
            "{}\n"
          ]
        }
      ]
    },
    {
      "cell_type": "markdown",
      "source": [
        "Assignment-**1** ***String***"
      ],
      "metadata": {
        "id": "jLF_8X1izTis"
      }
    },
    {
      "cell_type": "code",
      "source": [
        "x=input()\n",
        "c1=0\n",
        "c2=0\n",
        "for i in range(len(x)):\n",
        "    if \"A\"<=x[i]<=\"Z\":\n",
        "        c1+=1\n",
        "    else:\n",
        "        c2+=1\n",
        "s=\"\"\n",
        "if  c1>c2:\n",
        "    for i in range (len(x)):\n",
        "        if \"a\"<=x[i]<=\"z\":\n",
        "            s+=chr(ord(x[i])-32)\n",
        "        else:\n",
        "            s+=x[i]\n",
        "else:\n",
        "     for i in range (len(x)):\n",
        "        if \"A\"<=x[i]<=\"Z\":\n",
        "            s+=chr(ord(x[i])+32)\n",
        "        else:\n",
        "            s+=x[i]\n",
        "print(s)"
      ],
      "metadata": {
        "colab": {
          "base_uri": "https://localhost:8080/"
        },
        "id": "U-xDs3xXz7Zp",
        "outputId": "4809164b-66c9-48a9-d25f-240a475c1acc"
      },
      "execution_count": null,
      "outputs": [
        {
          "output_type": "stream",
          "name": "stdout",
          "text": [
            "BaNaNa\n",
            "banana\n"
          ]
        }
      ]
    },
    {
      "cell_type": "code",
      "source": [
        "x=input()\n",
        "c=0\n",
        "c1=0\n",
        "for i in range(len(x)):\n",
        "    if \"0\"<=x[i]<=\"9\":\n",
        "        c+=1\n",
        "    else:\n",
        "        c1+=1\n",
        "if c==len(x):\n",
        "    print(\"NUMBER\")\n",
        "elif c1==len(x):\n",
        "    print(\"WORD\")\n",
        "else:\n",
        "    print(\"MIXED\")"
      ],
      "metadata": {
        "colab": {
          "base_uri": "https://localhost:8080/"
        },
        "id": "Zl0nmX842lm8",
        "outputId": "e94c05f4-be9e-4241-ebe9-f9242da511bf"
      },
      "execution_count": null,
      "outputs": [
        {
          "output_type": "stream",
          "name": "stdout",
          "text": [
            "123asd\n",
            "MIXED\n"
          ]
        }
      ]
    },
    {
      "cell_type": "code",
      "source": [
        "x=input()\n",
        "for i in range(len(x)-1):\n",
        "    if \"A\"<=x[i]<=\"Z\" and  \"a\"<=x[i+1]<=\"z\":\n",
        "        s=\"\"\n",
        "        for j in range(i+1,len(x)):\n",
        "            if \"a\"<=x[j]<=\"z\":\n",
        "                s+=x[j]\n",
        "            else:\n",
        "                print(s)\n",
        "    elif  \"A\"<=x[i]<=\"Z\" and  \"A\"<=x[i+1]<=\"Z\":\n",
        "        print(\"BLANK\")"
      ],
      "metadata": {
        "colab": {
          "base_uri": "https://localhost:8080/"
        },
        "id": "hQYucfG25dJx",
        "outputId": "3ea2842d-9dec-448e-8ded-ae7b9dce981c"
      },
      "execution_count": null,
      "outputs": [
        {
          "output_type": "stream",
          "name": "stdout",
          "text": [
            "samIA\n",
            "BLANK\n"
          ]
        }
      ]
    },
    {
      "cell_type": "code",
      "source": [
        "x=input()\n",
        "y=input()\n",
        "s=\"\"\n",
        "for i in range(len(x)):\n",
        "    if x[i] in y:\n",
        "        s+=x[i]\n",
        "for i in range(len(y)):\n",
        "    if y[i] in x:\n",
        "        s+=y[i]\n",
        "\n",
        "if s==\"\":\n",
        "    print(\"Nothing in common.\")\n",
        "else:\n",
        "    print(s)"
      ],
      "metadata": {
        "colab": {
          "base_uri": "https://localhost:8080/"
        },
        "id": "ijzyHTWS9yys",
        "outputId": "853c71ed-43b2-4bd4-f2fb-2a2855d59fc2"
      },
      "execution_count": null,
      "outputs": [
        {
          "output_type": "stream",
          "name": "stdout",
          "text": [
            "harry\n",
            "hermoine\n",
            "hrrhr\n"
          ]
        }
      ]
    },
    {
      "cell_type": "code",
      "source": [
        "x=input() # comma kivbe shorabo\n",
        "c1=0\n",
        "c2=0\n",
        "c3=0\n",
        "c4=0\n",
        "for i in range(len(x)):\n",
        "    if \"A\"<=x[i]<=\"Z\":\n",
        "        c1+=1\n",
        "    elif   \"a\"<=x[i]<=\"z\":\n",
        "        c2+=1\n",
        "    elif  \"0\"<=x[i]<=\"9\":\n",
        "        c3+=1\n",
        "    else:\n",
        "        c4+=1\n",
        "if c1>0 and c2>0 and c3>0 and c4>0:\n",
        "    print(\"OK\")\n",
        "if c1==0:\n",
        "    print(\"Uppercase character missing\",end=\",\")\n",
        "if c2==0:\n",
        "    print(\"Lowercase character missing\",end=\",\")\n",
        "if c3==0:\n",
        "    print(\"Digit missing\",end=\",\")\n",
        "if c4==0:\n",
        "    print(\"Special character missing\",end=\",\")"
      ],
      "metadata": {
        "colab": {
          "base_uri": "https://localhost:8080/"
        },
        "id": "ltOQ2lK_98Si",
        "outputId": "85f3a5cb-82d3-4052-bd9d-a901f0705807"
      },
      "execution_count": null,
      "outputs": [
        {
          "output_type": "stream",
          "name": "stdout",
          "text": [
            "1a@\n",
            "Uppercase character missing,"
          ]
        }
      ]
    },
    {
      "cell_type": "code",
      "source": [
        "lst=[0, 0, 0, 0, 0]\n",
        "for i in range(5):\n",
        "  n=int(input())\n",
        "  lst[i]=n\n",
        "  print(lst)"
      ],
      "metadata": {
        "colab": {
          "base_uri": "https://localhost:8080/"
        },
        "id": "SLroVA-IjWSM",
        "outputId": "17a8aba6-bbf9-41b3-a287-dec83d8e4cc4"
      },
      "execution_count": null,
      "outputs": [
        {
          "output_type": "stream",
          "name": "stdout",
          "text": [
            "1\n",
            "[1, 0, 0, 0, 0]\n",
            "2\n",
            "[1, 2, 0, 0, 0]\n",
            "3\n",
            "[1, 2, 3, 0, 0]\n",
            "4\n",
            "[1, 2, 3, 4, 0]\n",
            "5\n",
            "[1, 2, 3, 4, 5]\n"
          ]
        }
      ]
    },
    {
      "cell_type": "code",
      "source": [
        "print(ord(\"s\")-27+10)"
      ],
      "metadata": {
        "colab": {
          "base_uri": "https://localhost:8080/"
        },
        "id": "D7n4Ph7MFk3L",
        "outputId": "7c32a846-8131-41e2-fe7d-d87ebdaf8764"
      },
      "execution_count": null,
      "outputs": [
        {
          "output_type": "stream",
          "name": "stdout",
          "text": [
            "98\n"
          ]
        }
      ]
    },
    {
      "cell_type": "code",
      "source": [
        "a=[-2, 45, 0, 11, -9]\n",
        "for i in range(len(a)):\n",
        "    for j in range(len(a)-1-i):\n",
        "        if a[j]>a[j+1]:\n",
        "            temp=a[j]\n",
        "            a[j]=a[j+1]\n",
        "            a[j+1]=temp\n",
        "print(a)"
      ],
      "metadata": {
        "colab": {
          "base_uri": "https://localhost:8080/"
        },
        "id": "isyxcnx5hdJ0",
        "outputId": "98b10486-c5aa-4f30-b39b-b8d8fd57ac34"
      },
      "execution_count": null,
      "outputs": [
        {
          "output_type": "stream",
          "name": "stdout",
          "text": [
            "[-9, -2, 0, 11, 45]\n"
          ]
        }
      ]
    },
    {
      "cell_type": "code",
      "source": [
        "#A=np.array( [[0,5],[1,2],[3,4]] )\n",
        "#B=np.array( [[3,2,1],[1,2,4]] )\n",
        "#A=np.array( [[0,5],[1,2],[3,4]] )\n",
        "#B=np.array( [[3],[2]] )\n",
        "A=np.array( [[3,4],\n",
        "                     [4,5],\n",
        "                     [10,11]] )\n",
        "B=np.array( [ [3],\n",
        "                      [2] ])\n",
        "row1,row2=A.shape[0],B.shape[0]\n",
        "col1,col2=A.shape[1],B.shape[1]\n",
        "C=np.zeros(shape=(row1,col2),dtype=int)\n",
        "for i in range(row1):\n",
        "    for j in range(col2):\n",
        "        s=0\n",
        "        for k in range(row2):  # 3x3 * 3x4=3x4   3x2 * 2x1=3x1\n",
        "            s+=A[i][k]*B[k][j]    #1st er col 2nd tar row r same hbe for multiplication r k te jkono\n",
        "        C[i][j]=s                     #same value nilei hbe r i j according to 3rd matrix er shape\n",
        "print(C)"
      ],
      "metadata": {
        "colab": {
          "base_uri": "https://localhost:8080/"
        },
        "id": "3KWRzIHLq5ff",
        "outputId": "d5d2aa4c-55cf-41d0-a850-1f0d95c16cfb"
      },
      "execution_count": null,
      "outputs": [
        {
          "output_type": "stream",
          "name": "stdout",
          "text": [
            "[[17]\n",
            " [22]\n",
            " [52]]\n"
          ]
        }
      ]
    },
    {
      "cell_type": "code",
      "source": [
        "def reverseArray(arr):\n",
        "    j=-1\n",
        "    for i in range(arr.size//2):\n",
        "        t=arr[i]\n",
        "        arr[i]=arr[j]\n",
        "        arr[j]=t\n",
        "        j-=1\n",
        "    return arr\n",
        "arr1 = np.array([10, 12, 20, 5, 7])\n",
        "arr1 = reverseArray(arr1)\n",
        "print(arr1)"
      ],
      "metadata": {
        "colab": {
          "base_uri": "https://localhost:8080/"
        },
        "id": "jlq58FFO2dr2",
        "outputId": "922d4c0f-c9bc-44fd-cdbe-190e14b0cfb5"
      },
      "execution_count": null,
      "outputs": [
        {
          "output_type": "stream",
          "name": "stdout",
          "text": [
            "[ 7  5 20 12 10]\n"
          ]
        }
      ]
    },
    {
      "cell_type": "code",
      "source": [
        "def printPairs(arr,n):\n",
        "    for i in range(len(arr)):\n",
        "        a=arr[i]\n",
        "        for j in range(i+1,len(arr)):\n",
        "            s=a+arr[j]\n",
        "            if s==n:\n",
        "                print(f\"{a}, {arr[j]}\")\n",
        "arr1 = np.array([7,8,10,5,3,4,2])\n",
        "printPairs(arr1, 15)\n",
        "print()\n",
        "arr2 = np.array([2,-3,1,9,4,5])\n",
        "printPairs(arr2, 6)"
      ],
      "metadata": {
        "colab": {
          "base_uri": "https://localhost:8080/"
        },
        "id": "peBkswEOTOis",
        "outputId": "bb8784de-531b-438e-a3e7-b9268e35f1f6"
      },
      "execution_count": null,
      "outputs": [
        {
          "output_type": "stream",
          "name": "stdout",
          "text": [
            "7, 8\n",
            "10, 5\n",
            "\n",
            "2, 4\n",
            "-3, 9\n",
            "1, 5\n"
          ]
        }
      ]
    },
    {
      "cell_type": "code",
      "source": [
        "vec1 = np.array([1,2,3])\n",
        "vec2 = np.array([4,5,6])\n",
        "sum=0\n",
        "for i in range(len(vec1)):\n",
        "  a=vec1[i]*vec2[i]\n",
        "  sum+=a\n",
        "print(\"Dot Product:\",sum)\n",
        "for i in range(len(vec1)):\n",
        "  if sum%2==0:\n",
        "        if i%2==0:\n",
        "            temp=vec1[i]\n",
        "            vec1[i]=vec2[i]\n",
        "            vec2[i]=temp\n",
        "  else:\n",
        "        if i%2!=0:\n",
        "            temp=vec1[i]\n",
        "            vec1[i]=vec2[i]\n",
        "            vec2[i]=temp\n",
        "print(\"After Swapping:\")\n",
        "print(vec1)\n",
        "print(vec2)"
      ],
      "metadata": {
        "colab": {
          "base_uri": "https://localhost:8080/"
        },
        "id": "5dnM16Aq2ENa",
        "outputId": "64d64212-bfff-4249-f684-6b310a994127"
      },
      "execution_count": null,
      "outputs": [
        {
          "output_type": "stream",
          "name": "stdout",
          "text": [
            "Dot Product: 32\n",
            "After Swapping:\n",
            "[4 2 6]\n",
            "[1 5 3]\n"
          ]
        }
      ]
    },
    {
      "cell_type": "code",
      "source": [
        "#Selection Sort (bubble sort er niom e korle hbe na kintu!!!)\n",
        "N=int(input())\n",
        "a=np.zeros(N,dtype=int)\n",
        "for i in range(N):\n",
        "  a[i]=int(input())\n",
        "print(a)\n",
        "for i in range(N):\n",
        "    min=i\n",
        "    for j in range(i+1,N):\n",
        "            if a[j]>a[min]:\n",
        "                min=j\n",
        "    temp=a[i]\n",
        "    a[i]=a[min]\n",
        "    a[min]=temp\n",
        "print(a)"
      ],
      "metadata": {
        "colab": {
          "base_uri": "https://localhost:8080/"
        },
        "id": "i5EYDZCmY_Yt",
        "outputId": "8158ad61-5820-4f9b-c830-6aee0cae9e6b"
      },
      "execution_count": null,
      "outputs": [
        {
          "output_type": "stream",
          "name": "stdout",
          "text": [
            "3\n",
            "1\n",
            "2\n",
            "3\n",
            "[1 2 3]\n",
            "[3 2 1]\n"
          ]
        }
      ]
    },
    {
      "cell_type": "code",
      "source": [
        "import numpy as np\n",
        "def flatten(arr):\n",
        "  arr1=np.zeros(arr.size,dtype=int) #local hote hbe\n",
        "  row=arr.shape[0]\n",
        "  col=arr.shape[1]\n",
        "  k=0\n",
        "  for i in range(row):\n",
        "    for j in range(col):\n",
        "       arr1[k]=arr[i][j]\n",
        "       k+=1\n",
        "  return arr1\n",
        "arr1 = np.array([[1, 2, 3],\n",
        "                 [3, 4, 5]])\n",
        "arr2 = flatten(arr1)\n",
        "print(arr2)"
      ],
      "metadata": {
        "colab": {
          "base_uri": "https://localhost:8080/"
        },
        "id": "vExkMIT61bv1",
        "outputId": "36c443a4-c988-41cb-92d2-df42fd7f0b9a"
      },
      "execution_count": null,
      "outputs": [
        {
          "output_type": "stream",
          "name": "stdout",
          "text": [
            "[1 2 3 3 4 5]\n"
          ]
        }
      ]
    },
    {
      "cell_type": "code",
      "source": [
        "A = np.array([  [1,  0,  0,  0],\n",
        "                        [0,  1,  0,  0],\n",
        "                        [0,  0,  1,  1],\n",
        "                        [0,  0,  0,  1] ])\n",
        "all=False\n",
        "for i in range(A.shape[0]):\n",
        "    for j in range(A.shape[1]):\n",
        "        if (i==j and A[i][j]==1):\n",
        "            all=True\n",
        "        if (i!=j and A[i][j]==0):\n",
        "            all=True\n",
        "        else:\n",
        "            all=False\n",
        "            break\n",
        "    if all==False:\n",
        "        print(\"Not an Identity Matrix\")\n",
        "        break\n",
        "if all==True:\n",
        "    print(\"Identity Matrix\")"
      ],
      "metadata": {
        "colab": {
          "base_uri": "https://localhost:8080/"
        },
        "id": "cHjw1XFH5x9p",
        "outputId": "e246d546-60f4-4806-9bf5-dccf569ad57f"
      },
      "execution_count": null,
      "outputs": [
        {
          "output_type": "stream",
          "name": "stdout",
          "text": [
            "Not an Identity Matrix\n"
          ]
        }
      ]
    },
    {
      "cell_type": "code",
      "source": [
        "for i in range(-6,0,1):\n",
        "    print(i)"
      ],
      "metadata": {
        "colab": {
          "base_uri": "https://localhost:8080/"
        },
        "id": "zKkntGrEK5Qh",
        "outputId": "7d0a541a-3257-49b2-8c9a-21f0609beb15"
      },
      "execution_count": null,
      "outputs": [
        {
          "output_type": "stream",
          "name": "stdout",
          "text": [
            "-6\n",
            "-5\n",
            "-4\n",
            "-3\n",
            "-2\n",
            "-1\n"
          ]
        }
      ]
    },
    {
      "cell_type": "code",
      "source": [
        "for i in range(5):\n",
        "   print(\".\",end=\"\")"
      ],
      "metadata": {
        "colab": {
          "base_uri": "https://localhost:8080/"
        },
        "id": "gk_LXLYZQj_R",
        "outputId": "482b1165-b136-4be4-db00-dd26dd683b89"
      },
      "execution_count": null,
      "outputs": [
        {
          "output_type": "stream",
          "name": "stdout",
          "text": [
            "....."
          ]
        }
      ]
    },
    {
      "cell_type": "code",
      "source": [
        "n=\"789\"\n",
        "for i in range(len(n)-1,-1,-1):\n",
        "    print(n[i])"
      ],
      "metadata": {
        "colab": {
          "base_uri": "https://localhost:8080/"
        },
        "id": "9h5d_E33T91h",
        "outputId": "744bd151-807f-44f2-eb4a-1f09a5e9df36"
      },
      "execution_count": null,
      "outputs": [
        {
          "output_type": "stream",
          "name": "stdout",
          "text": [
            "9\n",
            "8\n",
            "7\n"
          ]
        }
      ]
    },
    {
      "cell_type": "code",
      "source": [
        "print(1234%10)"
      ],
      "metadata": {
        "colab": {
          "base_uri": "https://localhost:8080/"
        },
        "id": "Wh7fyGXCVGCl",
        "outputId": "9f119215-8a07-4762-d607-6fdaa0f230a9"
      },
      "execution_count": null,
      "outputs": [
        {
          "output_type": "stream",
          "name": "stdout",
          "text": [
            "4\n"
          ]
        }
      ]
    },
    {
      "cell_type": "code",
      "source": [
        "def reverse(n):\n",
        "    if n==0:\n",
        "        print()\n",
        "    else:\n",
        "        print(n%10)\n",
        "        reverse(n//10)\n",
        "reverse(649)"
      ],
      "metadata": {
        "colab": {
          "base_uri": "https://localhost:8080/"
        },
        "id": "nNrgbYy3V-PW",
        "outputId": "6cee13e4-f418-4acd-99a4-7010b7547c62"
      },
      "execution_count": null,
      "outputs": [
        {
          "output_type": "stream",
          "name": "stdout",
          "text": [
            "9\n",
            "4\n",
            "6\n",
            "\n"
          ]
        }
      ]
    },
    {
      "cell_type": "code",
      "source": [
        "def  power(a,n):\n",
        "    if n==0:\n",
        "        return 1\n",
        "    else:\n",
        "        return a*power(a,n-1)\n",
        "print(power(3,5))"
      ],
      "metadata": {
        "colab": {
          "base_uri": "https://localhost:8080/"
        },
        "id": "sgKCMrNmX3Za",
        "outputId": "d7acb784-e3dd-49d2-c848-143453b214f9"
      },
      "execution_count": null,
      "outputs": [
        {
          "output_type": "stream",
          "name": "stdout",
          "text": [
            "243\n"
          ]
        }
      ]
    },
    {
      "cell_type": "code",
      "source": [
        "def sequence(n):\n",
        "    if n==0:\n",
        "        return 0\n",
        "    elif n%2==0:\n",
        "        return sequence(n-1)-n\n",
        "    elif n%2!=0:\n",
        "        return sequence(n-1)+n\n",
        "print(sequence(10))"
      ],
      "metadata": {
        "colab": {
          "base_uri": "https://localhost:8080/"
        },
        "id": "Z2GL0zVqY8c0",
        "outputId": "475fb1c3-d952-4734-9b25-9db2035db2fa"
      },
      "execution_count": null,
      "outputs": [
        {
          "output_type": "stream",
          "name": "stdout",
          "text": [
            "-5\n"
          ]
        }
      ]
    },
    {
      "cell_type": "code",
      "source": [
        "print([\"a\"]+[6])"
      ],
      "metadata": {
        "colab": {
          "base_uri": "https://localhost:8080/"
        },
        "id": "4Xz1y1Csj2Pn",
        "outputId": "78091ce2-7107-47ba-e158-670908476384"
      },
      "execution_count": null,
      "outputs": [
        {
          "output_type": "stream",
          "name": "stdout",
          "text": [
            "['a', 6]\n"
          ]
        }
      ]
    },
    {
      "cell_type": "code",
      "source": [
        "def nested(lst):\n",
        "    for i in range(len(lst)):\n",
        "        if type(lst[i])==list:\n",
        "            nested(lst[i])\n",
        "        else:\n",
        "            lt.append(lst[i])\n",
        "    return lt\n",
        "lt=[]\n",
        "print(nested([\"start\", 10.6, [4, 2, [11, [9, \"mid\", 3, [1, 0], 6]], 8], \"Done\"]))"
      ],
      "metadata": {
        "colab": {
          "base_uri": "https://localhost:8080/"
        },
        "id": "nr9hHfApucQI",
        "outputId": "5fdca42a-64f1-48cb-a434-dbc125cccf67"
      },
      "execution_count": null,
      "outputs": [
        {
          "output_type": "stream",
          "name": "stdout",
          "text": [
            "['start', 10.6, 4, 2, 11, 9, 'mid', 3, 1, 0, 6, 8, 'Done']\n"
          ]
        }
      ]
    },
    {
      "cell_type": "code",
      "source": [
        "b=\"[1, 2, 3, -4, 5]\"\n",
        "a=b[1:-1:1]\n",
        "lst=[]\n",
        "emp=\"\"\n",
        "for i in range(len(a)):\n",
        "    if a[i]!=\",\" and a[i]!=\" \":\n",
        "        emp+=a[i]\n",
        "    if a[i]==\",\" or i==(len(a)-1):\n",
        "        lst.append(int(emp))\n",
        "        emp=\"\"\n",
        "print(lst)\n",
        "lt=[]\n",
        "for i in range(-1,-len(lst)-1,-1):\n",
        "    lt.append(lst[i])\n",
        "print(lt)"
      ],
      "metadata": {
        "colab": {
          "base_uri": "https://localhost:8080/"
        },
        "id": "xR2yXH0Vm4Zw",
        "outputId": "4cb0b9df-4355-4f4c-f7b8-000a9b6150c0"
      },
      "execution_count": null,
      "outputs": [
        {
          "output_type": "stream",
          "name": "stdout",
          "text": [
            "[1, 2, 3, -4, 5]\n",
            "[5, -4, 3, 2, 1]\n"
          ]
        }
      ]
    },
    {
      "cell_type": "markdown",
      "source": [
        "Important problems"
      ],
      "metadata": {
        "id": "O4aYZXCJD_2o"
      }
    },
    {
      "cell_type": "code",
      "source": [
        "# using .count\n",
        "def function_name(a_list):\n",
        "  new_list=[]\n",
        "  for i in range(len(a_list)):\n",
        "     if new_list.count(a_list[i])<2:\n",
        "       new_list.append(a_list[i])\n",
        "  return new_list\n",
        "function_name([1,2,3,3,3,3,4,5,8,8,])"
      ],
      "metadata": {
        "colab": {
          "base_uri": "https://localhost:8080/"
        },
        "outputId": "ee8189c1-aece-439a-f567-34e57c8b814e",
        "id": "p7XGrMCM-N5s"
      },
      "execution_count": null,
      "outputs": [
        {
          "output_type": "execute_result",
          "data": {
            "text/plain": [
              "[1, 2, 3, 3, 4, 5, 8, 8]"
            ]
          },
          "metadata": {},
          "execution_count": 23
        }
      ]
    },
    {
      "cell_type": "code",
      "source": [
        "def function_name(a_list):\n",
        "  new_list=[]\n",
        "  for i in range(len(a_list)):\n",
        "       c=0\n",
        "       for j in range(len(new_list)):\n",
        "        if new_list[j]==a_list[i]:\n",
        "            c+=1\n",
        "       if c<2:\n",
        "        new_list.append(a_list[i])\n",
        "  return new_list\n",
        "function_name([1,2,3,3,3,3,3,4,5,8,8,])"
      ],
      "metadata": {
        "colab": {
          "base_uri": "https://localhost:8080/"
        },
        "id": "eBjTX31xNBWM",
        "outputId": "5fd48100-5e6c-41c2-dae0-b90692f58cd8"
      },
      "execution_count": null,
      "outputs": [
        {
          "output_type": "execute_result",
          "data": {
            "text/plain": [
              "[1, 2, 3, 3, 4, 5, 8, 8]"
            ]
          },
          "metadata": {},
          "execution_count": 9
        }
      ]
    },
    {
      "cell_type": "code",
      "source": [
        "#task 13 input e eki sathe integer r float\n",
        "#float e nibo erkm mix thakle\n",
        "x=input()\n",
        "y=float(input())\n",
        "z=float(input())\n",
        "\n",
        "def function_name(a,b,c):\n",
        "  if x==\"+\":\n",
        "    result=y+z\n",
        "  elif x==\"-\":\n",
        "    result=y-z\n",
        "  elif x==\"/\":\n",
        "    result=y/z\n",
        "  elif x==\"*\":\n",
        "   result=y*z\n",
        "  return result\n",
        "\n",
        "print(function_name(x,y,z))"
      ],
      "metadata": {
        "id": "WDPRwTfR_L2Y"
      },
      "execution_count": null,
      "outputs": []
    },
    {
      "cell_type": "code",
      "source": [
        "def one_call(n):\n",
        "    print(\"In One call\")\n",
        "    if n%3==0:\n",
        "        return n+7\n",
        "        print(\"one Call Done\")\n",
        "    return n-9\n",
        "    return 12 #lge ni?\n",
        "def two_call(a,b=20,c=\"sayounara\"):\n",
        "    a+=b//2+6\n",
        "    if type(c)==str:\n",
        "        b=c[b]+c[len(c)-b]\n",
        "    else:\n",
        "        b = (b+c)%3\n",
        "    result =one_call(a)\n",
        "    print(result)\n",
        "    if type(b)==str:\n",
        "        return b,c\n",
        "\n",
        "x,y=two_call(11,3)\n",
        "t=two_call(3,8,12)\n",
        "print(t)\n",
        "print(x,y)"
      ],
      "metadata": {
        "colab": {
          "base_uri": "https://localhost:8080/"
        },
        "outputId": "f53de464-defa-439f-f78f-75301b0c50ec",
        "id": "kqWuuUZm9s5v"
      },
      "execution_count": null,
      "outputs": [
        {
          "output_type": "stream",
          "name": "stdout",
          "text": [
            "In One call\n",
            "25\n",
            "In One call\n",
            "4\n",
            "None\n",
            "oa sayounara\n"
          ]
        }
      ]
    },
    {
      "cell_type": "code",
      "source": [
        "import numpy as np #hocche na\n",
        "#evabe hbe na ekhane A i change hye jacche .copy diei hbe khli slice dieo hbe na\n",
        "A= np.array([[4,3,2],[7,1,5],[-1,0,10]])\n",
        "temp=A[1]\n",
        "A[1]=A[2]\n",
        "A[2]=temp\n",
        "\n",
        "print(A)"
      ],
      "metadata": {
        "colab": {
          "base_uri": "https://localhost:8080/"
        },
        "id": "G2mnOZMwor2x",
        "outputId": "5b6ded80-262c-494c-df07-e4fab20e1d26"
      },
      "execution_count": null,
      "outputs": [
        {
          "output_type": "stream",
          "name": "stdout",
          "text": [
            "[[ 4  3  2]\n",
            " [-1  0 10]\n",
            " [-1  0 10]]\n"
          ]
        }
      ]
    },
    {
      "cell_type": "code",
      "source": [
        "#s k r ki korle use korte parbo?\n",
        "# rekta function use korbo\n",
        "s=0\n",
        "def sum(lst):\n",
        "    global s\n",
        "    for i in lst:\n",
        "        if type(i)==list:\n",
        "            sum(i)\n",
        "        else:\n",
        "            s+=i\n",
        "    return s\n",
        "print(sum([ 4, [2, 5], [ 3, [1], 7 ], [ [ 4, [7, 6] ], 2], [8, 10] ]))"
      ],
      "metadata": {
        "colab": {
          "base_uri": "https://localhost:8080/"
        },
        "id": "-8RdpXCmUJtQ",
        "outputId": "c00fc8ec-b4c7-400d-c06d-96b770394430"
      },
      "execution_count": null,
      "outputs": [
        {
          "output_type": "stream",
          "name": "stdout",
          "text": [
            "59\n"
          ]
        }
      ]
    },
    {
      "cell_type": "code",
      "source": [
        "def list_sum(n_list, start, end):\n",
        "    if start > end:\n",
        "        return 0\n",
        "    else:\n",
        "        return n_list[start] + list_sum(n_list, start+1, end)\n",
        "print(list_sum([20, 43, 150, 24], 0, 3))"
      ],
      "metadata": {
        "colab": {
          "base_uri": "https://localhost:8080/"
        },
        "id": "h3kvXwMoT8vs",
        "outputId": "3f34ec5d-dced-4427-8b85-d228b864f9e6"
      },
      "execution_count": null,
      "outputs": [
        {
          "output_type": "stream",
          "name": "stdout",
          "text": [
            "237\n"
          ]
        }
      ]
    },
    {
      "cell_type": "code",
      "source": [
        "def list_sum(n_list, start, end):\n",
        "    if start <= end:\n",
        "        return n_list[start] + list_sum(n_list, start+1, end)\n",
        "    else:\n",
        "        return 0\n",
        "print(list_sum([20, 43, 150, 24], 0, 3))"
      ],
      "metadata": {
        "colab": {
          "base_uri": "https://localhost:8080/"
        },
        "outputId": "911fbc76-0e10-4822-ca64-6eb36445992d",
        "id": "wFk63ei3iOzN"
      },
      "execution_count": null,
      "outputs": [
        {
          "output_type": "stream",
          "name": "stdout",
          "text": [
            "237\n"
          ]
        }
      ]
    },
    {
      "cell_type": "code",
      "source": [
        "def list_conv(n_list, start, end):\n",
        "    if start <=end:\n",
        "        result.append( float( n_list[start] ) )\n",
        "        return list_conv([20, 43, 150, 24], start + 1, end)\n",
        "    else:\n",
        "        return result\n",
        "\n",
        "result = []\n",
        "out = list_conv([20, 43, 150, 24], 0, 3)\n",
        "print(out)"
      ],
      "metadata": {
        "colab": {
          "base_uri": "https://localhost:8080/"
        },
        "id": "eQgAtfpzUljq",
        "outputId": "e3386076-3c07-4cdc-a99a-73bd01488b1d"
      },
      "execution_count": null,
      "outputs": [
        {
          "output_type": "stream",
          "name": "stdout",
          "text": [
            "[20.0, 43.0, 150.0, 24.0]\n"
          ]
        }
      ]
    },
    {
      "cell_type": "code",
      "source": [
        "def sum_all_nums(dlist, index):\n",
        "    if index >= len(dlist):\n",
        "        return 0\n",
        "    if type( dlist[index] ) == int:\n",
        "        return_of_next_index = sum_all_nums(dlist, index + 1)\n",
        "        big_sum = dlist[index] + return_of_next_index\n",
        "        return big_sum\n",
        "    else:\n",
        "        small_sum = sum_all_nums( dlist[index], 0 )\n",
        "        return_of_next_index = sum_all_nums(dlist, index + 1)\n",
        "        big_sum = small_sum + return_of_next_index\n",
        "        return big_sum\n",
        "data = [ 4, [2, 5], [ 3, [1], 7 ], [ [ 4, [7, 6] ], 2], [8, 10] ]\n",
        "result = sum_all_nums(data, 0)\n",
        "print(result)"
      ],
      "metadata": {
        "colab": {
          "base_uri": "https://localhost:8080/"
        },
        "id": "CUxrjVbKYbhg",
        "outputId": "db3fc4ec-7c2e-49cd-f5df-a697a02983d5"
      },
      "execution_count": null,
      "outputs": [
        {
          "output_type": "stream",
          "name": "stdout",
          "text": [
            "59\n"
          ]
        }
      ]
    },
    {
      "cell_type": "code",
      "source": [
        "def min3(lista, listb, listc):\n",
        "    for i in range(len(lista)):\n",
        "        min=lista[i]\n",
        "        if listb[i]<min:\n",
        "            min=listb[i]\n",
        "            if listc[i]<min:\n",
        "                min=listc[i]\n",
        "        lst.append(min)\n",
        "    return lst\n",
        "lst=[]\n",
        "print(min3([4,-5,6,7], [1,6,2,0], [-4,2,9,0]))"
      ],
      "metadata": {
        "colab": {
          "base_uri": "https://localhost:8080/"
        },
        "id": "-xV7BRvhWXtA",
        "outputId": "17dddd4d-77c7-483d-bc9d-ac8a51cd2bbb"
      },
      "execution_count": null,
      "outputs": [
        {
          "output_type": "stream",
          "name": "stdout",
          "text": [
            "[-4, -5, 2, 0]\n"
          ]
        }
      ]
    },
    {
      "cell_type": "code",
      "source": [
        "#19 parina\n",
        "input_string = \"neymar\"\n",
        "sorted_string = \"\"\n",
        "while len(input_string)>0:\n",
        "    min_char = input_string[0]\n",
        "    for char in input_string:\n",
        "        if ord(char) <ord(min_char):\n",
        "            min_char = char\n",
        "    sorted_string += min_char\n",
        "    for i in input_string:\n",
        "        if i!=min_char:\n",
        "            input_string+=i\n",
        "print(sorted_string)"
      ],
      "metadata": {
        "id": "Rbyv5ndEVC52"
      },
      "execution_count": null,
      "outputs": []
    },
    {
      "cell_type": "code",
      "source": [
        "x=\"neymar\"\n",
        "for i in range(len(x)):\n",
        "    min=i\n",
        "    for j in range(i+1,len(x)):\n",
        "        if x[j]<x[min]:\n",
        "            min=j\n",
        "            print(x[min])\n",
        "    x=x[:i]+x[min]+x[i:min:]+x[min+1:]\n",
        "    print(x)\n",
        "print(x)"
      ],
      "metadata": {
        "colab": {
          "base_uri": "https://localhost:8080/"
        },
        "id": "39GngCpWEOU5",
        "outputId": "2bfd6e95-38c0-4f30-a2e0-98e9d52e0e4a"
      },
      "execution_count": null,
      "outputs": [
        {
          "output_type": "stream",
          "name": "stdout",
          "text": [
            "e\n",
            "a\n",
            "aneymr\n",
            "e\n",
            "aenymr\n",
            "m\n",
            "aemnyr\n",
            "aemnyr\n",
            "r\n",
            "aemnry\n",
            "aemnry\n",
            "aemnry\n"
          ]
        }
      ]
    },
    {
      "cell_type": "code",
      "source": [
        "#1 lagbena ekhn\n",
        "def longest_common_subsequence(a,b):\n",
        "    emp=\"\"\n",
        "    for i in range(len(a)):\n",
        "        if (a[i] in b) or (chr(ord(a[i])-32) in b) or (chr(ord(a[i])+32) in b):\n",
        "            emp+=a[i]\n",
        "    print(emp)\n",
        "\n",
        "longest_common_subsequence(\"aBcd\", \"bdGc\")\n",
        "longest_common_subsequence(\"agrde\", \"pAgrc\")\n",
        "longest_common_subsequence(\"TonY\", \"tHor\")"
      ],
      "metadata": {
        "colab": {
          "base_uri": "https://localhost:8080/"
        },
        "id": "gl0enlr1O45t",
        "outputId": "ddf4ab99-3d27-4419-c57a-2f5ca6fcb392"
      },
      "execution_count": null,
      "outputs": [
        {
          "output_type": "stream",
          "name": "stdout",
          "text": [
            "Bcd\n",
            "agr\n",
            "To\n"
          ]
        }
      ]
    },
    {
      "cell_type": "code",
      "source": [
        "#2 parina\n",
        "def count_substring(a,b):\n",
        "   c=0\n",
        "   for i in a:\n",
        "    if b in a:\n",
        "        c+=1\n",
        "   print(c)\n",
        "count_substring(\"abcaBcabc\", \"abc\")\n",
        "count_substring(\"abcabcabc\", \"abc\")\n",
        "count_substring(\"xyz\", \"abc\")\n"
      ],
      "metadata": {
        "colab": {
          "base_uri": "https://localhost:8080/"
        },
        "id": "WQL_-69BQUdS",
        "outputId": "5b10c8b7-30ef-40ba-bc99-25ff83f68f84"
      },
      "execution_count": null,
      "outputs": [
        {
          "output_type": "stream",
          "name": "stdout",
          "text": [
            "9\n",
            "9\n",
            "0\n"
          ]
        }
      ]
    },
    {
      "cell_type": "code",
      "source": [
        "#3\n",
        "def sum_of_digits(p):\n",
        "    n=str(p)\n",
        "    s=0\n",
        "    for i in n:\n",
        "        s+=int(i)\n",
        "    print(s)\n",
        "sum_of_digits(12345)\n",
        "sum_of_digits(987)\n",
        "sum_of_digits(0)"
      ],
      "metadata": {
        "colab": {
          "base_uri": "https://localhost:8080/"
        },
        "id": "m_DwDX73UrcP",
        "outputId": "25ff944d-cd66-483e-9eed-36956ff10b53"
      },
      "execution_count": null,
      "outputs": [
        {
          "output_type": "stream",
          "name": "stdout",
          "text": [
            "15\n",
            "24\n",
            "0\n"
          ]
        }
      ]
    },
    {
      "cell_type": "code",
      "source": [
        "#4\n",
        "def find_max(lst):\n",
        "    max=lst[0]\n",
        "    for i in range(len(lst)):\n",
        "        if lst[i]>max:\n",
        "            max=lst[i]\n",
        "    print(max)\n",
        "find_max([3, 7, 1, 9, 4])\n",
        "find_max([0, -3, -7, -2])\n",
        "find_max([5, 2, 8, 1, 6])"
      ],
      "metadata": {
        "colab": {
          "base_uri": "https://localhost:8080/"
        },
        "id": "BFq-m6HAWfi0",
        "outputId": "99a348c1-9cae-4212-fc62-9ab6900da8eb"
      },
      "execution_count": null,
      "outputs": [
        {
          "output_type": "stream",
          "name": "stdout",
          "text": [
            "9\n",
            "0\n",
            "8\n"
          ]
        }
      ]
    },
    {
      "cell_type": "code",
      "source": [
        "#5\n",
        "def sum_of_evens(lst):\n",
        "    s=0\n",
        "    for i in range(len(lst)):\n",
        "        if lst[i]%2==0:\n",
        "            s+=lst[i]\n",
        "    print(s)\n",
        "sum_of_evens([1, 2, 3, 4, 5, 6])\n",
        "sum_of_evens([10, 15, 22, 31, 48])\n",
        "sum_of_evens([7, 11, 13, 17, 19])"
      ],
      "metadata": {
        "colab": {
          "base_uri": "https://localhost:8080/"
        },
        "id": "DL8652mwYVyx",
        "outputId": "bfbd26ff-8abb-41e3-bd5a-8046051e8417"
      },
      "execution_count": null,
      "outputs": [
        {
          "output_type": "stream",
          "name": "stdout",
          "text": [
            "12\n",
            "80\n",
            "0\n"
          ]
        }
      ]
    },
    {
      "cell_type": "code",
      "source": [
        "#6\n",
        "def recursive_sum_of_digits(n):\n",
        "    p=str(n)\n",
        "    sum=int(p[-1])\n",
        "    if n==0:\n",
        "        return 0\n",
        "    else:\n",
        "        return sum+recursive_sum_of_digits(n//10)\n",
        "\n",
        "    print(sum)\n",
        "recursive_sum_of_digits(1234)"
      ],
      "metadata": {
        "colab": {
          "base_uri": "https://localhost:8080/"
        },
        "id": "1FwLJ_YUaW97",
        "outputId": "a55c951a-f118-43bb-f431-a1b944e426fc"
      },
      "execution_count": null,
      "outputs": [
        {
          "output_type": "execute_result",
          "data": {
            "text/plain": [
              "10"
            ]
          },
          "metadata": {},
          "execution_count": 50
        }
      ]
    },
    {
      "cell_type": "code",
      "source": [
        "#7\n",
        "def collatz_sequence(n):\n",
        "    if n==1:\n",
        "        print(1)\n",
        "    elif n%2==0:\n",
        "        print(n,end=\" \")\n",
        "        collatz_sequence(n//2)\n",
        "    elif n%2!=0:\n",
        "        print(n,end=\" \")\n",
        "        collatz_sequence((n*3)+1)\n",
        "collatz_sequence(11)"
      ],
      "metadata": {
        "colab": {
          "base_uri": "https://localhost:8080/"
        },
        "id": "wnjXiwDLkvLR",
        "outputId": "d7075f23-c029-4cf1-dd06-2f09a50a8265"
      },
      "execution_count": null,
      "outputs": [
        {
          "output_type": "stream",
          "name": "stdout",
          "text": [
            "11 34 17 52 26 13 40 20 10 5 16 8 4 2 1\n"
          ]
        }
      ]
    },
    {
      "cell_type": "code",
      "source": [
        "def triangular_sequence(n):\n",
        "    s=0\n",
        "    for i in range(1,n+1):\n",
        "        s+=i\n",
        "        print(s,end=\" \")\n",
        "triangular_sequence(4)"
      ],
      "metadata": {
        "colab": {
          "base_uri": "https://localhost:8080/"
        },
        "id": "NiSPmBs9u2MF",
        "outputId": "fc8f38c8-7751-43b2-8a98-3bd10c9de3bc"
      },
      "execution_count": null,
      "outputs": [
        {
          "output_type": "stream",
          "name": "stdout",
          "text": [
            "1 3 6 10 "
          ]
        }
      ]
    },
    {
      "cell_type": "code",
      "source": [
        "#8 recursion\n",
        "def triangular_sequence(n):\n",
        "    if n==1:\n",
        "        print(1)\n",
        "    else:\n",
        "        sum=0\n",
        "        for i in range(1,n+1):\n",
        "            sum+=i\n",
        "        print(sum,end=\" \")\n",
        "        triangular_sequence(n-1)\n",
        "triangular_sequence(8)"
      ],
      "metadata": {
        "colab": {
          "base_uri": "https://localhost:8080/"
        },
        "id": "Li1k2_v0qLvG",
        "outputId": "e06d2f97-33fb-4692-9a62-776c8e42a1ee"
      },
      "execution_count": null,
      "outputs": [
        {
          "output_type": "stream",
          "name": "stdout",
          "text": [
            "36 28 21 15 10 6 3 1\n"
          ]
        }
      ]
    },
    {
      "cell_type": "code",
      "source": [
        "def triangular_sequence(j,n):\n",
        "    if j<=n:\n",
        "        sum=0\n",
        "        for i in range(1,j+1):\n",
        "            sum+=i\n",
        "        print(sum,end=\" \")\n",
        "        triangular_sequence(j+1,n)\n",
        "triangular_sequence(1,10)"
      ],
      "metadata": {
        "colab": {
          "base_uri": "https://localhost:8080/"
        },
        "id": "PgbbZYrnZzHT",
        "outputId": "737e1654-2598-4d30-9944-88d7aef26897"
      },
      "execution_count": null,
      "outputs": [
        {
          "output_type": "stream",
          "name": "stdout",
          "text": [
            "1 3 6 10 15 21 28 36 45 55 "
          ]
        }
      ]
    },
    {
      "cell_type": "code",
      "source": [
        "def prime_sequence(a,n):\n",
        "    if a!=n:\n",
        "        s=0\n",
        "        for i in range(1,a):\n",
        "            if a%i==0:\n",
        "                s+=1\n",
        "        if s==1:\n",
        "            print(a,end=\" \")\n",
        "        prime_sequence(a+1,n)\n",
        "prime_sequence(2,10)"
      ],
      "metadata": {
        "colab": {
          "base_uri": "https://localhost:8080/"
        },
        "id": "GEALCG2ecP93",
        "outputId": "35a7db9c-4ef3-4a48-de6b-74a112275d91"
      },
      "execution_count": null,
      "outputs": [
        {
          "output_type": "stream",
          "name": "stdout",
          "text": [
            "2 3 5 7 "
          ]
        }
      ]
    },
    {
      "cell_type": "code",
      "source": [
        "for i in range(1,2):\n",
        "    print(i)"
      ],
      "metadata": {
        "colab": {
          "base_uri": "https://localhost:8080/"
        },
        "id": "irx-pyBUezBD",
        "outputId": "d5d34511-d989-4e3b-df4e-f8d33307345e"
      },
      "execution_count": null,
      "outputs": [
        {
          "output_type": "stream",
          "name": "stdout",
          "text": [
            "1\n"
          ]
        }
      ]
    },
    {
      "cell_type": "code",
      "source": [
        "#9 recursion\n",
        "def prime(n):\n",
        "    if n==1:\n",
        "        print()\n",
        "    else:\n",
        "        s=0\n",
        "        for i in range(2,n):\n",
        "            if n%i==0:\n",
        "                s+=i\n",
        "        if s==0:\n",
        "            print(n,end=\" \")\n",
        "        prime(n-1)\n",
        "prime(10)"
      ],
      "metadata": {
        "colab": {
          "base_uri": "https://localhost:8080/"
        },
        "id": "LuUXNn8JclZ9",
        "outputId": "d7e8363b-8350-46ed-c15b-3214173f4cc7"
      },
      "execution_count": null,
      "outputs": [
        {
          "output_type": "stream",
          "name": "stdout",
          "text": [
            "7 5 3 2 \n"
          ]
        }
      ]
    },
    {
      "cell_type": "code",
      "source": [
        "#9\n",
        "def prime_sequence(n):\n",
        "    for i in range(2,n+1):\n",
        "        s=0\n",
        "        for j in range(2,i):\n",
        "            if i%j==0:\n",
        "                s+=j\n",
        "        if s==0:\n",
        "            print(i,end=\" \")\n",
        "prime_sequence(20)"
      ],
      "metadata": {
        "colab": {
          "base_uri": "https://localhost:8080/"
        },
        "id": "aWjwwAJvT54M",
        "outputId": "e1175ee4-a885-4bab-ce20-161f3a264e41"
      },
      "execution_count": null,
      "outputs": [
        {
          "output_type": "stream",
          "name": "stdout",
          "text": [
            "2 3 5 7 11 13 17 19 "
          ]
        }
      ]
    },
    {
      "cell_type": "code",
      "source": [
        "s=0\n",
        "for i in range(2,5):\n",
        "  if 7%i==0:\n",
        "    s+=i\n",
        "if s==0:\n",
        "    print(\"prime\")"
      ],
      "metadata": {
        "colab": {
          "base_uri": "https://localhost:8080/"
        },
        "id": "oAWinAccVCIt",
        "outputId": "9e42d73d-a4e9-4d46-f647-fd891b845b1d"
      },
      "execution_count": null,
      "outputs": [
        {
          "output_type": "stream",
          "name": "stdout",
          "text": [
            "prime\n"
          ]
        }
      ]
    },
    {
      "cell_type": "code",
      "source": [
        "#10 recursion chara hbe na\n",
        "def flatten_list(lt):\n",
        "    lst=[]\n",
        "    for i in range(len(lt)):\n",
        "        if type(lt[i])==list:\n",
        "            for j in range(len(lt[i])):\n",
        "                lst.append(lt[i][j])\n",
        "        else:\n",
        "            lst.append(lt[i])\n",
        "    print(lst)\n",
        "flatten_list([1, [2, [3, 4], 5], [6, [7, 8], 9]])\n",
        "flatten_list([1, [2], [3, [4], [5, [6]]]])"
      ],
      "metadata": {
        "colab": {
          "base_uri": "https://localhost:8080/"
        },
        "id": "TqBfwmkKf-kS",
        "outputId": "01dcb7d1-322f-43ea-bb02-3181f1a922f6"
      },
      "execution_count": null,
      "outputs": [
        {
          "output_type": "stream",
          "name": "stdout",
          "text": [
            "[1, 2, [3, 4], 5, 6, [7, 8], 9]\n",
            "[1, 2, 3, [4], [5, [6]]]\n"
          ]
        }
      ]
    },
    {
      "cell_type": "code",
      "source": [
        "#10 recursion\n",
        "lst=[]\n",
        "def flatten_list(it):\n",
        "   for i in range(len(it)):\n",
        "    if type(it[i])==list:\n",
        "        flatten_list(it[i])\n",
        "    else:\n",
        "        lst.append(it[i])\n",
        "   return lst\n",
        "print(flatten_list([1, [2, [3, 4], 5], [6, [7, 8], 9]])) #remove korle shb gula list lst te add hocche\n",
        "print(flatten_list([1, [2], [3, [4], [5, [6]]]]))\n",
        "print(flatten_list([1, [2, [3, [4, 5], 6], 7], 8]))"
      ],
      "metadata": {
        "colab": {
          "base_uri": "https://localhost:8080/"
        },
        "id": "-_pdr-yXi__p",
        "outputId": "ea950ef4-6ae0-4764-ef5d-4726aa6478e6"
      },
      "execution_count": null,
      "outputs": [
        {
          "output_type": "stream",
          "name": "stdout",
          "text": [
            "[1, 2, 3, 4, 5, 6, 7, 8, 9]\n",
            "[1, 2, 3, 4, 5, 6, 7, 8, 9, 1, 2, 3, 4, 5, 6]\n",
            "[1, 2, 3, 4, 5, 6, 7, 8, 9, 1, 2, 3, 4, 5, 6, 1, 2, 3, 4, 5, 6, 7, 8]\n"
          ]
        }
      ]
    },
    {
      "cell_type": "code",
      "source": [
        "#11\n",
        "def binary_search(lst, a):\n",
        "    all=True\n",
        "    for i in range(len(lst)):\n",
        "        if a==lst[i]:\n",
        "            all=True\n",
        "            print(f\"Index of {a}: {i}\")\n",
        "            break\n",
        "        else:\n",
        "            all=False\n",
        "    if all==False:\n",
        "        print(f\"index of {a}: -1\")\n",
        "binary_search([2, 4, 7, 10, 18, 23, 29, 35], 42)"
      ],
      "metadata": {
        "colab": {
          "base_uri": "https://localhost:8080/"
        },
        "id": "EDw67Xk_09_H",
        "outputId": "0a13f2f4-fec6-4ce2-f94f-9c3edc1d081a"
      },
      "execution_count": null,
      "outputs": [
        {
          "output_type": "stream",
          "name": "stdout",
          "text": [
            "index of 42: -1\n"
          ]
        }
      ]
    },
    {
      "cell_type": "code",
      "source": [
        "#12 13 lgbena"
      ],
      "metadata": {
        "id": "hzfpXKzhoYXo"
      },
      "execution_count": null,
      "outputs": []
    },
    {
      "cell_type": "markdown",
      "source": [
        "Previous Semester(MID, LAB_MID)"
      ],
      "metadata": {
        "id": "5dnld8pevmYs"
      }
    },
    {
      "cell_type": "code",
      "source": [
        "x=\"racecar\"\n",
        "s=\"\"\n",
        "for i in range(len(x)):\n",
        "    c=0\n",
        "    for j in range(len(x)):\n",
        "        if x[i]==x[j]:\n",
        "            c+=1\n",
        "    if c>1:\n",
        "       s+=\"#\"\n",
        "    else:\n",
        "       s+=x[i]\n",
        "print(s)"
      ],
      "metadata": {
        "colab": {
          "base_uri": "https://localhost:8080/"
        },
        "id": "ort-KgJVrLW0",
        "outputId": "8728f0a7-71c8-4c4c-feba-8b49d3eab457"
      },
      "execution_count": null,
      "outputs": [
        {
          "output_type": "stream",
          "name": "stdout",
          "text": [
            "###e###\n"
          ]
        }
      ]
    },
    {
      "cell_type": "code",
      "source": [
        "#Q2 Special character er part bujhini\n",
        "x=\"Hello a\"\n",
        "y=3\n",
        "s=\"\"\n",
        "for i in range(len(x)):\n",
        "    a=chr(ord(x[i])-y)\n",
        "    s+=a\n",
        "print(s)"
      ],
      "metadata": {
        "colab": {
          "base_uri": "https://localhost:8080/"
        },
        "id": "N0R7pb9PzKZ6",
        "outputId": "fef530be-f12d-4a51-f9eb-2175ea4c1557"
      },
      "execution_count": null,
      "outputs": [
        {
          "output_type": "stream",
          "name": "stdout",
          "text": [
            "Ebiil\u001d^\n"
          ]
        }
      ]
    },
    {
      "cell_type": "code",
      "source": [
        "#y z e ki korbo\n",
        "x=\"Today is Saturday\"\n",
        "y=3\n",
        "s=\"\"\n",
        "for i in range(len(x)):\n",
        "    a=chr(ord(x[i])+y)\n",
        "    s+=a\n",
        "print(s)"
      ],
      "metadata": {
        "colab": {
          "base_uri": "https://localhost:8080/"
        },
        "id": "xzGQGPH6vzCD",
        "outputId": "4912e665-8269-4060-ccf8-02175fd547d6"
      },
      "execution_count": null,
      "outputs": [
        {
          "output_type": "stream",
          "name": "stdout",
          "text": [
            "Wrgd|#lv#Vdwxugd|\n"
          ]
        }
      ]
    },
    {
      "cell_type": "code",
      "source": [
        "#Thikase? .0 u sorate hbe?\n",
        "lst=[[20, 3], [33, 7], [11, 14]]\n",
        "max=-1\n",
        "a=0\n",
        "for i in range(len(lst)):\n",
        "    area=1/2\n",
        "    for j in range(2):\n",
        "        area*=lst[i][j]\n",
        "    print(f\"Area of Triangle {i+1}: {area}\")\n",
        "    if area>max:\n",
        "        max=area\n",
        "        a=i+1\n",
        "        b=lst[i][0]\n",
        "        c=lst[i][1]\n",
        "print(f\"Triangle {a} is the largest with a base of {b} and a height of {c}\")"
      ],
      "metadata": {
        "colab": {
          "base_uri": "https://localhost:8080/"
        },
        "id": "Z-vLtGf60AZm",
        "outputId": "0e9ea4de-511a-4cf9-9f05-85e1501fe9d3"
      },
      "execution_count": null,
      "outputs": [
        {
          "output_type": "stream",
          "name": "stdout",
          "text": [
            "Area of Triangle 1: 30.0\n",
            "Area of Triangle 2: 115.5\n",
            "Area of Triangle 3: 77.0\n",
            "Triangle 2 is the largest with a base of 33 and a height of 7\n"
          ]
        }
      ]
    },
    {
      "cell_type": "code",
      "source": [
        "x=\"I-can-cook-\"\n",
        "y=\"-\"\n",
        "z=\"\"\n",
        "for i in range(len(x)):\n",
        "    if x[i]==y:\n",
        "        z+=\" \"\n",
        "    else:\n",
        "        z+=x[i]\n",
        "print(z)\n",
        "emp=\"\"\n",
        "p=\"\"\n",
        "for i in range(len(z)):\n",
        "    if z[i]!=\" \":\n",
        "        emp+=z[i]\n",
        "    if z[i]==\" \" or i==len(z)-1:\n",
        "        for j in range(-1,-len(emp)-1,-1):\n",
        "            p+=emp[j]\n",
        "        p+=\" \"\n",
        "        emp=\"\"\n",
        "print(p)"
      ],
      "metadata": {
        "colab": {
          "base_uri": "https://localhost:8080/"
        },
        "id": "hm62dDN7lKTa",
        "outputId": "3a1be35c-7d8f-4f30-a3ff-578d324e6211"
      },
      "execution_count": null,
      "outputs": [
        {
          "output_type": "stream",
          "name": "stdout",
          "text": [
            "I can cook \n",
            "I nac kooc \n"
          ]
        }
      ]
    },
    {
      "cell_type": "code",
      "source": [
        "#Problem 05\n",
        "x=\"preparation is needed.\"\n",
        "z=\"\"\n",
        "for i in range(-1,-len(x)-1,-1):\n",
        "    if x[i]!=\" \":\n",
        "        z+=x[i]\n",
        "if z[0]==\".\":\n",
        "    a=\",\"+z[1::]\n",
        "    print(a)\n",
        "else:\n",
        "    print(\"Do not change\")"
      ],
      "metadata": {
        "colab": {
          "base_uri": "https://localhost:8080/"
        },
        "id": "Ir6kWQrXrwDd",
        "outputId": "f5a25044-1e2d-4eb9-c668-1af016fbd299"
      },
      "execution_count": null,
      "outputs": [
        {
          "output_type": "stream",
          "name": "stdout",
          "text": [
            ",dedeensinoitaraperp\n"
          ]
        }
      ]
    },
    {
      "cell_type": "code",
      "source": [
        "x=\"abc12\"\n",
        "y=\"\"\n",
        "if \"a\"<=x[0]<=\"z\":\n",
        "    for i in range(len(x)):\n",
        "        if \"a\"<=x[i]<=\"z\":\n",
        "            y+=chr(ord(x[i])-32)\n",
        "        elif \"0\"<=x[i]<=\"9\":\n",
        "            y+=x[i]+\"0\"\n",
        "    print(y)\n",
        "elif \"0\"<=x[0]<=\"9\":\n",
        "    for i in range(len(x)):\n",
        "        if \"0\"<=x[i]<=\"9\":\n",
        "            y+=x[i]\n",
        "        elif \"a\"<=x[i]<=\"z\":\n",
        "            break\n",
        "    print(y)"
      ],
      "metadata": {
        "colab": {
          "base_uri": "https://localhost:8080/"
        },
        "id": "lRm7x44tuP99",
        "outputId": "704a331d-f8b1-4579-94b5-dcd3da7d60b2"
      },
      "execution_count": null,
      "outputs": [
        {
          "output_type": "stream",
          "name": "stdout",
          "text": [
            "ABC1020\n"
          ]
        }
      ]
    },
    {
      "cell_type": "code",
      "source": [
        "lst=[\"hi\",12, \"3\", 5.5, True, -2, 0.4]\n",
        "y=\"\"\n",
        "for i in range(len(lst)):\n",
        "    y+=str(lst[i])\n",
        "print(y)"
      ],
      "metadata": {
        "colab": {
          "base_uri": "https://localhost:8080/"
        },
        "id": "LkoRO8tu1p21",
        "outputId": "967ff322-b92e-4fdc-94c6-8125aaf7429e"
      },
      "execution_count": null,
      "outputs": [
        {
          "output_type": "stream",
          "name": "stdout",
          "text": [
            "hi1235.5True-20.4\n"
          ]
        }
      ]
    },
    {
      "cell_type": "code",
      "source": [
        "x=\"cook\"\n",
        "p=\"\"\n",
        "for j in range(-1,-len(x)-1): #-1 na dile starting -1 increment 1=0 so empty string ashbe\n",
        "     p+=x[j]\n",
        "print(p)"
      ],
      "metadata": {
        "colab": {
          "base_uri": "https://localhost:8080/"
        },
        "id": "b4E4j3dKoK-E",
        "outputId": "5d2badfc-8089-4410-e445-53334597c76e"
      },
      "execution_count": null,
      "outputs": [
        {
          "output_type": "stream",
          "name": "stdout",
          "text": [
            "\n"
          ]
        }
      ]
    },
    {
      "cell_type": "code",
      "source": [
        "a=\"aaabbccdddaaarfaafstttt\"\n",
        "lst=[]\n",
        "emp=a[0]\n",
        "for i in range(len(a)-1):\n",
        "    if a[i]==a[i+1]:\n",
        "        emp+=a[i]\n",
        "        print(emp)\n",
        "    if a[i]!=a[i+1] or i==(len(a)-1):\n",
        "            lst.append(emp)\n",
        "            emp=a[i+1]\n",
        "print(lst)"
      ],
      "metadata": {
        "colab": {
          "base_uri": "https://localhost:8080/"
        },
        "id": "gC0gIMM1SO6A",
        "outputId": "ef81ddb5-d3fc-4dde-845a-5edfe2fd3598"
      },
      "execution_count": null,
      "outputs": [
        {
          "output_type": "stream",
          "name": "stdout",
          "text": [
            "aa\n",
            "aaa\n",
            "bb\n",
            "cc\n",
            "dd\n",
            "ddd\n",
            "aa\n",
            "aaa\n",
            "aa\n",
            "tt\n",
            "ttt\n",
            "tttt\n",
            "['aaa', 'bb', 'cc', 'ddd', 'aaa', 'r', 'f', 'aa', 'f', 's']\n"
          ]
        }
      ]
    },
    {
      "cell_type": "code",
      "source": [
        "a=\"aaabbccdddaaarfaafstttt\"\n",
        "emp=\"\"\n",
        "for i in range(len(a)):\n",
        "    if emp==\"\" or a[i]==emp[-1]:\n",
        "        emp+=a[i]\n",
        "    if not (emp==\"\" or a[i]==emp[-1]) or i==len(a)-1:\n",
        "        print(emp,len(emp))\n",
        "        emp=a[i]"
      ],
      "metadata": {
        "colab": {
          "base_uri": "https://localhost:8080/"
        },
        "outputId": "faba8688-4d92-41bf-ec76-b5e1bff0dae1",
        "id": "YVtKVy5RSEz0"
      },
      "execution_count": null,
      "outputs": [
        {
          "output_type": "stream",
          "name": "stdout",
          "text": [
            "aaa 3\n",
            "bb 2\n",
            "cc 2\n",
            "ddd 3\n",
            "aaa 3\n",
            "r 1\n",
            "f 1\n",
            "aa 2\n",
            "f 1\n",
            "s 1\n",
            "tttt 4\n"
          ]
        }
      ]
    },
    {
      "cell_type": "markdown",
      "source": [
        "Tracing"
      ],
      "metadata": {
        "id": "mh5tbhaIrPwr"
      }
    },
    {
      "cell_type": "code",
      "source": [
        "myList = [10, 20, 30, 40, 25, 10, 20, 30, 40]\n",
        "p = len(myList) - 1\n",
        "q = p\n",
        "r = 0\n",
        "x = p//2\n",
        "new = myList\n",
        "while q >= x:\n",
        "       print(myList[q])\n",
        "       r = p - q\n",
        "       while r  > 10:\n",
        "            new [r] = myList[p] - new[q] + r\n",
        "            r = r - 1\n",
        "       print(new[r])\n",
        "       q = q - 1\n",
        "print(-42%29)\n",
        "print(-7%41)\n",
        "print(len(new) not in myList)\n",
        "\n"
      ],
      "metadata": {
        "colab": {
          "base_uri": "https://localhost:8080/"
        },
        "id": "5RTau2tgrS27",
        "outputId": "ce659633-4d5a-47c2-b57a-c671fb7574d0"
      },
      "execution_count": null,
      "outputs": [
        {
          "output_type": "stream",
          "name": "stdout",
          "text": [
            "40\n",
            "10\n",
            "30\n",
            "20\n",
            "20\n",
            "30\n",
            "10\n",
            "40\n",
            "25\n",
            "25\n",
            "16\n",
            "34\n",
            "True\n"
          ]
        }
      ]
    },
    {
      "cell_type": "code",
      "source": [
        "myList1 = [1,7,5, 7,8]\n",
        "myList = [2,3,4,6,9,7,[10,11]]\n",
        "var1 = 2\n",
        "var3 = myList1\n",
        "b = myList.copy()\n",
        "d = 1\n",
        "while (var1 < 5):\n",
        "   var2 = 1\n",
        "   while (var2 <= var1):\n",
        "        print (myList1 [var2])\n",
        "        var3 [var2] = myList1 [var2] - var3 [var1] - 3\n",
        "        print(\"var3[var2]:\",var3[var2])\n",
        "        b[var2] = myList[var2] - myList1[var1] - b[6][1]\n",
        "        print(\"b[var2]:\",b[var2])\n",
        "        print(-b[var2]%b[6][1])\n",
        "        if d == 1:\n",
        "            myList = b.copy()\n",
        "            print(myList)\n",
        "            d +=1\n",
        "        var2 = var2 + 1\n",
        "   var1= var1 + 1\n",
        "   print(\"l\",len(var3))\n",
        "   print(\"myList1:\",myList1)\n",
        "   print (len (var3) in myList1)"
      ],
      "metadata": {
        "colab": {
          "base_uri": "https://localhost:8080/"
        },
        "id": "za-kXGwNrWsU",
        "outputId": "2a65a282-f4ca-4ee8-8d53-e19832d1397a"
      },
      "execution_count": null,
      "outputs": [
        {
          "output_type": "stream",
          "name": "stdout",
          "text": [
            "7\n",
            "var3[var2]: -1\n",
            "b[var2]: -13\n",
            "2\n",
            "[2, -13, 4, 6, 9, 7, [10, 11]]\n",
            "5\n",
            "var3[var2]: -3\n",
            "b[var2]: -4\n",
            "4\n",
            "l 5\n",
            "myList1: [1, -1, -3, 7, 8]\n",
            "False\n",
            "-1\n",
            "var3[var2]: -11\n",
            "b[var2]: -31\n",
            "9\n",
            "-3\n",
            "var3[var2]: -13\n",
            "b[var2]: -14\n",
            "3\n",
            "7\n",
            "var3[var2]: -3\n",
            "b[var2]: -2\n",
            "2\n",
            "l 5\n",
            "myList1: [1, -11, -13, -3, 8]\n",
            "False\n",
            "-11\n",
            "var3[var2]: -22\n",
            "b[var2]: -32\n",
            "10\n",
            "-13\n",
            "var3[var2]: -24\n",
            "b[var2]: -15\n",
            "4\n",
            "-3\n",
            "var3[var2]: -14\n",
            "b[var2]: -13\n",
            "2\n",
            "8\n",
            "var3[var2]: -3\n",
            "b[var2]: 1\n",
            "10\n",
            "l 5\n",
            "myList1: [1, -22, -24, -14, -3]\n",
            "False\n"
          ]
        }
      ]
    },
    {
      "cell_type": "code",
      "source": [
        "print(-1//11)"
      ],
      "metadata": {
        "id": "fRvQi8xAFXIJ",
        "outputId": "cc272aea-9cdc-4d49-810c-cd4367c1d283",
        "colab": {
          "base_uri": "https://localhost:8080/"
        }
      },
      "execution_count": null,
      "outputs": [
        {
          "output_type": "stream",
          "name": "stdout",
          "text": [
            "-1\n"
          ]
        }
      ]
    },
    {
      "cell_type": "code",
      "source": [
        "def one_call(n):\n",
        "    print(\"In One call\")\n",
        "    if n%3==0:\n",
        "        return n+7\n",
        "        print(\"one Call Done\")\n",
        "    return n-9\n",
        "    return 12\n",
        "def two_call(a,b=20,c=\"sayounara\"):\n",
        "    a+=b//2+6\n",
        "    if type(c)==str:\n",
        "        b=c[b]+c[len(c)-b]\n",
        "    else:\n",
        "        b = (b+c)%3\n",
        "    result =one_call(a)\n",
        "    print(result)\n",
        "    if type(b)==str:\n",
        "        return b,c\n",
        "\n",
        "x,y=two_call(11,3)\n",
        "t=two_call(3,8,12)\n",
        "print(t)\n",
        "print(x,y)\n"
      ],
      "metadata": {
        "colab": {
          "base_uri": "https://localhost:8080/"
        },
        "id": "9ALoHHVcrh4m",
        "outputId": "5e903c6f-02ff-4a96-c780-daa4b557387a"
      },
      "execution_count": null,
      "outputs": [
        {
          "output_type": "stream",
          "name": "stdout",
          "text": [
            "In One call\n",
            "25\n",
            "In One call\n",
            "4\n",
            "None\n",
            "oa sayounara\n"
          ]
        }
      ]
    },
    {
      "cell_type": "code",
      "source": [
        "print(-42%29)\n",
        "print(-7//11)\n",
        "print(-13%11)\n"
      ],
      "metadata": {
        "colab": {
          "base_uri": "https://localhost:8080/"
        },
        "id": "WprANxSxvRd3",
        "outputId": "045d85d0-802c-480d-ff52-ab9d0b6c33e7"
      },
      "execution_count": null,
      "outputs": [
        {
          "output_type": "stream",
          "name": "stdout",
          "text": [
            "16\n",
            "-1\n",
            "9\n"
          ]
        }
      ]
    },
    {
      "cell_type": "code",
      "source": [
        "N=int(input())\n",
        "def sequence_recursive(N):\n",
        "  if N==0:\n",
        "    return 0\n",
        "  elif N%2==0:\n",
        "    return sequence_recursive(N-1)-N\n",
        "  elif N%2!=0:\n",
        "    return sequence_recursive(N-1)+N\n",
        "print(sequence_recursive(N))\n"
      ],
      "metadata": {
        "colab": {
          "base_uri": "https://localhost:8080/"
        },
        "id": "wI0S3iON5TEP",
        "outputId": "42a23189-f914-40dd-cc0c-311f401e050a"
      },
      "execution_count": null,
      "outputs": [
        {
          "output_type": "stream",
          "name": "stdout",
          "text": [
            "2\n",
            "-1\n"
          ]
        }
      ]
    },
    {
      "cell_type": "code",
      "source": [
        "a=\"Samia\"\n",
        "print(a[len(a)-1:-2:-1])"
      ],
      "metadata": {
        "colab": {
          "base_uri": "https://localhost:8080/"
        },
        "id": "NdzY_4p1Oq-B",
        "outputId": "df901eb1-7939-4648-b494-acc45ea0d479"
      },
      "execution_count": null,
      "outputs": [
        {
          "output_type": "stream",
          "name": "stdout",
          "text": [
            "a\n"
          ]
        }
      ]
    },
    {
      "cell_type": "code",
      "source": [
        "def sequence_recursive(i,n):\n",
        "  if n<=0:\n",
        "    return 0\n",
        "  elif n%2!=0:\n",
        "    sum=sequence_recursive(i,n-1)-(n**2)\n",
        "  elif n%2==0:\n",
        "    sum=sequence_recursive(i,n-1)+(n**2)\n",
        "  return sum\n",
        "print(sequence_recursive(1,5))"
      ],
      "metadata": {
        "colab": {
          "base_uri": "https://localhost:8080/"
        },
        "id": "ADkoI0PuUz95",
        "outputId": "17d5f2d3-0d00-456e-be95-bfdc03956c2d"
      },
      "execution_count": null,
      "outputs": [
        {
          "output_type": "stream",
          "name": "stdout",
          "text": [
            "-15\n"
          ]
        }
      ]
    },
    {
      "cell_type": "code",
      "source": [
        "myList=[10, 20, 30, 40, 25, 10, 20, 30, 40]\n",
        "p=len(myList)-1\n",
        "q=p\n",
        "r=0\n",
        "x=p//2\n",
        "while q>=x:\n",
        "  print(myList[q])\n",
        "  r=p-q\n",
        "  while r>10:\n",
        "    myList[r]=myList[p]-myList[q]+r\n",
        "    r-=1\n",
        "  print(myList[r])\n",
        "  q-=1"
      ],
      "metadata": {
        "colab": {
          "base_uri": "https://localhost:8080/"
        },
        "id": "6WLNZEdLZKiC",
        "outputId": "6ec20b11-7c43-468d-b8f7-e40bb41f5e3e"
      },
      "execution_count": null,
      "outputs": [
        {
          "output_type": "stream",
          "name": "stdout",
          "text": [
            "40\n",
            "10\n",
            "30\n",
            "20\n",
            "20\n",
            "30\n",
            "10\n",
            "40\n",
            "25\n",
            "25\n"
          ]
        }
      ]
    },
    {
      "cell_type": "code",
      "source": [
        "def list_to_string(a):\n",
        "    s=\"\"\n",
        "    for i in range(len(a)):\n",
        "        p=str(a[i])\n",
        "        s+=p\n",
        "    return s\n",
        "print(list_to_string([-5, 0.3, \"3\"]))"
      ],
      "metadata": {
        "colab": {
          "base_uri": "https://localhost:8080/"
        },
        "id": "RXkpmG1Lp-Ke",
        "outputId": "82e5a4f0-b523-4965-96d7-472401f4b498"
      },
      "execution_count": null,
      "outputs": [
        {
          "output_type": "stream",
          "name": "stdout",
          "text": [
            "-50.33\n"
          ]
        }
      ]
    },
    {
      "cell_type": "code",
      "source": [
        "myList=[52, -87, -8, -92, 7, -92, 53, 83, 10,-60]\n",
        "index1=0\n",
        "index2=0\n",
        "index1=1\n",
        "while(index1<=5):\n",
        "    myList[index1]=index1+5\n",
        "    index2=0\n",
        "    while(index2<5):\n",
        "        if (index2%2==0):\n",
        "            myList[index1]=myList[index1]+myList[index2]-index2\n",
        "            print(myList[index1])\n",
        "        else:\n",
        "            myList[index1]=myList[index2]-myList[index1]+index1\n",
        "            print(myList[index1])\n",
        "        index2=index2+1\n",
        "    print(\"o\",myList[index1])\n",
        "    index1+=1"
      ],
      "metadata": {
        "colab": {
          "base_uri": "https://localhost:8080/"
        },
        "id": "klzSFk3zroNQ",
        "outputId": "cc7e1214-0240-40cb-8b90-555ed7efa804"
      },
      "execution_count": null,
      "outputs": [
        {
          "output_type": "stream",
          "name": "stdout",
          "text": [
            "58\n",
            "1\n",
            "-9\n",
            "-82\n",
            "-79\n",
            "o -79\n",
            "59\n",
            "-136\n",
            "-274\n",
            "184\n",
            "187\n",
            "o 187\n",
            "60\n",
            "-136\n",
            "49\n",
            "3\n",
            "6\n",
            "o 6\n",
            "61\n",
            "-136\n",
            "49\n",
            "-39\n",
            "-82\n",
            "o -82\n",
            "62\n",
            "-136\n",
            "49\n",
            "-38\n",
            "-124\n",
            "o -124\n"
          ]
        }
      ]
    },
    {
      "cell_type": "markdown",
      "source": [
        "Practice sheet on string"
      ],
      "metadata": {
        "id": "7X9Og84xqMD-"
      }
    },
    {
      "cell_type": "code",
      "source": [
        "#1\n",
        "x=input()\n",
        "c1=0\n",
        "c2=0\n",
        "c3=0\n",
        "for i in x:\n",
        "    if \"A\"<=i<=\"Z\" or \"a\"<=i<=\"z\":\n",
        "        c1+=1\n",
        "    elif \"0\"<=i<=\"9\":\n",
        "        c2+=1\n",
        "    else:\n",
        "        c3+=1\n",
        "print(\"The number of Alphabets in the string is:\",c1)\n",
        "print(\"The number of Digits in the string is :\",c2)\n",
        "print(\"The number of Special characters in the string is:\",c3)"
      ],
      "metadata": {
        "colab": {
          "base_uri": "https://localhost:8080/"
        },
        "id": "DH2JAD9yygdU",
        "outputId": "a4c448a0-3939-46a4-f2be-f458a8afde01"
      },
      "execution_count": null,
      "outputs": [
        {
          "output_type": "stream",
          "name": "stdout",
          "text": [
            "This is CSE110 Course.\n",
            "The number of Alphabets in the string is: 15\n",
            "The number of Digits in the string is : 3\n",
            "The number of Special characters in the string is: 4\n"
          ]
        }
      ]
    },
    {
      "cell_type": "markdown",
      "source": [
        "2 parina"
      ],
      "metadata": {
        "id": "atouIkNZqV5L"
      }
    },
    {
      "cell_type": "code",
      "source": [
        "s=\"I am Samia\"\n",
        "x=s+\" \"\n",
        "emp=\"\"\n",
        "b=\"\"  #boro tar length obosshoi empty string thke boro\n",
        "c=s #input string theke choto hote hbe\n",
        "for i in x:\n",
        "    if i!=\" \":\n",
        "        emp+=i\n",
        "    elif i==\" \":\n",
        "        if len(emp)>len(b):\n",
        "          b=emp\n",
        "        if len(emp)<len(c):\n",
        "            c=emp\n",
        "        emp=\"\"\n",
        "print(\"largest\",b)\n",
        "print(\"smallest\",c)"
      ],
      "metadata": {
        "colab": {
          "base_uri": "https://localhost:8080/"
        },
        "id": "Q_tjly-RB_mJ",
        "outputId": "df0a9027-070b-465f-a44d-f975d4fa9bf5"
      },
      "execution_count": null,
      "outputs": [
        {
          "output_type": "stream",
          "name": "stdout",
          "text": [
            "largest Samia\n",
            "smallest I\n"
          ]
        }
      ]
    },
    {
      "cell_type": "code",
      "source": [
        "#x=\"India is great\"\n",
        "#y='is'\n",
        "x=\"this is cSe110 course and we lOve it\"\n",
        "y=\"i11oavl\"\n",
        "z=\"\"\n",
        "for i in range(len(x)):\n",
        "        if x[i] not in y and chr(ord(x[i])+32) not in y:\n",
        "            z+=x[i]\n",
        "print(z)"
      ],
      "metadata": {
        "colab": {
          "base_uri": "https://localhost:8080/"
        },
        "id": "iNxccgNYdlXb",
        "outputId": "d2f76d99-5fef-42aa-9e86-100bc30b5f4b"
      },
      "execution_count": null,
      "outputs": [
        {
          "output_type": "stream",
          "name": "stdout",
          "text": [
            "ths s cSe0 curse nd we e t\n"
          ]
        }
      ]
    },
    {
      "cell_type": "code",
      "source": [
        "x=input()\n",
        "p=x[0]\n",
        "if  not \"A\"<=p<=\"Z\":\n",
        "    p=chr(ord(p)-32)\n",
        "for i in range(len(x)-1):\n",
        "    if x[i]!=\" \":\n",
        "        p+=x[i+1]\n",
        "    elif x[i]==\" \":\n",
        "        p+=\" \"+chr(ord(x[i+1])-32)\n",
        "print(p)"
      ],
      "metadata": {
        "colab": {
          "base_uri": "https://localhost:8080/"
        },
        "id": "sIvblNRNk6Xa",
        "outputId": "73f217bd-e578-4bac-cd67-01777dfefbfb"
      },
      "execution_count": null,
      "outputs": [
        {
          "output_type": "stream",
          "name": "stdout",
          "text": [
            "tell me why it aint nothing but a heart break\n",
            "Tell  Me  Why  It  Aint  Nothing  But  A  Heart  Break\n"
          ]
        }
      ]
    },
    {
      "cell_type": "code",
      "source": [
        "#5\n",
        "p=input()\n",
        "x=p+\",\"\n",
        "emp=\"\"\n",
        "lst=[]\n",
        "product=1\n",
        "for i in range(len(x)):\n",
        "    if x[i]!=\",\":\n",
        "        emp+=x[i]\n",
        "    elif x[i]==\",\":\n",
        "        lst.append(emp)\n",
        "        product*=int(emp)\n",
        "        emp=\"\"\n",
        "print(lst)\n",
        "print(product)"
      ],
      "metadata": {
        "colab": {
          "base_uri": "https://localhost:8080/"
        },
        "id": "B3cRlQRVrS4N",
        "outputId": "a2607ed8-07fa-4f56-868c-e39648e4f117"
      },
      "execution_count": null,
      "outputs": [
        {
          "output_type": "stream",
          "name": "stdout",
          "text": [
            "10,0,20,3,1\n",
            "['10', '0', '20', '3', '1']\n",
            "0\n"
          ]
        }
      ]
    },
    {
      "cell_type": "code",
      "source": [
        "#6\n",
        "x=int(input())\n",
        "s=0\n",
        "for i in range(1,x+1):\n",
        "    num=\"1\"*i\n",
        "    s+=int(num)\n",
        "    if i==x:\n",
        "      print(num)\n",
        "    else:\n",
        "      print(num,end=\"+\")\n",
        "print(s)"
      ],
      "metadata": {
        "colab": {
          "base_uri": "https://localhost:8080/"
        },
        "id": "DDeskYJuujrm",
        "outputId": "bb1aabac-7339-4757-bc43-9202611411a5"
      },
      "execution_count": null,
      "outputs": [
        {
          "output_type": "stream",
          "name": "stdout",
          "text": [
            "5\n",
            "1+11+111+1111+11111\n",
            "12345\n"
          ]
        }
      ]
    },
    {
      "cell_type": "code",
      "source": [
        "x=input()\n",
        "y=\"aeoiuAEIOU\"\n",
        "p=\"\"\n",
        "for i in range(len(x)):\n",
        "    a=x[i]\n",
        "    if a not in y:\n",
        "      p=p+a\n",
        "print(p)"
      ],
      "metadata": {
        "id": "UxWOOdzigzG1",
        "outputId": "bd9c8f01-115d-4f40-b3e9-792d32b7028d",
        "colab": {
          "base_uri": "https://localhost:8080/"
        }
      },
      "execution_count": null,
      "outputs": [
        {
          "output_type": "stream",
          "name": "stdout",
          "text": [
            "Samia\n",
            "Sm\n"
          ]
        }
      ]
    },
    {
      "cell_type": "code",
      "source": [
        "print(\"Hi\\n\"*4)"
      ],
      "metadata": {
        "colab": {
          "base_uri": "https://localhost:8080/"
        },
        "id": "AUwulTT0OWKb",
        "outputId": "70bf1f12-c091-429e-9469-83f64fd2df59"
      },
      "execution_count": null,
      "outputs": [
        {
          "output_type": "stream",
          "name": "stdout",
          "text": [
            "Hi\n",
            "Hi\n",
            "Hi\n",
            "Hi\n",
            "\n"
          ]
        }
      ]
    },
    {
      "cell_type": "code",
      "source": [
        "sum=0\n",
        "for i in range(1,11):\n",
        "    if i%2==0:\n",
        "      sum-=i\n",
        "    else:\n",
        "      sum+=i\n",
        "print(sum)"
      ],
      "metadata": {
        "colab": {
          "base_uri": "https://localhost:8080/"
        },
        "id": "Xu0v2rWoOfoK",
        "outputId": "f2a073a7-a58a-47cc-fa6b-6ab82d0bf3ff"
      },
      "execution_count": null,
      "outputs": [
        {
          "output_type": "stream",
          "name": "stdout",
          "text": [
            "-5\n"
          ]
        }
      ]
    },
    {
      "cell_type": "code",
      "execution_count": null,
      "metadata": {
        "colab": {
          "base_uri": "https://localhost:8080/"
        },
        "id": "jhXjvhIpZSBX",
        "outputId": "0d8d558f-fb66-4620-e83d-35da07de5d27"
      },
      "outputs": [
        {
          "name": "stdout",
          "output_type": "stream",
          "text": [
            "43.5\n"
          ]
        }
      ],
      "source": [
        "print(1+18*2**1+1+3%2**1/2+5)"
      ]
    },
    {
      "cell_type": "code",
      "execution_count": null,
      "metadata": {
        "colab": {
          "base_uri": "https://localhost:8080/"
        },
        "id": "1Xj3kwaCb2iI",
        "outputId": "8abc51b6-d5a8-4fdf-afd6-682642ce2d46"
      },
      "outputs": [
        {
          "name": "stdout",
          "output_type": "stream",
          "text": [
            "18\n"
          ]
        }
      ],
      "source": [
        "print(15+3*15%2+15%2+1)"
      ]
    },
    {
      "cell_type": "code",
      "execution_count": null,
      "metadata": {
        "colab": {
          "base_uri": "https://localhost:8080/"
        },
        "id": "R6lg9DdLh84G",
        "outputId": "ed94b034-ffcd-462f-93ce-5e8edfda1849"
      },
      "outputs": [
        {
          "name": "stdout",
          "output_type": "stream",
          "text": [
            "10\n",
            "5\n",
            "Sum= 15\n",
            "Product= 50\n",
            "Difference= 5\n"
          ]
        }
      ],
      "source": [
        "x=int(input())\n",
        "y=int(input())\n",
        "print(\"Sum=\",x+y)\n",
        "print(\"Product=\",x*y)\n",
        "print(\"Difference=\", x-y)\n"
      ]
    },
    {
      "cell_type": "code",
      "execution_count": null,
      "metadata": {
        "colab": {
          "base_uri": "https://localhost:8080/"
        },
        "id": "O5AS4QAfliSe",
        "outputId": "21f8b6ec-1ddf-4b9a-d9ae-036ead30ec47"
      },
      "outputs": [
        {
          "name": "stdout",
          "output_type": "stream",
          "text": [
            "Enter radius4\n",
            "Area is 50.2656\n",
            "Circumference is 25.1328\n"
          ]
        }
      ],
      "source": [
        "x=int(input(\"Enter radius\"))\n",
        "a=2*3.1416*x\n",
        "b=3.1416*x**2\n",
        "print(\"Area is\",b)\n",
        "print(\"Circumference is\",a)"
      ]
    },
    {
      "cell_type": "code",
      "execution_count": null,
      "metadata": {
        "colab": {
          "base_uri": "https://localhost:8080/"
        },
        "id": "l8-Yc6KZpnrK",
        "outputId": "f53b46a8-85bb-48cc-9ab9-45dcfedda75e"
      },
      "outputs": [
        {
          "name": "stdout",
          "output_type": "stream",
          "text": [
            "Enter 1st number10\n",
            "Enter 2nd number15\n",
            "Second is greater\n"
          ]
        }
      ],
      "source": [
        "x=int(input(\"Enter 1st number\"))\n",
        "y=int(input(\"Enter 2nd number\"))\n",
        "if x>y:\n",
        "  print(\"First is greater\")\n",
        "elif x<y:\n",
        "  print(\"Second is greater\")\n",
        "else:\n",
        "  print(\"The numbers are equal\")"
      ]
    },
    {
      "cell_type": "code",
      "execution_count": null,
      "metadata": {
        "colab": {
          "base_uri": "https://localhost:8080/"
        },
        "id": "IG8R_q_tukjL",
        "outputId": "c991e22a-6b79-47b9-db36-bb533abe55f3"
      },
      "outputs": [
        {
          "name": "stdout",
          "output_type": "stream",
          "text": [
            "Enter the amount1234\n",
            "500 Taka: 2 note(s)\n",
            "100 Taka: 2 note(s)\n",
            "50 Taka 0\n",
            "20 Taka 1\n",
            "10 Taka 1\n",
            "5 Taka 0\n",
            "2 Taka 2\n",
            "1 Taka 0\n"
          ]
        }
      ],
      "source": [
        "x=int(input(\"Enter the amount\"))\n",
        "y=int(x/500)\n",
        "z=x%500\n",
        "a=int(z/100)\n",
        "b=z%100\n",
        "c=int(b/50)\n",
        "d=b%50\n",
        "e=int(d/20)\n",
        "f=d%20\n",
        "g=int(f/10)\n",
        "h=f%10\n",
        "i=int(h/5)\n",
        "j=h%5\n",
        "k=int(j/2)\n",
        "l=j%2\n",
        "m=int(l/1)\n",
        "print(\"500 Taka:\",y,\"note(s)\")\n",
        "print(\"100 Taka:\",a,\"note(s)\")\n",
        "print(\"50 Taka\",c)\n",
        "print(\"20 Taka\",e)\n",
        "print(\"10 Taka\",g)\n",
        "print(\"5 Taka\",i)\n",
        "print(\"2 Taka\",k)\n",
        "print(\"1 Taka\",m)"
      ]
    },
    {
      "cell_type": "code",
      "execution_count": null,
      "metadata": {
        "colab": {
          "base_uri": "https://localhost:8080/"
        },
        "id": "yWJcLHEA5j2G",
        "outputId": "f84991eb-680d-40ce-d6a6-eada78b74087"
      },
      "outputs": [
        {
          "name": "stdout",
          "output_type": "stream",
          "text": [
            "34\n"
          ]
        }
      ],
      "source": [
        "print(234%100)"
      ]
    },
    {
      "cell_type": "code",
      "execution_count": null,
      "metadata": {
        "colab": {
          "base_uri": "https://localhost:8080/"
        },
        "id": "6R9I3LxA_BfZ",
        "outputId": "31742520-03b2-495f-9aa7-6200521a558f"
      },
      "outputs": [
        {
          "name": "stdout",
          "output_type": "stream",
          "text": [
            "Enter one side7\n",
            "Enter one side10\n",
            "Enter one side5\n",
            "53.88877434122991\n"
          ]
        }
      ],
      "source": [
        "a=int(input('Enter one side'))\n",
        "b=int(input('Enter one side'))\n",
        "c=int(input('Enter one side'))\n",
        "s=(a+b+c)/2\n",
        "\n",
        "area=s*((s-a)*(s-b)*(s-c))**0.5\n",
        "print(area)"
      ]
    },
    {
      "cell_type": "code",
      "execution_count": null,
      "metadata": {
        "colab": {
          "base_uri": "https://localhost:8080/"
        },
        "id": "Hi8ap14PH4FG",
        "outputId": "5879d4dd-791c-48ad-cfcb-8851741509cb"
      },
      "outputs": [
        {
          "name": "stdout",
          "output_type": "stream",
          "text": [
            "Enter a year2036\n",
            "it's a leap year\n"
          ]
        }
      ],
      "source": [
        "x=int(input(\"Enter a year\"))\n",
        "if x%4==0 or x%400==0:\n",
        "  print(\"it's a leap year\")\n",
        "else:\n",
        "  print(\"it's not a leap year\")"
      ]
    },
    {
      "cell_type": "code",
      "execution_count": null,
      "metadata": {
        "colab": {
          "base_uri": "https://localhost:8080/"
        },
        "id": "dhaClsox2pic",
        "outputId": "569d198a-0494-46d1-fe4d-7afe54f32359"
      },
      "outputs": [
        {
          "name": "stdout",
          "output_type": "stream",
          "text": [
            "2032\n",
            "Leap year\n"
          ]
        }
      ],
      "source": [
        "year=int(input())\n",
        "if year%400==0:\n",
        "  print(\"Leap year\")\n",
        "elif year%4==0:\n",
        "  print(\"Leap year\")\n",
        "else:\n",
        "  print(\"Not a leap year\")"
      ]
    },
    {
      "cell_type": "code",
      "execution_count": null,
      "metadata": {
        "colab": {
          "base_uri": "https://localhost:8080/"
        },
        "id": "A7i6_iX97H_q",
        "outputId": "4988a06e-3f30-4a33-8cfa-c547a7ce4519"
      },
      "outputs": [
        {
          "name": "stdout",
          "output_type": "stream",
          "text": [
            "6\n",
            "6\n",
            "6\n",
            "False\n",
            "216\n",
            "5\n",
            "4\n",
            "False\n",
            "-3.0\n"
          ]
        }
      ],
      "source": [
        "x=6\n",
        "y=10\n",
        "y=x\n",
        "print(x)\n",
        "print(y)\n",
        "x-=2\n",
        "x+=2\n",
        "x//=1\n",
        "print(x)\n",
        "print(x!=y and a)\n",
        "print(x*y**2)\n",
        "print(x+5*4%2-1)\n",
        "q=(6*2//2-2**(2-1))\n",
        "print(q)\n",
        "print(x==q)\n",
        "print(x-((x+y%2)*3)/2)"
      ]
    },
    {
      "cell_type": "code",
      "execution_count": null,
      "metadata": {
        "colab": {
          "base_uri": "https://localhost:8080/"
        },
        "id": "i_fE39BM98wo",
        "outputId": "cb4778d8-65fc-41e3-fbb4-84bcd52574e0"
      },
      "outputs": [
        {
          "name": "stdout",
          "output_type": "stream",
          "text": [
            "HelloHi\n"
          ]
        }
      ],
      "source": [
        "print(\"Hello\"+\"Hi\")"
      ]
    },
    {
      "cell_type": "code",
      "execution_count": null,
      "metadata": {
        "colab": {
          "base_uri": "https://localhost:8080/"
        },
        "id": "zIx9Fg2t-F-N",
        "outputId": "6361c6fc-ceae-4afd-fc57-6d52d2f07d10"
      },
      "outputs": [
        {
          "name": "stdout",
          "output_type": "stream",
          "text": [
            "Hello Hi\n"
          ]
        }
      ],
      "source": [
        "print(\"Hello\",\"Hi\")"
      ]
    },
    {
      "cell_type": "code",
      "execution_count": null,
      "metadata": {
        "colab": {
          "base_uri": "https://localhost:8080/"
        },
        "id": "HNnneGsO-YGH",
        "outputId": "dce8b353-f89d-4c78-f534-74b33f6809db"
      },
      "outputs": [
        {
          "name": "stdout",
          "output_type": "stream",
          "text": [
            "Hello Hi\n"
          ]
        }
      ],
      "source": [
        "print(\"Hello\"+\" \"+\"Hi\")"
      ]
    },
    {
      "cell_type": "code",
      "execution_count": null,
      "metadata": {
        "colab": {
          "base_uri": "https://localhost:8080/"
        },
        "id": "_Ng2beLB-rZa",
        "outputId": "8235ed3c-b242-4fd1-f93e-bb581a574497"
      },
      "outputs": [
        {
          "name": "stdout",
          "output_type": "stream",
          "text": [
            "HelloHi\n"
          ]
        }
      ],
      "source": [
        "print(\"Hello\",end=\"\")\n",
        "print(\"Hi\")"
      ]
    },
    {
      "cell_type": "code",
      "execution_count": null,
      "metadata": {
        "colab": {
          "base_uri": "https://localhost:8080/"
        },
        "id": "vUprWkfuDcPf",
        "outputId": "f176f6e9-ec74-47b0-8fcd-f98852d5c0e5"
      },
      "outputs": [
        {
          "name": "stdout",
          "output_type": "stream",
          "text": [
            "Enter your first nameLabiba\n",
            "Enter your last nameArif\n",
            "Enter your age23\n",
            "Enter your CGPA3.7\n",
            "Name: Labiba Rahman\n",
            "Age: 21\n",
            "CGPA 3.95\n"
          ]
        }
      ],
      "source": [
        "x=input(\"Enter your first name\")\n",
        "a=input(\"Enter your last name\")\n",
        "y=int(input(\"Enter your age\"))\n",
        "z=float(input(\"Enter your CGPA\"))\n",
        "b=y-2\n",
        "c=z+.25\n",
        "print(\"Name:\",x,\"Rahman\")\n",
        "print(\"Age:\",b)\n",
        "print(\"CGPA:\",c)"
      ]
    },
    {
      "cell_type": "code",
      "execution_count": null,
      "metadata": {
        "colab": {
          "base_uri": "https://localhost:8080/"
        },
        "id": "1Rfm3jw4KQRY",
        "outputId": "b1bb210b-3f67-44b4-c632-4cfee77ed827"
      },
      "outputs": [
        {
          "name": "stdout",
          "output_type": "stream",
          "text": [
            "2^3: 8\n"
          ]
        }
      ],
      "source": [
        "a=3\n",
        "b=2\n",
        "c=b**a\n",
        "print('2^3:',c)"
      ]
    },
    {
      "cell_type": "code",
      "execution_count": null,
      "metadata": {
        "colab": {
          "base_uri": "https://localhost:8080/"
        },
        "id": "Mx12AcLYs_Jw",
        "outputId": "ac96414b-0328-4067-e4a3-7c25ea4ae695"
      },
      "outputs": [
        {
          "name": "stdout",
          "output_type": "stream",
          "text": [
            "0.7781512503836436\n"
          ]
        }
      ],
      "source": [
        "from math import log10\n",
        "a=log10(6)\n",
        "print(a)"
      ]
    },
    {
      "cell_type": "code",
      "execution_count": null,
      "metadata": {
        "colab": {
          "base_uri": "https://localhost:8080/"
        },
        "id": "_lZ4Y8UtJgI3",
        "outputId": "753c172c-8196-471c-d095-fd65b2af357c"
      },
      "outputs": [
        {
          "name": "stdout",
          "output_type": "stream",
          "text": [
            "110\n"
          ]
        }
      ],
      "source": [
        "print(54+56)"
      ]
    },
    {
      "cell_type": "code",
      "execution_count": null,
      "metadata": {
        "colab": {
          "base_uri": "https://localhost:8080/"
        },
        "id": "dHJokTISPOen",
        "outputId": "b261f31c-1601-4194-fafa-c24375e9c404"
      },
      "outputs": [
        {
          "name": "stdout",
          "output_type": "stream",
          "text": [
            "Summer\n",
            "2023\n"
          ]
        }
      ],
      "source": [
        "season=\"Summer\"\n",
        "year=2023\n",
        "print(season)\n",
        "print(year)"
      ]
    },
    {
      "cell_type": "code",
      "execution_count": null,
      "metadata": {
        "colab": {
          "base_uri": "https://localhost:8080/"
        },
        "id": "m8JqXzvMP6hi",
        "outputId": "1b0e3227-b180-4e41-e394-60f389971604"
      },
      "outputs": [
        {
          "name": "stdout",
          "output_type": "stream",
          "text": [
            "Enter your nameJohn\n",
            "Enter your nameAlbert\n",
            "Your name is John\n",
            "Your name is Albert\n"
          ]
        }
      ],
      "source": [
        "x=input(\"Enter your name\")\n",
        "y=input(\"Enter your name\")\n",
        "print(\"Your name is\",x)\n",
        "print(\"Your name is\",y)"
      ]
    },
    {
      "cell_type": "code",
      "execution_count": null,
      "metadata": {
        "colab": {
          "base_uri": "https://localhost:8080/"
        },
        "id": "HXHr9RxkS4HM",
        "outputId": "795a28de-498e-4f2b-f812-070104203567"
      },
      "outputs": [
        {
          "name": "stdout",
          "output_type": "stream",
          "text": [
            "Enter an integer2\n",
            "Enter an integer6\n",
            "Enter an integer8\n",
            "Enter an floating point number1.3\n",
            "267\n"
          ]
        }
      ],
      "source": [
        "A=int(input(\"Enter an integer\"))\n",
        "B=int(input(\"Enter an integer\"))\n",
        "C=int(input(\"Enter an integer\"))\n",
        "D=float(input(\"Enter an floating point number\"))\n",
        "a=A**C+B*A-D/3\n",
        "print(int(a))"
      ]
    },
    {
      "cell_type": "code",
      "execution_count": null,
      "metadata": {
        "colab": {
          "base_uri": "https://localhost:8080/"
        },
        "id": "YAq7kHRPVTq4",
        "outputId": "10fb696e-baef-45ff-b05c-64a9f6086c75"
      },
      "outputs": [
        {
          "name": "stdout",
          "output_type": "stream",
          "text": [
            "1 1.0 T\n"
          ]
        }
      ],
      "source": [
        "a,b,c=1,1.0,'T'\n",
        "print(a,b,c)"
      ]
    },
    {
      "cell_type": "code",
      "execution_count": null,
      "metadata": {
        "colab": {
          "base_uri": "https://localhost:8080/"
        },
        "id": "qYjgmaA2YJKC",
        "outputId": "686c111c-6dc6-4a81-d7b7-5cb90a5f3fa3"
      },
      "outputs": [
        {
          "data": {
            "text/plain": [
              "True"
            ]
          },
          "execution_count": 17,
          "metadata": {},
          "output_type": "execute_result"
        }
      ],
      "source": [
        "x=100\n",
        "y=100\n",
        "id(x)==id(y)"
      ]
    },
    {
      "cell_type": "code",
      "execution_count": null,
      "metadata": {
        "colab": {
          "base_uri": "https://localhost:8080/"
        },
        "id": "g8aFicIdcflc",
        "outputId": "a29bacd8-f3a3-4ef8-cf15-9149d24ac45a"
      },
      "outputs": [
        {
          "name": "stdout",
          "output_type": "stream",
          "text": [
            "5\n"
          ]
        }
      ],
      "source": [
        "_x=5\n",
        "print(_x)"
      ]
    },
    {
      "cell_type": "code",
      "execution_count": null,
      "metadata": {
        "colab": {
          "base_uri": "https://localhost:8080/"
        },
        "id": "yr51bL8geWhQ",
        "outputId": "e545ea07-89e8-42fa-fb37-4224067680cf"
      },
      "outputs": [
        {
          "name": "stdout",
          "output_type": "stream",
          "text": [
            "First is greater\n"
          ]
        }
      ],
      "source": [
        "x=7\n",
        "y=3\n",
        "if x>y:\n",
        "  print(\"First is greater\")\n",
        "elif x<y:\n",
        "  print(\"Second is greater\")\n",
        "else:\n",
        "  print(\"The numbers are equal\")\n"
      ]
    },
    {
      "cell_type": "code",
      "execution_count": null,
      "metadata": {
        "colab": {
          "base_uri": "https://localhost:8080/"
        },
        "id": "MrekSKHXhPDq",
        "outputId": "b5ee0bc3-e497-4d14-fb99-922a893d2c88"
      },
      "outputs": [
        {
          "name": "stdout",
          "output_type": "stream",
          "text": [
            "7\n",
            "The number is odd\n"
          ]
        }
      ],
      "source": [
        "x=int(input())\n",
        "if x%2==0:\n",
        "  print(\"The number is even\")\n",
        "else:\n",
        "  print(\"The number is odd\")"
      ]
    },
    {
      "cell_type": "code",
      "execution_count": null,
      "metadata": {
        "colab": {
          "base_uri": "https://localhost:8080/"
        },
        "id": "414VKXxzjdaQ",
        "outputId": "fb1f6776-343f-4d63-f671-d9900eb5c7d3"
      },
      "outputs": [
        {
          "name": "stdout",
          "output_type": "stream",
          "text": [
            "10\n",
            "10\n"
          ]
        }
      ],
      "source": [
        "x=int(input())\n",
        "if x%2==0 or x%5==0:\n",
        "  print(x)\n",
        "else:\n",
        "  print(\"Not a multiple of 2 OR 5\")"
      ]
    },
    {
      "cell_type": "code",
      "execution_count": null,
      "metadata": {
        "colab": {
          "base_uri": "https://localhost:8080/"
        },
        "id": "L4xRGt6Pfd6E",
        "outputId": "8fe30c35-7697-49cb-bb91-8fbbf155ceca"
      },
      "outputs": [
        {
          "name": "stdout",
          "output_type": "stream",
          "text": [
            "-40\n",
            "-4\n",
            "36\n"
          ]
        }
      ],
      "source": [
        "#Home task 1\n",
        "x=int(input())\n",
        "y=int(input())\n",
        "if x>y:\n",
        "  print(x-y)\n",
        "else:\n",
        "  print(y-x)"
      ]
    },
    {
      "cell_type": "code",
      "execution_count": null,
      "metadata": {
        "colab": {
          "base_uri": "https://localhost:8080/"
        },
        "id": "yPPD3emVlWwI",
        "outputId": "5d755d59-4e4b-4914-dbd9-4c6d4cae4764"
      },
      "outputs": [
        {
          "name": "stdout",
          "output_type": "stream",
          "text": [
            "15\n",
            "15\n"
          ]
        }
      ],
      "source": [
        "#Home task 2\n",
        "x=int(input())\n",
        "if x%2==0 and x%5==0:\n",
        "  print(\"Multiple of 2 and 5 both\")\n",
        "elif x%2==0:\n",
        "  print(x)\n",
        "elif x%5==0:\n",
        "  print(x)\n",
        "else:\n",
        "  print(\"Not a multiple we want\")\n"
      ]
    },
    {
      "cell_type": "code",
      "execution_count": null,
      "metadata": {
        "colab": {
          "base_uri": "https://localhost:8080/"
        },
        "id": "otawlXIouA9L",
        "outputId": "b73b172b-421b-4885-a6d1-62d70aa3ae44"
      },
      "outputs": [
        {
          "name": "stdout",
          "output_type": "stream",
          "text": [
            "Enter a number3\n",
            "1875\n"
          ]
        }
      ],
      "source": [
        "#Home task 3\n",
        "S=int(input(\"Enter a number\"))\n",
        "if S<100:\n",
        "  L=3000-125*(S**2)\n",
        "  print(L)\n",
        "elif S>=100:\n",
        "  L=12000/(4+(S**2)/14900)\n",
        "  print(L)\n",
        "else:\n",
        "  print(\"Invalid value\")"
      ]
    },
    {
      "cell_type": "code",
      "execution_count": null,
      "metadata": {
        "colab": {
          "base_uri": "https://localhost:8080/"
        },
        "id": "XvvJ368C4Q5I",
        "outputId": "75a32fc9-8c9a-480e-fed7-e66460be47da"
      },
      "outputs": [
        {
          "name": "stdout",
          "output_type": "stream",
          "text": [
            "Enter an hour-1\n",
            "Wrong time\n"
          ]
        }
      ],
      "source": [
        "#Home task4\n",
        "x=int(input(\"Enter an hour\"))\n",
        "if not(0<=x<=23):\n",
        "  print(\"Wrong time\")\n",
        "elif 4<=x<=6:\n",
        "  print(\"Breakfast\")\n",
        "elif 12<=x<=13:\n",
        "  print(\"Lunch\")\n",
        "elif 16<=x<=17:\n",
        "  print(\"Snacks\")\n",
        "elif 19<=x<=20:\n",
        "  print(\"Dinner\")\n",
        "else:\n",
        "  print(\"Patience is a virtue\")\n"
      ]
    },
    {
      "cell_type": "code",
      "execution_count": null,
      "metadata": {
        "colab": {
          "base_uri": "https://localhost:8080/"
        },
        "id": "1AdVX3ME3rac",
        "outputId": "a664a8d9-1764-4914-81bf-b5952d8ef431"
      },
      "outputs": [
        {
          "name": "stdout",
          "output_type": "stream",
          "text": [
            "Enter your mark80\n",
            "B\n"
          ]
        }
      ],
      "source": [
        "#Home task 5\n",
        "x=int(input(\"Enter your mark\"))\n",
        "if not(0<x<100):\n",
        "  print(\"Invalid value\")\n",
        "elif x>=90:\n",
        "  print(\"A\")\n",
        "elif 80<=x<=89:\n",
        "  print(\"B\")\n",
        "elif 70<=x<=79:\n",
        "  print(\"C\")\n",
        "elif 60<=x<=69:\n",
        "  print(\"D\")\n",
        "elif 50<=x<=59:\n",
        "  print(\"E\")\n",
        "else:\n",
        "  print(\"F\")\n"
      ]
    },
    {
      "cell_type": "code",
      "execution_count": null,
      "metadata": {
        "colab": {
          "base_uri": "https://localhost:8080/"
        },
        "id": "wcvet9YWEsBa",
        "outputId": "8f1714b1-4265-48ce-d2aa-e829a074d20b"
      },
      "outputs": [
        {
          "name": "stdout",
          "output_type": "stream",
          "text": [
            "2\n",
            "10\n",
            "-1\n",
            "100\n",
            "False\n"
          ]
        }
      ],
      "source": [
        "num1 = 10\n",
        "num2 = -3\n",
        "num3 = -1\n",
        "sum = num1 + num2 + num3\n",
        "if (num3 < 0):\n",
        "    print(num3 * -2)\n",
        "else:\n",
        "    print(sum)\n",
        "if (num1 < 5):\n",
        "    print(num1 + 10)\n",
        "elif (num2 == -3):\n",
        "    num2 = num1\n",
        "    print(num2)\n",
        "else:\n",
        "    print(num1 + num2 + num3)\n",
        "if (num1 > 15):\n",
        "    print(num1)\n",
        "elif (num2 == 0):\n",
        "    print(num2 + num3)\n",
        "else:\n",
        "    print(num3)\n",
        "if (sum != 0):\n",
        "    print(100)\n",
        "else:\n",
        "    print(sum + 100)\n",
        "if (num1 > 0 and num2 < 0):\n",
        "    print(num1 == num2)\n",
        "else:\n",
        "    print(\"False\")"
      ]
    },
    {
      "cell_type": "code",
      "execution_count": null,
      "metadata": {
        "colab": {
          "base_uri": "https://localhost:8080/"
        },
        "id": "RidlstIxBtGN",
        "outputId": "89bfc1ab-ce68-4eaf-eb98-9346ac749eb3"
      },
      "outputs": [
        {
          "name": "stdout",
          "output_type": "stream",
          "text": [
            "False\n",
            "False\n",
            "True\n",
            "False\n",
            "False\n",
            "True\n",
            "False\n",
            "False\n",
            "False\n",
            "True\n"
          ]
        }
      ],
      "source": [
        "var1 = False\n",
        "var2 = False\n",
        "var3 = False\n",
        "var4 = False\n",
        "var5 = False\n",
        "var6 = False\n",
        "result1 = False\n",
        "result2 = False\n",
        "result3 = False\n",
        "result4 = False\n",
        "result5 = False\n",
        "result6 = False\n",
        "result7 = False\n",
        "result8 = False\n",
        "result9 = False\n",
        "result10 = False\n",
        "var1 = ((not True) or True) and False\n",
        "var2 = var1 and False\n",
        "var3 = True and not False\n",
        "var4 = False\n",
        "var5 = True\n",
        "var6 = var3 and False\n",
        "result1 = (var1 and var2) and (40 % 3) > 45 or (var5 and var6)\n",
        "result2 = (var1 or var2) or (result1 and False)\n",
        "result3 = (var1 and result1) or result2 or var5\n",
        "result4 = (var1 or var2) or ((var3 and var1) and False)\n",
        "result5 = (var1 and var2) and (result3 or var1)\n",
        "result6 = ((var3 or (not var2)) and (result5)) or True\n",
        "result7 = (var4 and result1) and ((result1 and False) or True)\n",
        "result8 = ((var1 and result3) and ((not var5) or var6)) and True\n",
        "result9 = ((result2 and var2) or ((not result7) and var1)) and not False\n",
        "result10 = not(var1 and True)\n",
        "\n",
        "print(result1)\n",
        "print(result2)\n",
        "print(result3)\n",
        "print(result4)\n",
        "print(result5)\n",
        "print(result6)\n",
        "print(result7)\n",
        "print(result8)\n",
        "print(result9)\n",
        "print(result10)"
      ]
    },
    {
      "cell_type": "code",
      "execution_count": null,
      "metadata": {
        "colab": {
          "base_uri": "https://localhost:8080/"
        },
        "id": "jQ7GSjfkJXRa",
        "outputId": "16771a37-61a9-4378-f716-ed3dc4910438"
      },
      "outputs": [
        {
          "name": "stdout",
          "output_type": "stream",
          "text": [
            "False\n",
            "True\n",
            "True\n",
            "True\n",
            "True\n",
            "True\n",
            "False\n",
            "True\n",
            "True\n",
            "False\n"
          ]
        }
      ],
      "source": [
        "var1 = var2 = var3 = var4 = var5 = var6 = False\n",
        "result1 = result2 = result3 = result4 = result5 = result6 = False\n",
        "result7 = result8 = result9 = result10 = False\n",
        "var1 = (not False or False) and True\n",
        "var2 = var1 and True\n",
        "var3 = False and not True\n",
        "var4 = True\n",
        "var5 = False\n",
        "var6 = var3 and True\n",
        "result1 = (var1 and var2) and ( 40 % 3 > 45) or (var5 and var6)\n",
        "result2 = (var1 or var2) or (result1 and False)\n",
        "result3 = (var1 and result1) or result2 or var5\n",
        "result4 = (var1 or var2) or ((var3 and var1) and False)\n",
        "result5 = (var1 and var2) and (result3 or var1)\n",
        "result6 = ((var3 or not var2) and (result5)) or True\n",
        "result7 = (var4 and result1) and ((result1 and False) or True)\n",
        "result8 = ((var1 and result3) and (not var5 or var6)) and True\n",
        "result9 = ((result2 and var2) or (not result7 and var1)) and not False\n",
        "result10 = not (var1 and True)\n",
        "\n",
        "print(result1)\n",
        "print(result2)\n",
        "print(result3)\n",
        "print(result4)\n",
        "print(result5)\n",
        "print(result6)\n",
        "print(result7)\n",
        "print(result8)\n",
        "print(result9)\n",
        "print(result10)"
      ]
    },
    {
      "cell_type": "code",
      "execution_count": null,
      "metadata": {
        "colab": {
          "base_uri": "https://localhost:8080/"
        },
        "id": "Z2q_Qn85HeZH",
        "outputId": "9a26403b-b89d-4acd-e788-be727ae4388d"
      },
      "outputs": [
        {
          "name": "stdout",
          "output_type": "stream",
          "text": [
            "Enter an integer value13\n",
            "13\n"
          ]
        }
      ],
      "source": [
        "#Task 20\n",
        "x=int(input(\"Enter an integer value\"))\n",
        "if x%2==0:\n",
        "  print('No')\n",
        "elif x%5==0:\n",
        "  print('No')\n",
        "elif x%2!=0 and x%5!=0:\n",
        "  print(x)\n",
        "else:\n",
        "  print(\"Invalid value\")"
      ]
    },
    {
      "cell_type": "code",
      "execution_count": null,
      "metadata": {
        "colab": {
          "base_uri": "https://localhost:8080/"
        },
        "id": "MYubYDieJGg4",
        "outputId": "3aeebc95-6d2c-4b87-c734-6c511df47bc9"
      },
      "outputs": [
        {
          "name": "stdout",
          "output_type": "stream",
          "text": [
            "Enter an integer value10\n",
            "No\n"
          ]
        }
      ],
      "source": [
        "x=int(input(\"Enter an integer value\"))\n",
        "if x%2==0 and x%5==0:\n",
        "  print(\"No\")\n",
        "elif x%2!=0 or x%5!=0:\n",
        "  print(x)\n",
        "else:\n",
        "  print(\"Invalid value\")"
      ]
    },
    {
      "cell_type": "code",
      "execution_count": null,
      "metadata": {
        "colab": {
          "base_uri": "https://localhost:8080/"
        },
        "id": "PvlxJ_fQEJrC",
        "outputId": "22259593-afd4-47ca-8793-d267ef9addfe"
      },
      "outputs": [
        {
          "name": "stdout",
          "output_type": "stream",
          "text": [
            "Enter the number of canvases0\n",
            "Enter the number of paint tubes3\n",
            "Previous total: 225\n",
            "New total after discount: 225\n"
          ]
        }
      ],
      "source": [
        "x=int(input(\"Enter the number of canvases\"))\n",
        "y=int(input(\"Enter the number of paint tubes\"))\n",
        "a=x*120\n",
        "b=y*75\n",
        "c=a+b\n",
        "if 0<=c<=299:\n",
        "  print(\"Previous total:\",c)\n",
        "  print(\"New total after discount:\",c)\n",
        "elif 300<=c<=499:\n",
        "  print(\"Previous total:\",c)\n",
        "  print(\"New total after discount:\",c-10)\n",
        "elif 500<=c<=749:\n",
        "  print(\"Previous total:\",c)\n",
        "  print(\"New total after discount:\",c-20)\n",
        "elif 750<=c<=999:\n",
        "  print(\"Previous total:\",c)\n",
        "  print(\"New total after discount:\",c-50)\n",
        "elif c>=1000:\n",
        "  print(\"Previous total:\",c)\n",
        "  print(\"New total after discount:\",c-150)\n",
        "else:\n",
        "  print(\"Invalid value\")"
      ]
    },
    {
      "cell_type": "code",
      "execution_count": null,
      "metadata": {
        "colab": {
          "base_uri": "https://localhost:8080/"
        },
        "id": "GH8Oc9YJOh05",
        "outputId": "30df93b2-12c3-4803-aa1c-e539420fa845"
      },
      "outputs": [
        {
          "name": "stdout",
          "output_type": "stream",
          "text": [
            "Enter the temparature82\n",
            "28.000000000000004 degrees C\n",
            "Spring\n"
          ]
        }
      ],
      "source": [
        "x=int(input('Enter the temparature'))\n",
        "y=((x)-32)*0.56\n",
        "if y<20:\n",
        "  print(y,\"degrees C\")\n",
        "  print(\"Winter\")\n",
        "elif 20<=y<25:\n",
        "  print(y,\"degrees C\")\n",
        "  print(\"Autumn\")\n",
        "elif 25<=y<30:\n",
        "  print(y,\"degrees C\")\n",
        "  print(\"Spring\")\n",
        "elif y>=30:\n",
        "  print(y,\"degrees C\")\n",
        "  print(\"Summer\")\n",
        "else:\n",
        "  print(\"Nothing\")\n"
      ]
    },
    {
      "cell_type": "code",
      "execution_count": null,
      "metadata": {
        "colab": {
          "base_uri": "https://localhost:8080/"
        },
        "id": "DuprPBDKMjdz",
        "outputId": "bac733b4-7190-45a8-a641-fb201b5241c5"
      },
      "outputs": [
        {
          "name": "stdout",
          "output_type": "stream",
          "text": [
            "7\n",
            "9\n",
            "12\n",
            "Valid triangle\n"
          ]
        }
      ],
      "source": [
        "x=int(input())\n",
        "y=int(input())\n",
        "z=int(input())\n",
        "if x+y>z:\n",
        "  print(\"Valid triangle\")\n",
        "else:\n",
        "  print(\"Not a valid triangle\")"
      ]
    },
    {
      "cell_type": "code",
      "execution_count": null,
      "metadata": {
        "colab": {
          "base_uri": "https://localhost:8080/"
        },
        "id": "e8Iw0m6LO3tp",
        "outputId": "bfde3907-5152-499a-fb60-a932aeb4da82"
      },
      "outputs": [
        {
          "name": "stdout",
          "output_type": "stream",
          "text": [
            "False\n",
            "True False False\n",
            "5\n",
            "False\n",
            "True\n",
            "False False True False\n",
            "10 5 15\n"
          ]
        }
      ],
      "source": [
        "a=b=c=d= False\n",
        "e,f,g= \"True\",False,2\n",
        "x,y,z=10,5,15\n",
        "if a:\n",
        "  print(\"hello\")\n",
        "else:\n",
        "    a = True\n",
        "if x % g == 0:\n",
        "    print(\"T\" not in e)\n",
        "    if a == b:\n",
        "        print(\"Right\")\n",
        "    else:\n",
        "        if (a or b) and (a or d):\n",
        "            print(f\"{a} {b} {d}\")\n",
        "            print(-55%6)\n",
        "            print(55%-6==0)\n",
        "else:\n",
        "    print(\"wasted time\")\n",
        "if a:\n",
        "    c = True\n",
        "    if a and (c and d):\n",
        "        e = True\n",
        "    elif a and (c or d):\n",
        "        d = \"True\"\n",
        "        print(a or (c and b))\n",
        "    else:\n",
        "        b = True\n",
        "        y = 9\n",
        "else:\n",
        "    print(\"your tracing is correct\")\n",
        "if x > 10:\n",
        "    a=b=c=d= False\n",
        "elif 2 % -3 == 0:\n",
        "    print(-4%5)\n",
        "elif x != 0 or y <= 10 or z == 15:\n",
        "    if x >= 10 and y != 5 or d == True:\n",
        "        d = True\n",
        "    elif not(b and a):\n",
        "        d = not(d)\n",
        "        a = not(a)\n",
        "        b = not((a and b) or c)\n",
        "        c = not((c or b) and d)\n",
        "else:\n",
        "    print()\n",
        "print(f\"{a} {b} {c} {d}\")\n",
        "print(x,y,z)\n"
      ]
    },
    {
      "cell_type": "code",
      "execution_count": null,
      "metadata": {
        "colab": {
          "base_uri": "https://localhost:8080/"
        },
        "id": "hGtvay1yRFUX",
        "outputId": "4fd8e386-a8cd-410d-e7e8-d09ec17932c9"
      },
      "outputs": [
        {
          "name": "stdout",
          "output_type": "stream",
          "text": [
            "5\n"
          ]
        }
      ],
      "source": [
        "print(-55%6)"
      ]
    },
    {
      "cell_type": "code",
      "execution_count": null,
      "metadata": {
        "colab": {
          "base_uri": "https://localhost:8080/"
        },
        "id": "p2ZFJKXI4WHs",
        "outputId": "88db72db-5359-4877-be85-3498814964f4"
      },
      "outputs": [
        {
          "name": "stdout",
          "output_type": "stream",
          "text": [
            "Enter a number :-5\n",
            "-125\n"
          ]
        }
      ],
      "source": [
        "S = int(input(\"Enter a number :\"))\n",
        "if S < 100:\n",
        "    L = 3000 - 125 * S**2\n",
        "    print(L)\n",
        "elif S >= 100:\n",
        "    L = 12000/(4+(S**2/14900))\n",
        "    print(L)"
      ]
    },
    {
      "cell_type": "code",
      "execution_count": null,
      "metadata": {
        "colab": {
          "base_uri": "https://localhost:8080/"
        },
        "id": "rpV2ep6IOH9y",
        "outputId": "82f2171c-ca5e-4de9-dd8b-0e5540c13e95"
      },
      "outputs": [
        {
          "name": "stdout",
          "output_type": "stream",
          "text": [
            "Enter the salary5000\n",
            "Enter the year of service6\n",
            "250.0\n"
          ]
        }
      ],
      "source": [
        "#Assignment-2Branching_part-1(2)\n",
        "x=int(input(\"Enter the salary\"))\n",
        "y=int(input(\"Enter the year of service\"))\n",
        "if y>5:\n",
        "  a=x*0.05\n",
        "  print(a)\n",
        "else:\n",
        "  print(\"No bonus\")"
      ]
    },
    {
      "cell_type": "code",
      "execution_count": null,
      "metadata": {
        "colab": {
          "base_uri": "https://localhost:8080/"
        },
        "id": "El0sHHclUIy0",
        "outputId": "98d4b686-e6f7-495f-921d-8b11ec46d1cf"
      },
      "outputs": [
        {
          "name": "stdout",
          "output_type": "stream",
          "text": [
            "5\n",
            "10\n",
            "10\n"
          ]
        }
      ],
      "source": [
        "x=int(input())\n",
        "y=int(input())\n",
        "if x>y:\n",
        "  print(x)\n",
        "else:\n",
        "  print(y)"
      ]
    },
    {
      "cell_type": "code",
      "execution_count": null,
      "metadata": {
        "colab": {
          "base_uri": "https://localhost:8080/"
        },
        "id": "YFKRuiQJVf7-",
        "outputId": "8db4ab0b-4194-46eb-d784-565486684631"
      },
      "outputs": [
        {
          "name": "stdout",
          "output_type": "stream",
          "text": [
            "20\n",
            "10\n",
            "5\n",
            "Oldest 20\n"
          ]
        }
      ],
      "source": [
        "x=int(input())\n",
        "y=int(input())\n",
        "z=int(input())\n",
        "if x>y and x>z:\n",
        "  print('Oldest',x)\n",
        "elif y>z and y>x:\n",
        "  print('Oldest',y)\n",
        "else:\n",
        "  print('Oldest',z)"
      ]
    },
    {
      "cell_type": "code",
      "execution_count": null,
      "metadata": {
        "colab": {
          "base_uri": "https://localhost:8080/"
        },
        "id": "oqkE3gwtZHlo",
        "outputId": "39c7dc57-b4a8-437c-98c9-ae4e62e7001b"
      },
      "outputs": [
        {
          "name": "stdout",
          "output_type": "stream",
          "text": [
            "5\n",
            "10\n",
            "15\n",
            "Youngest 5\n"
          ]
        }
      ],
      "source": [
        "x=int(input())\n",
        "y=int(input())\n",
        "z=int(input())\n",
        "if x<y and x<z:\n",
        "  print(\"Youngest\",x)\n",
        "elif y<z and y<x:\n",
        "  print(\"Youngest\",y)\n",
        "else:\n",
        "  print(\"Youngest\",z)"
      ]
    },
    {
      "cell_type": "code",
      "execution_count": null,
      "metadata": {
        "colab": {
          "base_uri": "https://localhost:8080/"
        },
        "id": "_cXhV4dcaNWV",
        "outputId": "973940f2-a3a4-4424-ef77-b302d9ad9329"
      },
      "outputs": [
        {
          "name": "stdout",
          "output_type": "stream",
          "text": [
            "-1\n",
            "-1\n"
          ]
        }
      ],
      "source": [
        "x=int(input())\n",
        "print(x)"
      ]
    },
    {
      "cell_type": "code",
      "execution_count": null,
      "metadata": {
        "colab": {
          "base_uri": "https://localhost:8080/"
        },
        "id": "OInjd_zocUpf",
        "outputId": "f10b05c9-2138-454c-901a-9a01ce3e1f6e"
      },
      "outputs": [
        {
          "name": "stdout",
          "output_type": "stream",
          "text": [
            "SAMIA 9\n"
          ]
        }
      ],
      "source": [
        "x=\"SAMIA\"\n",
        "y=9\n",
        "print(x,end=\" \")\n",
        "print(y)"
      ]
    },
    {
      "cell_type": "code",
      "execution_count": null,
      "metadata": {
        "colab": {
          "base_uri": "https://localhost:8080/"
        },
        "id": "XtclUXjAqVTQ",
        "outputId": "9dced3d0-1732-416e-d3b8-8bfeae731aa3"
      },
      "outputs": [
        {
          "name": "stdout",
          "output_type": "stream",
          "text": [
            "-20\n",
            "Nothing\n"
          ]
        }
      ],
      "source": [
        "n=int(input())\n",
        "if n%2==0:\n",
        "    if 2<=n<=5:\n",
        "        print(\"Not Weird\")\n",
        "    elif 6<=n<=20:\n",
        "        print(\"Weird\")\n",
        "    elif n>20:\n",
        "        print(\"Not Weird\")\n",
        "    else:\n",
        "        print(\"Nothing\")\n",
        "else:\n",
        "    print(\"Weird\")"
      ]
    },
    {
      "cell_type": "code",
      "execution_count": null,
      "metadata": {
        "colab": {
          "base_uri": "https://localhost:8080/"
        },
        "id": "N-VUd3sUz1Hi",
        "outputId": "be74eac0-8c30-4a01-fd6f-454a6e723e8f"
      },
      "outputs": [
        {
          "name": "stdout",
          "output_type": "stream",
          "text": [
            "24,18,12,6,0,-6"
          ]
        }
      ],
      "source": [
        "count=24\n",
        "while count>=-6:\n",
        " if count==-6:\n",
        "  print(count,end=\"\")\n",
        " else:\n",
        "  print(count,end=\",\")\n",
        " count-=6"
      ]
    },
    {
      "cell_type": "code",
      "execution_count": null,
      "metadata": {
        "colab": {
          "base_uri": "https://localhost:8080/"
        },
        "id": "1rljPvPlif4k",
        "outputId": "7cb9f948-5249-41c5-ef84-4a7161ba2485"
      },
      "outputs": [
        {
          "name": "stdout",
          "output_type": "stream",
          "text": [
            "Enter the name of your favorite carVeyron\n",
            "Enter a number5\n",
            "Veyron\n",
            "Veyron\n",
            "Veyron\n",
            "Veyron\n",
            "Veyron\n"
          ]
        }
      ],
      "source": [
        "x=input(\"Enter the name of your favorite car\")\n",
        "count=1\n",
        "y=int(input(\"Enter a number\"))\n",
        "while count<=y:\n",
        "  print(x)\n",
        "  count+=1"
      ]
    },
    {
      "cell_type": "code",
      "execution_count": null,
      "metadata": {
        "colab": {
          "base_uri": "https://localhost:8080/"
        },
        "id": "UggnNJdCqSDK",
        "outputId": "ae9b4c8d-db65-4722-b1c2-69f08c60abc1"
      },
      "outputs": [
        {
          "name": "stdout",
          "output_type": "stream",
          "text": [
            "2835\n"
          ]
        }
      ],
      "source": [
        "n=600\n",
        "count=1\n",
        "sum=0\n",
        "while count<=n:\n",
        " if count%7==0 and count%9==0:\n",
        "  sum +=count\n",
        " count+=1\n",
        "print(sum)\n",
        "\n",
        "\n"
      ]
    },
    {
      "cell_type": "code",
      "execution_count": null,
      "metadata": {
        "colab": {
          "base_uri": "https://localhost:8080/"
        },
        "id": "IZkUmZA60mdP",
        "outputId": "8eb329e5-4450-4ae6-d21c-e3e287775846"
      },
      "outputs": [
        {
          "name": "stdout",
          "output_type": "stream",
          "text": [
            "39814\n"
          ]
        }
      ],
      "source": [
        "count=1\n",
        "sum=0\n",
        "while count<=600:\n",
        "  if count%7==0 and count%9==0:\n",
        "    count+=1\n",
        "  elif count%7==0 or count%9==0:\n",
        "    sum+=count\n",
        "    count+=1\n",
        "  else:\n",
        "    count+=1\n",
        "print(sum)"
      ]
    },
    {
      "cell_type": "code",
      "execution_count": null,
      "metadata": {
        "colab": {
          "base_uri": "https://localhost:8080/"
        },
        "id": "HMmAtVlS0tX0",
        "outputId": "43829cd1-3414-4b65-90d6-e19a50fec229"
      },
      "outputs": [
        {
          "name": "stdout",
          "output_type": "stream",
          "text": [
            "11 13 15 17 19 21 23 25 27 29 31 33 35 37 39 41 43 45 47 49 "
          ]
        }
      ],
      "source": [
        "for i in range(10,50+1):\n",
        "  if i%2!=0:\n",
        "    print(i,end=\" \")"
      ]
    },
    {
      "cell_type": "code",
      "execution_count": null,
      "metadata": {
        "colab": {
          "base_uri": "https://localhost:8080/"
        },
        "id": "OMGRn3GJ-X5f",
        "outputId": "a7c54c13-0550-4edb-8ae9-1dd9424b78de"
      },
      "outputs": [
        {
          "name": "stdout",
          "output_type": "stream",
          "text": [
            "11 13 15 17 19 21 23 25 27 29 31 33 35 37 39 41 43 45 47 49 "
          ]
        }
      ],
      "source": [
        "count=10\n",
        "while count<=50:\n",
        "  if count%2!=0:\n",
        "    print(count,end=\" \")\n",
        "  count+=1"
      ]
    },
    {
      "cell_type": "code",
      "execution_count": null,
      "metadata": {
        "colab": {
          "base_uri": "https://localhost:8080/"
        },
        "id": "w667p8KZEW4d",
        "outputId": "ddbc594d-8109-4510-c742-3091b229380a"
      },
      "outputs": [
        {
          "name": "stdout",
          "output_type": "stream",
          "text": [
            "5\n",
            "15\n"
          ]
        }
      ],
      "source": [
        "n=int(input())\n",
        "count=1\n",
        "sum=0\n",
        "while count<=n:\n",
        "  if count%2==0:\n",
        "    sum=sum-(count**2)\n",
        "  else:\n",
        "    sum=sum+(count**2)\n",
        "  count+=1\n",
        "print(sum)\n"
      ]
    },
    {
      "cell_type": "code",
      "execution_count": null,
      "metadata": {
        "id": "rBst3Q7IKH1F"
      },
      "outputs": [],
      "source": [
        "count=int(input)\n",
        "while count\n",
        "if count%2!=0:\n",
        "  sum=sum+count\n",
        "count+=1"
      ]
    },
    {
      "cell_type": "code",
      "execution_count": null,
      "metadata": {
        "colab": {
          "base_uri": "https://localhost:8080/"
        },
        "id": "BnTNfR0PQrSj",
        "outputId": "e0fca8cd-1112-4b4a-f085-0766902a75d8"
      },
      "outputs": [
        {
          "name": "stdout",
          "output_type": "stream",
          "text": [
            "600\n",
            "39814\n"
          ]
        }
      ],
      "source": [
        "#assignment 3\n",
        "#Home Task 1\n",
        "N=int(input())\n",
        "count=1\n",
        "sum=0\n",
        "while count<=N:\n",
        "  if count%7==0 and count%9==0:\n",
        "    count+=1\n",
        "  elif count%7==0 or count%9==0:\n",
        "    sum=sum+count\n",
        "    count+=1\n",
        "  else:\n",
        "    count+=1\n",
        "print(sum)"
      ]
    },
    {
      "cell_type": "code",
      "execution_count": null,
      "metadata": {
        "colab": {
          "base_uri": "https://localhost:8080/"
        },
        "id": "88jsJvUcgAXa",
        "outputId": "d0a1c772-4547-4877-d24a-9b01e6bb70fe"
      },
      "outputs": [
        {
          "name": "stdout",
          "output_type": "stream",
          "text": [
            "12345\n",
            "1\n",
            "2\n",
            "3\n",
            "4\n",
            "5\n"
          ]
        }
      ],
      "source": [
        "#Home Task 2\n",
        "x=input()\n",
        "count=len(x)\n",
        "n=int(x)\n",
        "while not n==0:\n",
        "    a=10**(count-1)\n",
        "    b=n//a\n",
        "    print(b)\n",
        "    n=n%a\n",
        "    a=a//10\n",
        "    count-=1\n"
      ]
    },
    {
      "cell_type": "code",
      "execution_count": null,
      "metadata": {
        "colab": {
          "base_uri": "https://localhost:8080/"
        },
        "id": "qgK4TbA8wZHF",
        "outputId": "2cd17376-5c4f-4155-9d77-23fa23dfc646"
      },
      "outputs": [
        {
          "name": "stdout",
          "output_type": "stream",
          "text": [
            "Enter the number: 32678\n",
            "3, 2, 6, 7, 8, "
          ]
        }
      ],
      "source": [
        "n = input(\"Enter the number: \")\n",
        "for i in n:\n",
        "    print(i[0] ,end=\", \")"
      ]
    },
    {
      "cell_type": "code",
      "execution_count": null,
      "metadata": {
        "colab": {
          "base_uri": "https://localhost:8080/"
        },
        "id": "Dqc0kxZ53TFC",
        "outputId": "9290d04e-f9d5-405d-f295-85ac6f3024c5"
      },
      "outputs": [
        {
          "name": "stdout",
          "output_type": "stream",
          "text": [
            "1\n"
          ]
        }
      ],
      "source": [
        "x=int(input())\n",
        "count=0\n",
        "sum=0\n",
        "for i in range(1,x):\n",
        "  print(i)"
      ]
    },
    {
      "cell_type": "code",
      "execution_count": null,
      "metadata": {
        "colab": {
          "base_uri": "https://localhost:8080/"
        },
        "id": "ddHCwvgTDzTN",
        "outputId": "ba9e0195-f14f-4392-9e5e-078de883f77c"
      },
      "outputs": [
        {
          "name": "stdout",
          "output_type": "stream",
          "text": [
            "4\n",
            "1\n",
            "12\n",
            "123\n",
            "1234\n"
          ]
        }
      ],
      "source": [
        "N=int(input())\n",
        "for i in range(1,N+1):\n",
        "  for j in range(1,i+1):\n",
        "     print(j,end=\"\")\n",
        "  print()"
      ]
    },
    {
      "cell_type": "code",
      "execution_count": null,
      "metadata": {
        "colab": {
          "base_uri": "https://localhost:8080/"
        },
        "id": "4ImFjyzpv1Lj",
        "outputId": "d9564b65-e4ac-4ae4-ed9d-8be61275c8a9"
      },
      "outputs": [
        {
          "name": "stdout",
          "output_type": "stream",
          "text": [
            "4.5\n",
            "0.3333333333333333\n",
            "6.0\n",
            "0\n",
            "6.333333333333333\n",
            "5.5\n"
          ]
        }
      ],
      "source": [
        "print(14-9.5)\n",
        "print(1/3.0%8)\n",
        "print((2+10.0)/2)\n",
        "print(0%2)\n",
        "print(4+4-2+1/3.0%8)\n",
        "print(15-9.5)"
      ]
    },
    {
      "cell_type": "code",
      "execution_count": null,
      "metadata": {
        "colab": {
          "base_uri": "https://localhost:8080/"
        },
        "id": "ukHy3CuM8ARH",
        "outputId": "d0bc48b0-fff6-4bdd-86f5-795b4511c703"
      },
      "outputs": [
        {
          "name": "stdout",
          "output_type": "stream",
          "text": [
            "6\n",
            "7\n",
            "9\n",
            "5\n",
            "10\n",
            "5\n",
            "10\n",
            "5\n",
            "11\n",
            "7\n",
            "3\n"
          ]
        }
      ],
      "source": [
        "x=0\n",
        "y=0\n",
        "sum=0\n",
        "p=0.0\n",
        "while x<10:\n",
        "   y=x//2\n",
        "   while y<x:\n",
        "    p=(x+10.0)/2\n",
        "    sum=(sum%2)+x-y*2+int(p)\n",
        "    print(sum)\n",
        "    y=y+2\n",
        "   if x>5:\n",
        "    x+=1\n",
        "   else:\n",
        "    x+=2"
      ]
    },
    {
      "cell_type": "code",
      "execution_count": null,
      "metadata": {
        "colab": {
          "base_uri": "https://localhost:8080/"
        },
        "id": "zegnQ2_naFHB",
        "outputId": "95893cf8-c531-46ca-de7c-bda369d8cdc3"
      },
      "outputs": [
        {
          "name": "stdout",
          "output_type": "stream",
          "text": [
            "p= 0.3333333333333333\n",
            "y= 0\n",
            "x= 2\n",
            "0\n",
            "p= 2.3333333333333335\n",
            "y= 0\n",
            "q= 6.0\n",
            "sum= 2\n",
            "y= 4\n",
            "x= 4\n",
            "8.0\n",
            "p= 6.333333333333333\n",
            "y= 0\n",
            "q= 7.0\n",
            "sum= 6\n",
            "y= 4\n",
            "x= 6\n",
            "13.0\n",
            "p= 4.333333333333333\n",
            "y= 1\n",
            "q= 8.0\n",
            "sum= 5\n",
            "y= 5\n",
            "q= 8.0\n",
            "sum= 10\n",
            "y= 9\n",
            "x= 9\n",
            "p= 8.333333333333334\n",
            "y= 1\n",
            "q= 9.5\n",
            "sum= 9\n",
            "y= 5\n",
            "q= 9.5\n",
            "sum= 14\n",
            "y= 9\n",
            "x= 12\n",
            "4.5\n"
          ]
        }
      ],
      "source": [
        "x = 0\n",
        "y = 0\n",
        "q = 0\n",
        "sum = 0\n",
        "while (x < 10):\n",
        "  p = 0.0\n",
        "  p = x + y - sum + int(5 / 3) / 3.0 % 2 ** 3\n",
        "  print(\"p=\",p)\n",
        "  y = x // 5\n",
        "  print(\"y=\",y)\n",
        "  while (y < x):\n",
        "     q = (x + 10.0) / 2\n",
        "     print(\"q=\",q)\n",
        "     sum = (sum % 2) + y + int(p)\n",
        "     print(\"sum=\",sum)\n",
        "     y = y + 4\n",
        "     print(\"y=\",y)\n",
        "  if (x > 5):\n",
        "    x += 3\n",
        "    print(\"x=\",x)\n",
        "  else:\n",
        "    x += 2\n",
        "    print(\"x=\",x)\n",
        "    print(int(p) + q)\n",
        "print(sum - q)"
      ]
    },
    {
      "cell_type": "code",
      "execution_count": null,
      "metadata": {
        "colab": {
          "base_uri": "https://localhost:8080/"
        },
        "id": "-7tj_1snR4j0",
        "outputId": "5058eacc-21dc-42a0-88e4-5066761eef42"
      },
      "outputs": [
        {
          "name": "stdout",
          "output_type": "stream",
          "text": [
            "-8\n",
            "-6\n",
            "-1\n",
            "-4\n",
            "2\n",
            "-2\n",
            "5\n",
            "0\n",
            "8\n",
            "27\n"
          ]
        }
      ],
      "source": [
        "p = 0\n",
        "r = 0\n",
        "while p < 7:\n",
        "    q = 1\n",
        "    while q <= p:\n",
        "      q = q + 1\n",
        "      if q == 4 or q == 5:\n",
        "        continue\n",
        "        print(p - q * 2)\n",
        "      elif p==6:\n",
        "        break\n",
        "        print(p % q)\n",
        "      else:\n",
        "        r = p * q - int(21 / q)\n",
        "        print(r)\n",
        "    p = p + 1"
      ]
    },
    {
      "cell_type": "code",
      "execution_count": null,
      "metadata": {
        "colab": {
          "base_uri": "https://localhost:8080/"
        },
        "id": "K2Sp15fqV-SW",
        "outputId": "1713af9f-063e-47c5-b13a-1bd19181a1bb"
      },
      "outputs": [
        {
          "name": "stdout",
          "output_type": "stream",
          "text": [
            "41\n",
            "85\n",
            "135\n",
            "189\n",
            "249\n",
            "313\n",
            "383\n",
            "457\n",
            "537\n",
            "621\n"
          ]
        }
      ],
      "source": [
        "test = 1\n",
        "j = 0\n",
        "k = 100\n",
        "while (k > 0):\n",
        "  while ( j < k ):\n",
        "    test += k + j -21\n",
        "    print(1 + int (test / 2))\n",
        "    j += 10\n",
        "  k -= 10\n",
        "  test = 1"
      ]
    },
    {
      "cell_type": "code",
      "execution_count": null,
      "metadata": {
        "colab": {
          "base_uri": "https://localhost:8080/"
        },
        "id": "FcSZwQQW43vB",
        "outputId": "9e5aaf79-1508-430b-b439-7a0a1380dffe"
      },
      "outputs": [
        {
          "name": "stdout",
          "output_type": "stream",
          "text": [
            "Enter the quantity: 5\n",
            "Enter a Number : 10\n",
            "Enter a Number : 4\n",
            "Enter a Number : -1\n",
            "Enter a Number : -100\n",
            "Enter a Number : 1\n",
            "Maximum 10\n",
            "Minimum -100\n",
            "Average -17.2\n"
          ]
        }
      ],
      "source": [
        "import math\n",
        "n=int(input(\"Enter the quantity: \"))\n",
        "maximum=-math.inf\n",
        "minimum=math.inf\n",
        "sum=0\n",
        "count=1\n",
        "while count <= n :\n",
        "    num=int(input(\"Enter a Number : \"))\n",
        "    sum+=num\n",
        "    if num>maximum:\n",
        "        maximum=num\n",
        "    if num<minimum:\n",
        "        minimum=num\n",
        "    count+=1\n",
        "print(\"Maximum\",maximum)\n",
        "print(\"Minimum\",minimum)\n",
        "print(\"Average\",sum/n)"
      ]
    },
    {
      "cell_type": "code",
      "execution_count": null,
      "metadata": {
        "colab": {
          "base_uri": "https://localhost:8080/"
        },
        "id": "SEcwnJIs3aDw",
        "outputId": "aa938f95-1235-4bbc-8328-9ee708f2fc09"
      },
      "outputs": [
        {
          "name": "stdout",
          "output_type": "stream",
          "text": [
            "Enter a number-20\n",
            "Enter a number13\n",
            "Enter a number-5\n",
            "Enter a number40\n",
            "Enter a number-17\n",
            "Enter a number10\n",
            "Enter a number20\n",
            "Enter a number-8\n",
            "Enter a number99\n",
            "Enter a number-200\n",
            "90\n",
            "22.5\n"
          ]
        }
      ],
      "source": [
        "x=10\n",
        "count=1\n",
        "sum=0\n",
        "p=0\n",
        "while count<=x:\n",
        "  a=int(input(\"Enter a number\"))\n",
        "  if a%2!=0:\n",
        "    sum=a+sum\n",
        "    p+=1\n",
        "  count+=1\n",
        "print(sum)\n",
        "print(sum/p)\n"
      ]
    },
    {
      "cell_type": "code",
      "execution_count": null,
      "metadata": {
        "colab": {
          "base_uri": "https://localhost:8080/"
        },
        "id": "SWoA7S3xO25T",
        "outputId": "a9cffb7c-ea43-4fc2-aafd-6c66a133fe91"
      },
      "outputs": [
        {
          "name": "stdout",
          "output_type": "stream",
          "text": [
            "Enter a Number75\n",
            "385\n"
          ]
        }
      ],
      "source": [
        "N=int(input(\"Enter a Number\"))\n",
        "count=1\n",
        "sum=0\n",
        "while count<=N:\n",
        "  if count%7==0:\n",
        "    sum+=count\n",
        "  count+=1\n",
        "print(sum)"
      ]
    },
    {
      "cell_type": "code",
      "execution_count": null,
      "metadata": {
        "colab": {
          "base_uri": "https://localhost:8080/"
        },
        "id": "Uf9nYsncFn37",
        "outputId": "1eff4529-23aa-4d48-a5e4-bb24f8de2788"
      },
      "outputs": [
        {
          "name": "stdout",
          "output_type": "stream",
          "text": [
            "5\n",
            "1\n",
            "1\n",
            "2\n",
            "3\n",
            "3\n",
            "6\n",
            "4\n",
            "10\n",
            "5\n",
            "15\n"
          ]
        }
      ],
      "source": [
        "x=int(input())\n",
        "count=1\n",
        "sum=0\n",
        "while count<=x:\n",
        "  a=int(input())\n",
        "  sum=sum+count\n",
        "  print(sum)\n",
        "  count+=1"
      ]
    },
    {
      "cell_type": "code",
      "execution_count": null,
      "metadata": {
        "colab": {
          "base_uri": "https://localhost:8080/"
        },
        "id": "Mq1SHbjeK0uy",
        "outputId": "b37bd6da-4918-4f1e-ce66-0edc52e32f6f"
      },
      "outputs": [
        {
          "name": "stdout",
          "output_type": "stream",
          "text": [
            "32768\n",
            "8,6,7,2,3,\b\n"
          ]
        }
      ],
      "source": [
        "x=int(input())\n",
        "while x>0:\n",
        "  a=x%10\n",
        "  print(a,end=\",\")\n",
        "  x=x//10\n",
        "print(chr(8))"
      ]
    },
    {
      "cell_type": "code",
      "execution_count": null,
      "metadata": {
        "colab": {
          "base_uri": "https://localhost:8080/"
        },
        "id": "4QU5HQHlUDz8",
        "outputId": "23e5a4fb-9b3c-4d26-de53-5581f1d54f0f"
      },
      "outputs": [
        {
          "name": "stdout",
          "output_type": "stream",
          "text": [
            "121\n",
            "1\n",
            "11\n",
            "121\n",
            "Total 3 divisors\n"
          ]
        }
      ],
      "source": [
        "x=int(input())\n",
        "count=0\n",
        "for i in range(1,x+1):\n",
        "  if x%i==0:\n",
        "    print(i)\n",
        "    count+=1\n",
        "print(\"Total\",count,\"divisors\")\n"
      ]
    },
    {
      "cell_type": "code",
      "execution_count": null,
      "metadata": {
        "colab": {
          "base_uri": "https://localhost:8080/"
        },
        "id": "lZ0dd9o9RDva",
        "outputId": "b8cf850a-f2f3-4dcc-9920-16fb6e870f1b"
      },
      "outputs": [
        {
          "name": "stdout",
          "output_type": "stream",
          "text": [
            "Enter the number: 32768\n",
            "8, 6, 7, 2, 3"
          ]
        }
      ],
      "source": [
        "n = int(input(\"Enter the number: \"))\n",
        "print(n % 10 , end='')\n",
        "n//=10\n",
        "\n",
        "while n > 0:\n",
        "    print(',' , n % 10 , end='')\n",
        "    n//=10"
      ]
    },
    {
      "cell_type": "code",
      "execution_count": null,
      "metadata": {
        "colab": {
          "base_uri": "https://localhost:8080/"
        },
        "id": "e7bWiFDCXkmj",
        "outputId": "6798cd5d-bd8b-4933-e9f3-0672e7da0eff"
      },
      "outputs": [
        {
          "name": "stdout",
          "output_type": "stream",
          "text": [
            "6\n",
            "Not a prime number\n"
          ]
        }
      ],
      "source": [
        "x=int(input())\n",
        "for i in range(2,x):\n",
        "  if x%i!=0:\n",
        "    print(\"Prime number\")\n",
        "    break\n",
        "  else:\n",
        "    print(\"Not a prime number\")\n",
        "    break"
      ]
    },
    {
      "cell_type": "code",
      "execution_count": null,
      "metadata": {
        "colab": {
          "base_uri": "https://localhost:8080/"
        },
        "id": "qa2Dh3shnJyy",
        "outputId": "ca0015e0-eb5e-4082-81ef-07c42ad1b54c"
      },
      "outputs": [
        {
          "name": "stdout",
          "output_type": "stream",
          "text": [
            "5\n",
            "+++++\n",
            "+++++\n",
            "+++++\n",
            "+++++\n",
            "+++++\n"
          ]
        }
      ],
      "source": [
        "N=int(input())\n",
        "for i in range(N):\n",
        "  for j in range(N):\n",
        "    print(\"+\",end=\"\")\n",
        "  print()"
      ]
    },
    {
      "cell_type": "code",
      "execution_count": null,
      "metadata": {
        "colab": {
          "base_uri": "https://localhost:8080/"
        },
        "id": "xTpyIWLonz0s",
        "outputId": "b609ec24-74e2-4d1d-f11d-4f7f90f65fa1"
      },
      "outputs": [
        {
          "name": "stdout",
          "output_type": "stream",
          "text": [
            "3\n",
            "2\n",
            "12\n",
            "12\n",
            "12\n"
          ]
        }
      ],
      "source": [
        "M=int(input())\n",
        "N=int(input())\n",
        "for i in range(M):\n",
        "  for j in range(1,N+1):\n",
        "    print(j,end='')\n",
        "  print()"
      ]
    },
    {
      "cell_type": "code",
      "execution_count": null,
      "metadata": {
        "colab": {
          "base_uri": "https://localhost:8080/"
        },
        "id": "42SBp5S3oiU5",
        "outputId": "6b10fa11-6cb2-4a99-d5c3-c88fb91dd959"
      },
      "outputs": [
        {
          "name": "stdout",
          "output_type": "stream",
          "text": [
            "5\n",
            "1\n",
            "12\n",
            "123\n",
            "1234\n",
            "12345\n"
          ]
        }
      ],
      "source": [
        "N=int(input())\n",
        "for i in range(1,N+1):\n",
        "  for j in range(1,i+1):\n",
        "    print(j,end=\"\")\n",
        "  print()"
      ]
    },
    {
      "cell_type": "code",
      "execution_count": null,
      "metadata": {
        "id": "JnTOXoUMqEXW"
      },
      "outputs": [],
      "source": [
        "for i in range(1,1):\n",
        "  print(i)"
      ]
    },
    {
      "cell_type": "code",
      "execution_count": null,
      "metadata": {
        "colab": {
          "base_uri": "https://localhost:8080/"
        },
        "id": "6umSvPsGtz5d",
        "outputId": "2a393eaa-b692-4bbb-e0c1-14aa425fb68d"
      },
      "outputs": [
        {
          "name": "stdout",
          "output_type": "stream",
          "text": [
            "344\n"
          ]
        }
      ],
      "source": [
        "a=3\n",
        "b=4\n",
        "c=4\n",
        "print(f\"{a}{b}{c}\")"
      ]
    },
    {
      "cell_type": "code",
      "execution_count": null,
      "metadata": {
        "colab": {
          "base_uri": "https://localhost:8080/"
        },
        "id": "4v7rDPEKusKo",
        "outputId": "cc5f3089-b339-48c2-bce7-59c4ef8b9a0e"
      },
      "outputs": [
        {
          "name": "stdout",
          "output_type": "stream",
          "text": [
            "False\n",
            "True False False\n",
            "5\n",
            "False\n",
            "True\n",
            "False False True False\n",
            "10 5 15\n"
          ]
        }
      ],
      "source": [
        "a=b=c=d= False\n",
        "e,f,g= \"True\",False,2\n",
        "x,y,z=10,5,15\n",
        "if a:\n",
        "  print(\"hello\")\n",
        "else:\n",
        "    a = True\n",
        "if x % g == 0:\n",
        "    print(\"T\" not in e)\n",
        "    if a == b:\n",
        "        print(\"Right\")\n",
        "    else:\n",
        "        if (a or b) and (a or d):\n",
        "            print(f\"{a} {b} {d}\")\n",
        "            print(-55%6)\n",
        "            print(55%-6==0)\n",
        "else:\n",
        "    print(\"wasted time\")\n",
        "if a:\n",
        "    c = True\n",
        "    if a and (c and d):\n",
        "        e = True\n",
        "    elif a and (c or d):\n",
        "        d = \"True\"\n",
        "        print(a or (c and b))\n",
        "    else:\n",
        "        b = True\n",
        "        y = 9\n",
        "else:\n",
        "    print(\"your tracing is correct\")\n",
        "if x > 10:\n",
        "    a=b=c=d= False\n",
        "elif 2 % -3 == 0:\n",
        "    print(-4%5)\n",
        "elif x != 0 or y <= 10 or z == 15:\n",
        "    if x >= 10 and y != 5 or d == True:\n",
        "        d = True\n",
        "    elif not(b and a):\n",
        "        d = not(d)\n",
        "        a = not(a)\n",
        "        b = not((a and b) or c)\n",
        "        c = not((c or b) and d)\n",
        "else:\n",
        "    print()\n",
        "print(f\"{a} {b} {c} {d}\")\n",
        "print(x,y,z)\n"
      ]
    },
    {
      "cell_type": "code",
      "execution_count": null,
      "metadata": {
        "colab": {
          "base_uri": "https://localhost:8080/"
        },
        "id": "yBuEnFe82OER",
        "outputId": "e7a7a949-d122-4e8a-f044-24cdf845878d"
      },
      "outputs": [
        {
          "name": "stdout",
          "output_type": "stream",
          "text": [
            "12\n",
            "No\n"
          ]
        }
      ],
      "source": [
        "x=int(input())\n",
        "if x%2!=0 and x%5!=0:\n",
        "  print(x)\n",
        "else:\n",
        "  print(\"No\")"
      ]
    },
    {
      "cell_type": "code",
      "execution_count": null,
      "metadata": {
        "colab": {
          "base_uri": "https://localhost:8080/"
        },
        "id": "88bKLOPXtpKf",
        "outputId": "12baab3c-dc82-4ea6-b6d2-9ec0e39a664f"
      },
      "outputs": [
        {
          "name": "stdout",
          "output_type": "stream",
          "text": [
            "15\n",
            "15\n"
          ]
        }
      ],
      "source": [
        "x=int(input())\n",
        "if x%2!=0 or x%5!=0:\n",
        "  print(x)\n",
        "else:\n",
        "  print(\"No\")\n"
      ]
    },
    {
      "cell_type": "code",
      "execution_count": null,
      "metadata": {
        "colab": {
          "base_uri": "https://localhost:8080/"
        },
        "id": "rkBiGx7X7L_K",
        "outputId": "5d211177-3fa5-4678-cfc8-0ac5ada3067a"
      },
      "outputs": [
        {
          "name": "stdout",
          "output_type": "stream",
          "text": [
            "10\n",
            "Multiple of 2 and 5 both\n"
          ]
        }
      ],
      "source": [
        "x=int(input())\n",
        "if x%2==0 and x%5==0:\n",
        "  print(\"Multiple of 2 and 5 both\")\n",
        "elif x%2==0 or x%5==0:\n",
        "  print(x)"
      ]
    },
    {
      "cell_type": "code",
      "execution_count": null,
      "metadata": {
        "colab": {
          "base_uri": "https://localhost:8080/"
        },
        "id": "YylEv0Bf-_m0",
        "outputId": "8e31fe4a-3e9d-4a7d-e604-2a08ad2bc53f"
      },
      "outputs": [
        {
          "name": "stdout",
          "output_type": "stream",
          "text": [
            "-10,-5,0,5,10,15,20,\b\n"
          ]
        }
      ],
      "source": [
        "for i in range(-10,21,5):\n",
        "  print(i,end=\",\")\n",
        "print(chr(8))"
      ]
    },
    {
      "cell_type": "code",
      "execution_count": null,
      "metadata": {
        "colab": {
          "base_uri": "https://localhost:8080/"
        },
        "id": "5lgXZ8PgFGcG",
        "outputId": "ba8b376e-3078-4502-c1a7-b8131b8aa5e5"
      },
      "outputs": [
        {
          "name": "stdout",
          "output_type": "stream",
          "text": [
            "18,-27,36,-45,54,-63,\b\n"
          ]
        }
      ],
      "source": [
        "count=18\n",
        "while count<=63:\n",
        "  if count%2==0:\n",
        "    print(count,end=',')\n",
        "  else:\n",
        "    print(count*-1,end=',')\n",
        "  count+=9\n",
        "print(chr(8))"
      ]
    },
    {
      "cell_type": "code",
      "execution_count": null,
      "metadata": {
        "colab": {
          "base_uri": "https://localhost:8080/"
        },
        "id": "F41Z4o30F-PC",
        "outputId": "69381502-b297-4109-c5cd-09065325cc14"
      },
      "outputs": [
        {
          "name": "stdout",
          "output_type": "stream",
          "text": [
            "Toyota\n",
            "2\n",
            "Toyota\n",
            "Toyota\n"
          ]
        }
      ],
      "source": [
        "x=input()\n",
        "y=int(input())\n",
        "for i in range(y):\n",
        "  print(x)"
      ]
    },
    {
      "cell_type": "code",
      "execution_count": null,
      "metadata": {
        "colab": {
          "base_uri": "https://localhost:8080/"
        },
        "id": "slfb46oSJBtd",
        "outputId": "3b17e23f-2758-45df-851f-81cc78723672"
      },
      "outputs": [
        {
          "name": "stdout",
          "output_type": "stream",
          "text": [
            "10\n",
            "-55\n"
          ]
        }
      ],
      "source": [
        "count=1\n",
        "sum=0\n",
        "n=int(input())\n",
        "while count<=n:\n",
        "  if count%2==0:\n",
        "    sum=sum+((-1)*count**2)\n",
        "  else:\n",
        "    sum=sum+(count)**2\n",
        "  count+=1\n",
        "print(sum)"
      ]
    },
    {
      "cell_type": "code",
      "execution_count": null,
      "metadata": {
        "colab": {
          "base_uri": "https://localhost:8080/"
        },
        "id": "C-GrHikHMV82",
        "outputId": "4a690953-f2bb-4fa9-a9fc-71ef7cb8a63b"
      },
      "outputs": [
        {
          "name": "stdout",
          "output_type": "stream",
          "text": [
            "1\n",
            "2\n",
            "3\n",
            "4\n",
            "5\n",
            "6\n",
            "7\n",
            "8\n",
            "9\n",
            "10\n",
            "25\n",
            "5.0\n"
          ]
        }
      ],
      "source": [
        "x=10\n",
        "count=1\n",
        "a=0\n",
        "sum=0\n",
        "while count<=10:\n",
        "  p=int(input())\n",
        "  if p%2!=0:\n",
        "    sum+=p\n",
        "    a+=1\n",
        "  count+=1\n",
        "print(sum)\n",
        "print(sum/a)\n"
      ]
    },
    {
      "cell_type": "code",
      "execution_count": null,
      "metadata": {
        "colab": {
          "base_uri": "https://localhost:8080/"
        },
        "id": "jhRv8uz8P8Xx",
        "outputId": "a56c3899-ebd9-40ef-cf9b-7bb2b840f1ae"
      },
      "outputs": [
        {
          "name": "stdout",
          "output_type": "stream",
          "text": [
            "1\n",
            "1\n",
            "1\n",
            "2\n",
            "2\n",
            "4\n",
            "3\n",
            "7\n",
            "4\n",
            "11\n",
            "5\n",
            "16\n",
            "65\n",
            "81\n",
            "5\n",
            "86\n",
            "5\n",
            "91\n",
            "6\n",
            "97\n"
          ]
        }
      ],
      "source": [
        "n=10\n",
        "count=1\n",
        "sum=0\n",
        "while count<=10:\n",
        "  a=int(input())\n",
        "  sum=sum+a\n",
        "  print(sum)\n",
        "  count+=1\n"
      ]
    },
    {
      "cell_type": "code",
      "execution_count": null,
      "metadata": {
        "colab": {
          "base_uri": "https://localhost:8080/"
        },
        "id": "D1SzZbQitTyR",
        "outputId": "50e7d153-a74d-4c83-a2f6-64cd5f4a53ed"
      },
      "outputs": [
        {
          "name": "stdout",
          "output_type": "stream",
          "text": [
            "ber\n",
            "ber\b\best\n"
          ]
        }
      ],
      "source": [
        "#string\n",
        "x=input()\n",
        "a=len(x)\n",
        "if x[-1]==\"r\" and x[-2]==\"e\":\n",
        "  print(x+chr(8)+chr(8)+\"est\")\n",
        "elif x[-1]==\"t\" and x[-2]==\"s\" and x[-3]==\"e\":\n",
        "  print(x)\n",
        "elif a>3:\n",
        "  print(x+\"er\")\n",
        "elif a<4:\n",
        "  print(x)"
      ]
    },
    {
      "cell_type": "code",
      "execution_count": null,
      "metadata": {
        "colab": {
          "base_uri": "https://localhost:8080/"
        },
        "id": "9kRg6UcIpJNj",
        "outputId": "7c5ebd2e-0467-4bd8-f04f-7ca803971322"
      },
      "outputs": [
        {
          "name": "stdout",
          "output_type": "stream",
          "text": [
            "DREAM\n",
            "D\n",
            "DR\n",
            "DRE\n",
            "DREA\n",
            "DREAM\n"
          ]
        }
      ],
      "source": [
        "x=input()\n",
        "for i in range(len(x)):\n",
        "  for j in range(i+1):\n",
        "    print(x[j],end=\"\")\n",
        "  print( )"
      ]
    },
    {
      "cell_type": "code",
      "execution_count": null,
      "metadata": {
        "colab": {
          "base_uri": "https://localhost:8080/"
        },
        "id": "NXFyFpOpyddw",
        "outputId": "327c18d2-8058-4877-bbde-8a108d946225"
      },
      "outputs": [
        {
          "name": "stdout",
          "output_type": "stream",
          "text": [
            "hunger\n",
            "h : 104\n",
            "u : 117\n",
            "n : 110\n",
            "g : 103\n",
            "e : 101\n",
            "r : 114\n"
          ]
        }
      ],
      "source": [
        "x=input()\n",
        "for i in range(len(x)):\n",
        "  print(x[i],\":\",ord(x[i]))"
      ]
    },
    {
      "cell_type": "code",
      "execution_count": null,
      "metadata": {
        "colab": {
          "base_uri": "https://localhost:8080/"
        },
        "id": "c8MVpu-y7rXj",
        "outputId": "655acc3c-1101-48bc-d48b-3bee2c9ab4c5"
      },
      "outputs": [
        {
          "name": "stdout",
          "output_type": "stream",
          "text": [
            "aBcd\n",
            "BD"
          ]
        }
      ],
      "source": [
        "x=input()\n",
        "for i in range(1,len(x),2):\n",
        "  a=x[i]\n",
        "  if \"A\"<=a<=\"Z\":\n",
        "    print(a,end=\"\")\n",
        "  else:\n",
        "    b=ord(a)-32\n",
        "    print(chr(b),end=\"\")"
      ]
    },
    {
      "cell_type": "code",
      "execution_count": null,
      "metadata": {
        "colab": {
          "base_uri": "https://localhost:8080/"
        },
        "id": "4CscLfSthEsj",
        "outputId": "5d3aef2e-915c-4ca6-c4ef-65182a723653"
      },
      "outputs": [
        {
          "name": "stdout",
          "output_type": "stream",
          "text": [
            "tanjiro kamado\n",
            "a\n",
            "ta\bnjiro ka\bma\bdo"
          ]
        }
      ],
      "source": [
        "x=input()\n",
        "y=input()\n",
        "for i in range(len(x)):\n",
        "  a=x[i]\n",
        "  if y in a:\n",
        "    print(a+chr(8),end=\"\")\n",
        "  elif y not in a:\n",
        "    print(a,end=\"\")"
      ]
    },
    {
      "cell_type": "code",
      "execution_count": null,
      "metadata": {
        "colab": {
          "base_uri": "https://localhost:8080/"
        },
        "id": "0xlp6_pOjD-3",
        "outputId": "73d2d708-4ff4-41e1-abd6-be9dedb69317"
      },
      "outputs": [
        {
          "name": "stdout",
          "output_type": "stream",
          "text": [
            "CSE110\n",
            "3\n",
            "CSE110CSE110CSE110CSE110CSE110CSE110CSE110CSE110CSE110\n"
          ]
        }
      ],
      "source": [
        "x=input()\n",
        "y=int(input())\n",
        "if y%2==0:\n",
        "  a=y*2\n",
        "  print(x*a)\n",
        "else:\n",
        "  b=y*3\n",
        "  print(x*b)"
      ]
    },
    {
      "cell_type": "code",
      "execution_count": null,
      "metadata": {
        "colab": {
          "base_uri": "https://localhost:8080/"
        },
        "id": "YNkbl_ywxYh6",
        "outputId": "9dbfa4f4-b51a-436a-a55b-cc10f653f65f"
      },
      "outputs": [
        {
          "name": "stdout",
          "output_type": "stream",
          "text": [
            "He's FAst\n",
            "HE'S FAST"
          ]
        }
      ],
      "source": [
        "x=input()\n",
        "for i in range(len(x)):\n",
        "  a=x[i]\n",
        "  if 'a'<=a<=\"z\":\n",
        "    p=ord(a)-32\n",
        "    q=chr(p)\n",
        "    print(q,end=\"\")\n",
        "  else:\n",
        "    print(a,end=\"\")"
      ]
    },
    {
      "cell_type": "markdown",
      "metadata": {
        "id": "BB9q6GMm60Ow"
      },
      "source": [
        "29/10/23"
      ]
    },
    {
      "cell_type": "code",
      "execution_count": null,
      "metadata": {
        "colab": {
          "base_uri": "https://localhost:8080/"
        },
        "id": "lMpCZpM8l_GW",
        "outputId": "d86e2b8b-771b-4a5a-bfff-98e1bad2b8c2"
      },
      "outputs": [
        {
          "name": "stdout",
          "output_type": "stream",
          "text": [
            "Yo-ho-Ya-ho-hoo!\n",
            "Aaarr! Me Plunder!!\n"
          ]
        }
      ],
      "source": [
        "#Evaluation task2\n",
        "x=input()\n",
        "y=\"aeiouAEIOU\"\n",
        "count=0\n",
        "count1=0\n",
        "for i in x:\n",
        "  if \"a\"<=i<=\"z\" or \"A\"<=i<=\"Z\":\n",
        "    if i in y:\n",
        "      count+=1\n",
        "    else:\n",
        "      count1+=1\n",
        "if count==0 or count1==0:\n",
        "  print(\"Blimey\")\n",
        "elif count%3==0 and count1%5==0:\n",
        "  print(\"Aaarr! Me Plunder!!\")\n",
        "else:\n",
        "  print(\"Blimey! No Plunder!!\")"
      ]
    },
    {
      "cell_type": "code",
      "execution_count": null,
      "metadata": {
        "colab": {
          "base_uri": "https://localhost:8080/"
        },
        "id": "_TaqjYN167yF",
        "outputId": "235cbe11-b212-40ba-deb8-06a0b80fff9c"
      },
      "outputs": [
        {
          "name": "stdout",
          "output_type": "stream",
          "text": [
            "AABBCCDD\n",
            "ABCD\n"
          ]
        }
      ],
      "source": [
        "#Home Task\n",
        "x=input()\n",
        "a=\"\"\n",
        "i=0\n",
        "for i in x:\n",
        " if i not in a:\n",
        "   a=a+i\n",
        "print(a)"
      ]
    },
    {
      "cell_type": "code",
      "execution_count": null,
      "metadata": {
        "colab": {
          "base_uri": "https://localhost:8080/"
        },
        "id": "flk2KPBTURhL",
        "outputId": "a48d76af-a364-4cc7-f998-b19e3d76af45"
      },
      "outputs": [
        {
          "name": "stdout",
          "output_type": "stream",
          "text": [
            "AABBBBCDEEEE\n",
            "ABCDE\n"
          ]
        }
      ],
      "source": [
        "#Home task1\n",
        "x=input()\n",
        "a=\"\"\n",
        "for i in range(len(x)-1):\n",
        "  if x[i]!=x[i+1]:\n",
        "      a=a+x[i]\n",
        "print(a+x[-1])\n",
        "\n"
      ]
    },
    {
      "cell_type": "code",
      "execution_count": null,
      "metadata": {
        "colab": {
          "base_uri": "https://localhost:8080/"
        },
        "id": "jBL-pxn8_54p",
        "outputId": "e79c61ac-1259-4c87-bee7-2a6866952993"
      },
      "outputs": [
        {
          "name": "stdout",
          "output_type": "stream",
          "text": [
            "ABCDEFGH, ijkl\n",
            "AiBjCkDlEFGH\n"
          ]
        }
      ],
      "source": [
        "#Home task2\n",
        "x=input()\n",
        "i=0\n",
        "while x[i]!=\",\":\n",
        "  i+=1\n",
        "s1=x[0:i:]\n",
        "s2=x[i+2::]\n",
        "a=\"\"\n",
        "choto=s1\n",
        "if len(choto)>len(s2):\n",
        "  choto=s2\n",
        "for j in range(len(choto)):\n",
        "  a=a+s1[j]+s2[j]\n",
        "a=a+s1[len(choto)::]+s2[len(choto):]\n",
        "print(a)"
      ]
    },
    {
      "cell_type": "code",
      "execution_count": null,
      "metadata": {
        "colab": {
          "base_uri": "https://localhost:8080/"
        },
        "id": "f9_S4fBCeHaG",
        "outputId": "2d931f56-2fc9-442a-e4bd-7ee7e98354eb"
      },
      "outputs": [
        {
          "name": "stdout",
          "output_type": "stream",
          "text": [
            "the cow\n",
            "uif!dpx\n"
          ]
        }
      ],
      "source": [
        "#Home task3\n",
        "x=input()\n",
        "p=\"\"\n",
        "for i in range(len(x)):\n",
        "  if x[i]==\"z\":\n",
        "    p=p+\"a\"\n",
        "  else:\n",
        "    a=ord(x[i])+1\n",
        "    b=chr(a)\n",
        "    p=p+b\n",
        "print(p)\n"
      ]
    },
    {
      "cell_type": "code",
      "execution_count": null,
      "metadata": {
        "colab": {
          "base_uri": "https://localhost:8080/"
        },
        "id": "uKUfy209C9Jo",
        "outputId": "874f0ccf-1b9b-4760-f865-eb2de238a9fa"
      },
      "outputs": [
        {
          "name": "stdout",
          "output_type": "stream",
          "text": [
            "c\n",
            "C\n"
          ]
        }
      ],
      "source": [
        "#Home task4\n",
        "x=input()\n",
        "p=\"\"\n",
        "c=0\n",
        "for i in range(len(x)):\n",
        "  if x[i]!=\" \":\n",
        "    if c%2==0 and \"a\"<=x[i]<=\"z\":\n",
        "      p=p+chr(ord(x[i])-32)\n",
        "    elif c%2!=0 and \"A\"<=x[i]<=\"Z\":\n",
        "      p=p+chr(ord(x[i])+32)\n",
        "    else:\n",
        "      p=p+x[i]\n",
        "    c+=1\n",
        "  else:\n",
        "    p=p+x[i]\n",
        "print(p)"
      ]
    },
    {
      "cell_type": "code",
      "execution_count": null,
      "metadata": {
        "colab": {
          "base_uri": "https://localhost:8080/"
        },
        "id": "Ysj1COxu8PxK",
        "outputId": "4bb6053a-24be-4549-b660-e0d5d5bb5ae9"
      },
      "outputs": [
        {
          "name": "stdout",
          "output_type": "stream",
          "text": [
            "<--13-->2\n",
            "-->0-->5\n",
            "-->1-->5\n"
          ]
        }
      ],
      "source": [
        "test = \"\"\n",
        "i = 1\n",
        "j = 0\n",
        "k = 7\n",
        "while (i< 5):\n",
        "  k-=1\n",
        "  j = k\n",
        "  while (j > 4 ):\n",
        "    if j % 2 == 0:\n",
        "       test = \"<--\"\n",
        "       test = test + str(i) + '3' + \"-->\" + str(j // 3)\n",
        "    else:\n",
        "       test = \"-->\"\n",
        "       test = \"-->\" + str((i // 3)) + test + str(j)\n",
        "    print(test)\n",
        "    j -=1\n",
        "  i+=2"
      ]
    },
    {
      "cell_type": "code",
      "execution_count": null,
      "metadata": {
        "colab": {
          "base_uri": "https://localhost:8080/"
        },
        "id": "e0O_9uglCS-w",
        "outputId": "b316bb44-b9b6-484e-843e-37e467892c36"
      },
      "outputs": [
        {
          "name": "stdout",
          "output_type": "stream",
          "text": [
            "5 == 5\n",
            "2 == 2\n",
            "0 == 0\n",
            "-3 != -2\n",
            "-5 != -5\n",
            "-8 != -7\n",
            "-10 != -10\n"
          ]
        }
      ],
      "source": [
        "i = 10\n",
        "while(i >= -20):\n",
        "  if(i < 0):\n",
        "    test = \" != \"\n",
        "    test = str(i//2) + test + str(int(i/2))\n",
        "  else:\n",
        "    test = \" == \"\n",
        "    test = str(i//2) + test + str(int(i/2))\n",
        "  print(test)\n",
        "  i -= 5"
      ]
    },
    {
      "cell_type": "code",
      "execution_count": null,
      "metadata": {
        "colab": {
          "base_uri": "https://localhost:8080/"
        },
        "id": "_yfzkpqQFurp",
        "outputId": "0ef34247-e007-49df-84cb-f6d914523cf8"
      },
      "outputs": [
        {
          "name": "stdout",
          "output_type": "stream",
          "text": [
            "<--52-->7\n",
            "-->2-->13\n",
            "<--52-->6\n",
            "-->2-->11\n",
            "-->3-->13\n",
            "<--62-->6\n",
            "-->3-->11\n",
            "<--72-->6\n",
            "-->3-->11\n",
            "-->4-->11\n"
          ]
        }
      ],
      "source": [
        "test = \"\"\n",
        "i = 5\n",
        "j = 0\n",
        "k = 15\n",
        "while i< 10:\n",
        "  k-=1\n",
        "  j = k\n",
        "  while 5 < j - 5:\n",
        "    if (j % 2) == 0:\n",
        "      test = \"<--\"\n",
        "      test = str(test) + str(i) + str(2) + \"-->\" + str(int(j / 2))\n",
        "    else:\n",
        "      test = \"-->\"\n",
        "      test = \"-->\" + str(int(i / 2)) + str(test) + str(j)\n",
        "    print(test)\n",
        "    j = j-1\n",
        "  i+=1"
      ]
    },
    {
      "cell_type": "code",
      "execution_count": null,
      "metadata": {
        "colab": {
          "base_uri": "https://localhost:8080/"
        },
        "id": "HH-Y7LB0GVtV",
        "outputId": "e6aeeeaa-237d-4496-ea80-5c289db53461"
      },
      "outputs": [
        {
          "name": "stdout",
          "output_type": "stream",
          "text": [
            "<--cat-->07\n",
            "<--cat-->07<--013\n",
            "<--cat-->07<--013-->06\n",
            "<--cat-->07<--013-->06<--011\n",
            "<--cat-->07<--013-->06<--011<--013\n",
            "<--cat-->07<--013-->06<--011<--013-->16\n",
            "<--cat-->07<--013-->06<--011<--013-->16<--011\n",
            "<--cat-->07<--013-->06<--011<--013-->16<--011-->26\n",
            "<--cat-->07<--013-->06<--011<--013-->16<--011-->26<--111\n",
            "<--cat-->07<--013-->06<--011<--013-->16<--011-->26<--111<--111\n"
          ]
        }
      ],
      "source": [
        "i=0\n",
        "j=0\n",
        "k=15\n",
        "test = '<--cat'\n",
        "while i < 5:\n",
        "  k -= 1\n",
        "  j = k\n",
        "  while j > 10:\n",
        "    if j % 2 == 0:\n",
        "      test += '-->'\n",
        "      test = test + str(i) + str(j // 2)\n",
        "    else:\n",
        "      test += '<--'\n",
        "      test = test + str(i // 2) + str(j)\n",
        "    print(test)\n",
        "    j-=1\n",
        "  i+=1"
      ]
    },
    {
      "cell_type": "code",
      "execution_count": null,
      "metadata": {
        "colab": {
          "base_uri": "https://localhost:8080/"
        },
        "id": "0VeYmXjSGX8r",
        "outputId": "3b608390-7d22-4115-ecff-6d8f6db17e5e"
      },
      "outputs": [
        {
          "name": "stdout",
          "output_type": "stream",
          "text": [
            "Hello\n",
            "llo\n",
            "\n"
          ]
        }
      ],
      "source": [
        "a=input()\n",
        "print(a[2-len(a)::])"
      ]
    },
    {
      "cell_type": "code",
      "execution_count": null,
      "metadata": {
        "colab": {
          "base_uri": "https://localhost:8080/"
        },
        "id": "uFAvttFvW42W",
        "outputId": "72660bfc-b4ac-4c68-956d-a0fa20445180"
      },
      "outputs": [
        {
          "name": "stdout",
          "output_type": "stream",
          "text": [
            "90\n"
          ]
        }
      ],
      "source": [
        "\n",
        "for i in range (0, 100, 10):\n",
        " if i % 30 == 0:\n",
        "   continue\n",
        " elif i % 45 == 0:\n",
        "  break\n",
        "print(i)\n"
      ]
    },
    {
      "cell_type": "code",
      "execution_count": null,
      "metadata": {
        "colab": {
          "base_uri": "https://localhost:8080/"
        },
        "id": "wrHTid2vU-XX",
        "outputId": "d3aad3d6-f685-43c8-e291-4b2a7eba207a"
      },
      "outputs": [
        {
          "name": "stdout",
          "output_type": "stream",
          "text": [
            "5\n",
            "701\n"
          ]
        }
      ],
      "source": [
        "n=int(input())\n",
        "sum=0\n",
        "for i in range(1,n+1):\n",
        "  a=int((i**i)/i)\n",
        "  sum=sum+a\n",
        "print(sum)"
      ]
    },
    {
      "cell_type": "code",
      "execution_count": null,
      "metadata": {
        "colab": {
          "base_uri": "https://localhost:8080/"
        },
        "id": "WbPePDAm11sR",
        "outputId": "49275489-b2a4-44ce-b371-7fd3b5a6fd79"
      },
      "outputs": [
        {
          "output_type": "stream",
          "name": "stdout",
          "text": [
            "2\n",
            "2 x 1=2\n",
            "2 x 2=4\n",
            "2 x 3=6\n",
            "2 x 4=8\n",
            "2 x 5=10\n",
            "2 x 6=12\n",
            "2 x 7=14\n",
            "2 x 8=16\n",
            "2 x 9=18\n",
            "2 x 10=20\n"
          ]
        }
      ],
      "source": [
        "p=int(input())\n",
        "for i in range(1,11):\n",
        "  print(f'{p} x {i}={p*i}')\n"
      ]
    },
    {
      "cell_type": "code",
      "execution_count": null,
      "metadata": {
        "colab": {
          "base_uri": "https://localhost:8080/"
        },
        "id": "Auu92Nu-B9AD",
        "outputId": "c417a904-55e7-4915-9488-eb25c1e05817"
      },
      "outputs": [
        {
          "name": "stdout",
          "output_type": "stream",
          "text": [
            "4\n",
            "2\n",
            "3\n",
            "2\n",
            "1\n",
            "Rectangle\n"
          ]
        }
      ],
      "source": [
        "x=int(input())\n",
        "if x==1 or x==2:\n",
        "  print(\"Line\")\n",
        "elif x==3:\n",
        "  a=int(input())\n",
        "  b=int(input())\n",
        "  c=int(input())\n",
        "  if a+b>c:\n",
        "    print(\"Triangle\")\n",
        "  elif b+c>a:\n",
        "    print(\"Triangle\")\n",
        "  elif c+a>b:\n",
        "    print(\"Triangle\")\n",
        "  else:\n",
        "    print(\"Not a triangle\")\n",
        "elif x==4:\n",
        "  a=int(input())\n",
        "  b=int(input())\n",
        "  c=int(input())\n",
        "  d=int(input())\n",
        "  if a+b+c>d:\n",
        "    print(\"Rectangle\")\n",
        "  elif b+c+d>a:\n",
        "    print(\"Rectangle\")\n",
        "  elif c+d+a>b:\n",
        "    print(\"Rectangle\")\n",
        "  elif d+a+b>c:\n",
        "    print(\"Rectangle\")\n",
        "  else:\n",
        "    print(\"Not Rectangle\")\n",
        "else:\n",
        "  print(\"Invalid input\")"
      ]
    },
    {
      "cell_type": "code",
      "execution_count": null,
      "metadata": {
        "colab": {
          "base_uri": "https://localhost:8080/"
        },
        "id": "wV2u7zhdg0io",
        "outputId": "481b330f-4bd4-4d26-e4fd-ace77a3263ae"
      },
      "outputs": [
        {
          "name": "stdout",
          "output_type": "stream",
          "text": [
            "a\n",
            "a\n"
          ]
        }
      ],
      "source": [
        "#After Mid\n",
        "x=input()\n",
        "y=\"\"\n",
        "for i in x:\n",
        "  if i==\" \":\n",
        "    a=y\n",
        "  else:\n",
        "    a=y+i\n",
        "  b=a\n",
        "  print(b)\n"
      ]
    },
    {
      "cell_type": "code",
      "execution_count": null,
      "metadata": {
        "colab": {
          "base_uri": "https://localhost:8080/"
        },
        "id": "4s_oCb3apD6v",
        "outputId": "e723c79b-3a34-4845-abb8-54a6f8ae0e12"
      },
      "outputs": [
        {
          "name": "stdout",
          "output_type": "stream",
          "text": [
            "10\n",
            "0\n",
            "1\n",
            "3\n",
            "6\n",
            "10\n",
            "15\n",
            "21\n",
            "28\n",
            "36\n",
            "45\n"
          ]
        }
      ],
      "source": [
        "N=int(input())\n",
        "sum=0\n",
        "for i in range(N):\n",
        "  sum=sum+i\n",
        "  print(sum)"
      ]
    },
    {
      "cell_type": "code",
      "execution_count": null,
      "metadata": {
        "colab": {
          "base_uri": "https://localhost:8080/"
        },
        "id": "ywYNopeobPP0",
        "outputId": "13786479-27f0-4c8c-ea08-0de085464fe5"
      },
      "outputs": [
        {
          "name": "stdout",
          "output_type": "stream",
          "text": [
            "a1A  dCe   @    3  $F   #4\n",
            "ACF\n",
            "ade\n",
            "134\n",
            "@$#\n",
            "Aa1@Cd3$Fe4#\n"
          ]
        }
      ],
      "source": [
        "x=input()\n",
        "uppercase=\"\"\n",
        "lowercase=\"\"\n",
        "spchr=\"\"\n",
        "digit=\"\"\n",
        "for i in range(len(x)):\n",
        "  p=x[i]\n",
        "  if 'A'<=p<='Z':\n",
        "    uppercase+=p\n",
        "  elif 'a'<=p<='z':\n",
        "    lowercase+=p\n",
        "  elif \"0\"<=p<=\"9\":\n",
        "    digit+=p\n",
        "  elif p!=\" \":\n",
        "    spchr+=p\n",
        "print(uppercase)\n",
        "print(lowercase)\n",
        "print(digit)\n",
        "print(spchr)\n",
        "c=\"\"\n",
        "for j in range(len(uppercase)):\n",
        "  c=c+uppercase[j]+lowercase[j]+digit[j]+spchr[j]\n",
        "print(c)\n"
      ]
    },
    {
      "cell_type": "code",
      "execution_count": null,
      "metadata": {
        "colab": {
          "base_uri": "https://localhost:8080/"
        },
        "id": "SM638QXZciUU",
        "outputId": "e7f7ffc4-dbbb-466f-e967-db9e3fc06406"
      },
      "outputs": [
        {
          "name": "stdout",
          "output_type": "stream",
          "text": [
            "5\n",
            "2\n",
            "23\n",
            "234\n",
            "2345\n",
            "23456\n"
          ]
        }
      ],
      "source": [
        "N=int(input())\n",
        "sum=1\n",
        "for i in range(1,N+1):\n",
        "  for j in range(1,i+1):\n",
        "    print(sum+j,end=\"\")\n",
        "  print()\n",
        "\n",
        "\n"
      ]
    },
    {
      "cell_type": "code",
      "execution_count": null,
      "metadata": {
        "colab": {
          "base_uri": "https://localhost:8080/"
        },
        "id": "VU-T9HiOgaXZ",
        "outputId": "4dc41ad9-e625-4cb4-bc38-009c402e1035"
      },
      "outputs": [
        {
          "name": "stdout",
          "output_type": "stream",
          "text": [
            "-20-->15<--\n",
            "43\n",
            "-34-->19<--\n",
            "61\n",
            "-48-->23<--\n",
            "26\n",
            "60\n",
            "75\n",
            "135\n",
            "25\n"
          ]
        }
      ],
      "source": [
        "i=1\n",
        "h=1\n",
        "sum=0\n",
        "while i<10:\n",
        "  j=i*15\n",
        "  while j<=25:\n",
        "    k=i+j*2**i+h+3%2**h/2+sum\n",
        "    sum=sum+5\n",
        "    if j%2==0 or sum%2==0:\n",
        "      print(int(k))\n",
        "    else:\n",
        "      p=\"-\"\n",
        "      p+=str(j+sum)+\"-->\"+str(j)+\"<--\"\n",
        "      print(p)\n",
        "    j=j+3*j%2+j%2+1\n",
        "  print(j)\n",
        "  i+=j%4+1\n",
        "print(sum)"
      ]
    },
    {
      "cell_type": "code",
      "execution_count": null,
      "metadata": {
        "colab": {
          "base_uri": "https://localhost:8080/"
        },
        "id": "xMMZGuTmI-9Y",
        "outputId": "fca0f788-9348-4139-fd59-392d389a7a90"
      },
      "outputs": [
        {
          "name": "stdout",
          "output_type": "stream",
          "text": [
            "23\n"
          ]
        }
      ],
      "source": [
        "print(22+3*22%2+22%2+1)"
      ]
    },
    {
      "cell_type": "code",
      "execution_count": null,
      "metadata": {
        "colab": {
          "base_uri": "https://localhost:8080/"
        },
        "id": "NOqP8vCsIhvj",
        "outputId": "e77f7451-0fc5-4e59-c22d-9f4241c49a38"
      },
      "outputs": [
        {
          "name": "stdout",
          "output_type": "stream",
          "text": [
            "61.5\n"
          ]
        }
      ],
      "source": [
        "print(1+22*2**1+1+3%2**1/2+15)"
      ]
    },
    {
      "cell_type": "code",
      "execution_count": null,
      "metadata": {
        "id": "fGdg7s5omr0n",
        "colab": {
          "base_uri": "https://localhost:8080/"
        },
        "outputId": "32bc02e1-1d52-45ac-bf28-a8d9a627f211"
      },
      "outputs": [
        {
          "output_type": "stream",
          "name": "stdout",
          "text": [
            "1,2,3,4\n",
            "10\n"
          ]
        }
      ],
      "source": [
        "x=input()\n",
        "sum=0\n",
        "a=\"\"\n",
        "for i in range(len(x)):\n",
        "  if x[i]!=\",\":\n",
        "    sum=sum+int(x[i])\n",
        "print(sum)"
      ]
    },
    {
      "cell_type": "code",
      "execution_count": null,
      "metadata": {
        "colab": {
          "base_uri": "https://localhost:8080/"
        },
        "id": "sykw08PX4lVb",
        "outputId": "760991af-d5bd-4b5e-8cee-7e6a6a78947b"
      },
      "outputs": [
        {
          "name": "stdout",
          "output_type": "stream",
          "text": [
            "5,10,-5,0,100\n",
            "110\n"
          ]
        }
      ],
      "source": [
        "num=input()\n",
        "sum=0\n",
        "b=''\n",
        "for i in num:\n",
        "  if i ==\",\":\n",
        "    sum=sum+int(b)\n",
        "    b=''\n",
        "  else:\n",
        "    b=b+i\n",
        "sum=sum+int(b)\n",
        "print(sum)"
      ]
    },
    {
      "cell_type": "code",
      "execution_count": null,
      "metadata": {
        "colab": {
          "base_uri": "https://localhost:8080/"
        },
        "id": "So94kGA17yzi",
        "outputId": "30be3f04-007b-4acc-b205-78e16886918b"
      },
      "outputs": [
        {
          "name": "stdout",
          "output_type": "stream",
          "text": [
            "123456786\n",
            "36\n",
            "match\n"
          ]
        }
      ],
      "source": [
        "x=input()\n",
        "sum=0\n",
        "for i in range(len(x)-1):\n",
        "  a=x[i]\n",
        "  sum=sum+int(x[i])\n",
        "print(sum)\n",
        "b=int(x[len(x)-1])\n",
        "if sum%10==b:\n",
        "  print(\"match\")\n",
        "else:\n",
        "  print('not match')"
      ]
    },
    {
      "cell_type": "code",
      "execution_count": null,
      "metadata": {
        "colab": {
          "base_uri": "https://localhost:8080/"
        },
        "id": "2i5sWcrm_-q4",
        "outputId": "dc5471ca-bef6-4809-e1bf-8c641bbc4a3e"
      },
      "outputs": [
        {
          "name": "stdout",
          "output_type": "stream",
          "text": [
            "-2\n"
          ]
        }
      ],
      "source": [
        "print(22%-6)"
      ]
    },
    {
      "cell_type": "code",
      "execution_count": null,
      "metadata": {
        "colab": {
          "base_uri": "https://localhost:8080/"
        },
        "id": "8bYdG-oWJ0d_",
        "outputId": "873433ab-9d12-4605-ad0b-742236c0477d"
      },
      "outputs": [
        {
          "name": "stdout",
          "output_type": "stream",
          "text": [
            "['__add__', '__class__', '__contains__', '__delattr__', '__dir__', '__doc__', '__eq__', '__format__', '__ge__', '__getattribute__', '__getitem__', '__getnewargs__', '__gt__', '__hash__', '__init__', '__init_subclass__', '__iter__', '__le__', '__len__', '__lt__', '__mod__', '__mul__', '__ne__', '__new__', '__reduce__', '__reduce_ex__', '__repr__', '__rmod__', '__rmul__', '__setattr__', '__sizeof__', '__str__', '__subclasshook__', 'capitalize', 'casefold', 'center', 'count', 'encode', 'endswith', 'expandtabs', 'find', 'format', 'format_map', 'index', 'isalnum', 'isalpha', 'isascii', 'isdecimal', 'isdigit', 'isidentifier', 'islower', 'isnumeric', 'isprintable', 'isspace', 'istitle', 'isupper', 'join', 'ljust', 'lower', 'lstrip', 'maketrans', 'partition', 'removeprefix', 'removesuffix', 'replace', 'rfind', 'rindex', 'rjust', 'rpartition', 'rsplit', 'rstrip', 'split', 'splitlines', 'startswith', 'strip', 'swapcase', 'title', 'translate', 'upper', 'zfill']\n"
          ]
        }
      ],
      "source": [
        "print(dir(\"\"))"
      ]
    },
    {
      "cell_type": "code",
      "execution_count": null,
      "metadata": {
        "colab": {
          "base_uri": "https://localhost:8080/"
        },
        "id": "yYj48c47SD3o",
        "outputId": "c2f6eb6c-f8f2-4f10-ec06-74815c1beb5a"
      },
      "outputs": [
        {
          "name": "stdout",
          "output_type": "stream",
          "text": [
            "Hi\n",
            "Hi\n",
            "Hi\n",
            "\n"
          ]
        }
      ],
      "source": [
        "print(\"Hi\\n\"*3)"
      ]
    },
    {
      "cell_type": "code",
      "execution_count": null,
      "metadata": {
        "colab": {
          "base_uri": "https://localhost:8080/"
        },
        "id": "07ZhMZL-g0Lt",
        "outputId": "85c0aa71-c07e-4717-c39a-dac6205c7b62"
      },
      "outputs": [
        {
          "name": "stdout",
          "output_type": "stream",
          "text": [
            "1634\n",
            "4\n",
            "It's an Armstrong number\n"
          ]
        }
      ],
      "source": [
        "x=input()\n",
        "n=int(input())\n",
        "sum=0\n",
        "for i in range(len(x)):\n",
        "  a=x[i]\n",
        "  sum=sum+(int(a))**n\n",
        "if sum==int(x):\n",
        "  print(\"It's an Armstrong number\")\n",
        "else:\n",
        "  print(\"It's not an Armstrong number \")"
      ]
    },
    {
      "cell_type": "code",
      "execution_count": null,
      "metadata": {
        "colab": {
          "base_uri": "https://localhost:8080/"
        },
        "id": "37zQx7u7qyeS",
        "outputId": "6fc130f0-1feb-4268-bcf9-3caf6a26b247"
      },
      "outputs": [
        {
          "name": "stdout",
          "output_type": "stream",
          "text": [
            "33\n",
            "1.9\n",
            "753\n",
            "34.9753\n"
          ]
        }
      ],
      "source": [
        "x=int(input())\n",
        "y=float(input())\n",
        "z=int(input())\n",
        "a=x+y\n",
        "b=str(a)+str(z)\n",
        "print(b)"
      ]
    },
    {
      "cell_type": "code",
      "execution_count": null,
      "metadata": {
        "colab": {
          "base_uri": "https://localhost:8080/"
        },
        "id": "JiQvbB4Iyqgu",
        "outputId": "f5250949-9faf-4897-dea8-838c270f9128"
      },
      "outputs": [
        {
          "name": "stdout",
          "output_type": "stream",
          "text": [
            "11\n",
            "1011\n"
          ]
        }
      ],
      "source": [
        "#Decimal to binary\n",
        "x=int(input())\n",
        "y=\"\"\n",
        "while not x==0:\n",
        "   a=x%2\n",
        "   x=x//2\n",
        "   y=y+str(a)\n",
        "   b=y[::-1]\n",
        "print(b)"
      ]
    },
    {
      "cell_type": "code",
      "execution_count": null,
      "metadata": {
        "colab": {
          "base_uri": "https://localhost:8080/"
        },
        "id": "PGhqfn2w5wu0",
        "outputId": "04f60a6a-71d0-449c-aeeb-c84b74c48ff6"
      },
      "outputs": [
        {
          "name": "stdout",
          "output_type": "stream",
          "text": [
            "1010\n",
            "10\n"
          ]
        }
      ],
      "source": [
        "\n",
        "#Binary to decimal\n",
        "x=input()\n",
        "sum=0\n",
        "b=len(x)-1\n",
        "for i in range(len(x)):\n",
        "    a=x[i]\n",
        "    sum=sum+((2**b)*int(a))\n",
        "    b-=1\n",
        "print(sum)"
      ]
    },
    {
      "cell_type": "code",
      "execution_count": null,
      "metadata": {
        "colab": {
          "base_uri": "https://localhost:8080/"
        },
        "id": "RBgbrTxYAJTC",
        "outputId": "15c8fcac-4ad9-47df-fbd4-7ce7e1bc77e3"
      },
      "outputs": [
        {
          "name": "stdout",
          "output_type": "stream",
          "text": [
            "2\n",
            "6\n",
            "Between 2 and 6\n",
            "Found 3 prime numbers\n",
            "Found 1 perfect number\n",
            "Prime numbers:2,3,5,\b\n",
            "Perfect number:6\n"
          ]
        }
      ],
      "source": [
        "start=int(input())\n",
        "stop=int(input())\n",
        "count1=0\n",
        "count2=0\n",
        "a=\"\"\n",
        "b=\"\"\n",
        "for i in range(start,stop+1):\n",
        "   sum=0\n",
        "   for j in range(1,i):\n",
        "      if i%j==0:\n",
        "         sum+=j\n",
        "   if sum==i:\n",
        "      a=a+str(i)\n",
        "      count1+=1\n",
        "   elif sum==1:\n",
        "      b=b+str(i)+\",\"\n",
        "      count2+=1\n",
        "print(\"Between\",start,\"and\",stop)\n",
        "print(\"Found\",count2,\"prime numbers\")\n",
        "print(\"Found\",count1,\"perfect number\")\n",
        "print(\"Prime numbers:\"+b+chr(8))\n",
        "print(\"Perfect number:\"+a)"
      ]
    },
    {
      "cell_type": "code",
      "execution_count": null,
      "metadata": {
        "colab": {
          "base_uri": "https://localhost:8080/"
        },
        "id": "f1QKAyEPTQQN",
        "outputId": "1d104889-0d5f-4d98-a185-dbcb00679ad1"
      },
      "outputs": [
        {
          "name": "stdout",
          "output_type": "stream",
          "text": [
            "1400\n",
            "Sorry,your discount is: 154\n"
          ]
        }
      ],
      "source": [
        "x=int(input())\n",
        "if x>900:\n",
        "  a=x-(x*(11/100))\n",
        "  b=int(x-a)\n",
        "  if b%4==0 and b%11!=0:\n",
        "    c=b-(b*(8/100))\n",
        "    d=int(b-c)\n",
        "    print(d)\n",
        "  else:\n",
        "    print(\"Sorry,your discount is:\",b)\n",
        "else:\n",
        "  print(\"No discount\")"
      ]
    },
    {
      "cell_type": "code",
      "execution_count": null,
      "metadata": {
        "colab": {
          "base_uri": "https://localhost:8080/"
        },
        "id": "UN55O9zzGAwU",
        "outputId": "4e90c2ea-d781-4eaf-83f3-9691eb809793"
      },
      "outputs": [
        {
          "name": "stdout",
          "output_type": "stream",
          "text": [
            "351\n",
            "356\n",
            "9\n",
            "45 90 "
          ]
        }
      ],
      "source": [
        "start=int(input())\n",
        "stop=int(input())\n",
        "z=int(input())\n",
        "for i in range(start,stop+1):\n",
        "  a=str(i)\n",
        "  p=1\n",
        "  for j in range(len(a)):\n",
        "    x=a[j]\n",
        "    p=p*int(x)\n",
        "  if p%z==0:\n",
        "    print(p,end=\" \")"
      ]
    },
    {
      "cell_type": "code",
      "execution_count": null,
      "metadata": {
        "colab": {
          "base_uri": "https://localhost:8080/"
        },
        "id": "l8Diol-BcJLz",
        "outputId": "a02d0316-9172-4c47-f836-421104fa5739"
      },
      "outputs": [
        {
          "name": "stdout",
          "output_type": "stream",
          "text": [
            "70\n",
            "1150\n"
          ]
        }
      ],
      "source": [
        "x=int(input())\n",
        "if 22<=x<=55:\n",
        "  point=74\n",
        "  print(\"This is the end!\")\n",
        "elif x>55:\n",
        "  fine=1150\n",
        "  point=0\n",
        "  print(fine-point)\n",
        "elif x<22:\n",
        "  fine=1264\n",
        "  point=0\n",
        "  print(fine-point)"
      ]
    },
    {
      "cell_type": "code",
      "execution_count": null,
      "metadata": {
        "colab": {
          "base_uri": "https://localhost:8080/"
        },
        "id": "zY8jETrfgFcu",
        "outputId": "4f97f24e-894d-43b6-a102-b3b4926baabb"
      },
      "outputs": [
        {
          "name": "stdout",
          "output_type": "stream",
          "text": [
            "Stop\n",
            "0\n"
          ]
        }
      ],
      "source": [
        "x=input()\n",
        "if x==\"Stop\":\n",
        "  print(0)\n",
        "else:\n",
        "  p=1\n",
        "  while x!=\"Stop\":\n",
        "    p=p*int(x)\n",
        "    x=input()\n",
        "  print(p)"
      ]
    },
    {
      "cell_type": "markdown",
      "metadata": {
        "id": "auHsKY0F-bqZ"
      },
      "source": [
        "\n",
        "66 problems of **string**"
      ]
    },
    {
      "cell_type": "code",
      "execution_count": null,
      "metadata": {
        "colab": {
          "base_uri": "https://localhost:8080/"
        },
        "id": "5WWg0mE-KiR5",
        "outputId": "014df318-e578-4a4e-e5b7-111dee29f0b7"
      },
      "outputs": [
        {
          "name": "stdout",
          "output_type": "stream",
          "text": [
            "aimaS\n"
          ]
        }
      ],
      "source": [
        "a=\"Samia\"\n",
        "print(a[::-1])"
      ]
    },
    {
      "cell_type": "code",
      "execution_count": null,
      "metadata": {
        "colab": {
          "base_uri": "https://localhost:8080/"
        },
        "id": "OzhJ_o8SWcO9",
        "outputId": "611f889d-33c7-45be-a99c-abaa1a749c25"
      },
      "outputs": [
        {
          "name": "stdout",
          "output_type": "stream",
          "text": [
            "real slim shady please stand up\n",
            "9\n"
          ]
        }
      ],
      "source": [
        "x=input()\n",
        "b='aeiouAEIOU'\n",
        "count=0\n",
        "for i in x:\n",
        "    if i in b:\n",
        "       count+=1\n",
        "print(count)"
      ]
    },
    {
      "cell_type": "code",
      "execution_count": null,
      "metadata": {
        "colab": {
          "base_uri": "https://localhost:8080/"
        },
        "id": "XR6ECsXHRLVy",
        "outputId": "e9835fe3-90e5-4153-e2ba-d68cd0e367a2"
      },
      "outputs": [
        {
          "output_type": "stream",
          "name": "stdout",
          "text": [
            "1234321\n",
            "The string is a palindrome.\n"
          ]
        }
      ],
      "source": [
        "#Palindrome\n",
        "x=input()\n",
        "a=False\n",
        "for i in range(len(x)):\n",
        "   if x[i]==x[-i-1]:\n",
        "     a=True\n",
        "   else:\n",
        "    a=False\n",
        "    print(\"The string is not a palindrome.\")\n",
        "    break\n",
        "if a==True:\n",
        "  print(\"The string is a palindrome.\")"
      ]
    },
    {
      "cell_type": "code",
      "execution_count": null,
      "metadata": {
        "colab": {
          "base_uri": "https://localhost:8080/"
        },
        "id": "1-neB9mR0l70",
        "outputId": "cc97aaf0-32a4-4b8c-f0c9-4ac0a74ec229"
      },
      "outputs": [
        {
          "name": "stdout",
          "output_type": "stream",
          "text": [
            "We love Bangladesh \n",
            "WeloveBangladesh\n"
          ]
        }
      ],
      "source": [
        "a=\"\"\n",
        "x=input()\n",
        "for i in x:\n",
        "   if i!=\" \":\n",
        "       a=a+i\n",
        "print(a)"
      ]
    },
    {
      "cell_type": "code",
      "execution_count": null,
      "metadata": {
        "colab": {
          "base_uri": "https://localhost:8080/"
        },
        "id": "qHt6Klek_Gg8",
        "outputId": "f6c26d4f-316c-4dbf-c67f-ab83056c1ae8"
      },
      "outputs": [
        {
          "output_type": "stream",
          "name": "stdout",
          "text": [
            "samiaaa\n",
            "s 1 times\n",
            "a 4 times\n",
            "m 1 times\n",
            "i 1 times\n"
          ]
        }
      ],
      "source": [
        "#5\n",
        "x=input()\n",
        "com=\"\"\n",
        "for i in range(len(x)):\n",
        "  a=x[i]\n",
        "  count=0\n",
        "  if a not in com:\n",
        "    for j in range(len(x)):\n",
        "        if a ==x[j]:\n",
        "            count+=1\n",
        "    com+=a\n",
        "    print(a, count,\"times\")"
      ]
    },
    {
      "cell_type": "code",
      "source": [
        "x=input()\n",
        "com=\"\"\n",
        "for i in range(len(x)):\n",
        "  a=x[i]\n",
        "  count=0\n",
        "  for j in range(len(x)):\n",
        "        if a ==x[j]:\n",
        "            count+=1\n",
        "  print(a, count,\"times\")"
      ],
      "metadata": {
        "colab": {
          "base_uri": "https://localhost:8080/"
        },
        "id": "x9eKw-kXoj41",
        "outputId": "b27b500c-5e6b-4f83-b988-97f43ec16e57"
      },
      "execution_count": null,
      "outputs": [
        {
          "output_type": "stream",
          "name": "stdout",
          "text": [
            "Samiaaa\n",
            "S 1 times\n",
            "a 4 times\n",
            "m 1 times\n",
            "i 1 times\n",
            "a 4 times\n",
            "a 4 times\n",
            "a 4 times\n"
          ]
        }
      ]
    },
    {
      "cell_type": "code",
      "execution_count": null,
      "metadata": {
        "colab": {
          "base_uri": "https://localhost:8080/"
        },
        "id": "9V03YS3CjC2j",
        "outputId": "3c002158-438a-4996-9b53-5dff03dd960a"
      },
      "outputs": [
        {
          "name": "stdout",
          "output_type": "stream",
          "text": [
            "the sun also rises\n",
            "th sn ls rss\n"
          ]
        }
      ],
      "source": [
        "x=input()\n",
        "y=\"aeoiuAEIOU\"\n",
        "p=\"\"\n",
        "for i in range(len(x)):\n",
        "    q=x[i]\n",
        "    if q not in y:\n",
        "      p=p+q\n",
        "print(p)"
      ]
    },
    {
      "cell_type": "code",
      "source": [
        "x=\"My name is Samia\"\n",
        "emp=\"\"\n",
        "for i in range(len(x)-1,-1,-1):\n",
        "    if x[i]!=\" \":\n",
        "        emp+=x[i]\n",
        "    if x[i]==\" \" or i==0:\n",
        "        emp=emp[::-1]\n",
        "        print(emp,end=\" \")\n",
        "        emp=\"\""
      ],
      "metadata": {
        "colab": {
          "base_uri": "https://localhost:8080/"
        },
        "id": "8o1L3VnJh3zZ",
        "outputId": "fdf5fc6e-da36-4712-97c5-3facdbf1b641"
      },
      "execution_count": null,
      "outputs": [
        {
          "output_type": "stream",
          "name": "stdout",
          "text": [
            "Samia is name My "
          ]
        }
      ]
    },
    {
      "cell_type": "code",
      "source": [
        "x=\"My name is samia\"\n",
        "emp=\"\"\n",
        "for i in range(len(x)):\n",
        "    if x[i]!=\" \":\n",
        "        emp+=x[i]\n",
        "    if x[i]==\" \" or i==len(x)-1:\n",
        "        if \"a\"<=emp[0]<=\"z\":\n",
        "           emp= chr(ord(emp[0])-32)+emp[1::]\n",
        "        print(emp,end=\" \")\n",
        "        emp=\"\""
      ],
      "metadata": {
        "colab": {
          "base_uri": "https://localhost:8080/"
        },
        "id": "w7_tPBK3qks9",
        "outputId": "cd4849f4-ccec-4c88-88a9-3fcc2d46c575"
      },
      "execution_count": null,
      "outputs": [
        {
          "output_type": "stream",
          "name": "stdout",
          "text": [
            "My Name Is Samia "
          ]
        }
      ]
    },
    {
      "cell_type": "code",
      "source": [
        "x=input()\n",
        "p=x[0]\n",
        "if  not \"A\"<=p<=\"Z\":\n",
        "    p=chr(ord(p)-32)\n",
        "for i in range(len(x)-1):\n",
        "    if x[i]!=\" \":\n",
        "        p+=x[i+1]\n",
        "    elif x[i]==\" \":\n",
        "        p+=\" \"+chr(ord(x[i+1])-32)\n",
        "print(p)"
      ],
      "metadata": {
        "colab": {
          "base_uri": "https://localhost:8080/"
        },
        "id": "zE46JyXNqgsG",
        "outputId": "8651884a-7090-439a-e473-dbcacaaa825f"
      },
      "execution_count": null,
      "outputs": [
        {
          "output_type": "stream",
          "name": "stdout",
          "text": [
            "tell me why it aint nothing but a heart break\n",
            "Tell  Me  Why  It  Aint  Nothing  But  A  Heart  Break\n"
          ]
        }
      ]
    },
    {
      "cell_type": "code",
      "source": [
        "#9\n",
        "x=input()\n",
        "c=1\n",
        "for i in range(len(x)):\n",
        "    if x[i]==\" \":\n",
        "        c+=1\n",
        "print(c)"
      ],
      "metadata": {
        "colab": {
          "base_uri": "https://localhost:8080/"
        },
        "id": "jz4z_7AOq1Wk",
        "outputId": "d3f340a7-5cec-4099-9286-b53091b5d833"
      },
      "execution_count": null,
      "outputs": [
        {
          "output_type": "stream",
          "name": "stdout",
          "text": [
            "i am Samia\n",
            "3\n"
          ]
        }
      ]
    },
    {
      "cell_type": "code",
      "execution_count": null,
      "metadata": {
        "colab": {
          "base_uri": "https://localhost:8080/"
        },
        "id": "re8QE9Euodpd",
        "outputId": "08ac259a-43ea-4e01-cbb4-bad073d1be42"
      },
      "outputs": [
        {
          "output_type": "stream",
          "name": "stdout",
          "text": [
            "12345\n",
            "2\n",
            "32145\n"
          ]
        }
      ],
      "source": [
        "x=input()\n",
        "y=int(input())\n",
        "p=x[y::-1]+x[y+1:]\n",
        "print(p)"
      ]
    },
    {
      "cell_type": "code",
      "execution_count": null,
      "metadata": {
        "colab": {
          "base_uri": "https://localhost:8080/"
        },
        "id": "32BrM6K2b_zr",
        "outputId": "4585f575-34ad-453c-d3ca-81e60b0b2a5e"
      },
      "outputs": [
        {
          "name": "stdout",
          "output_type": "stream",
          "text": [
            "BangLaDesh\n",
            "3\n"
          ]
        }
      ],
      "source": [
        "x=input()\n",
        "c=0\n",
        "for i in range(len(x)):\n",
        "  a=x[i]\n",
        "  if \"A\"<=a<=\"Z\":\n",
        "    c+=1\n",
        "print(c)"
      ]
    },
    {
      "cell_type": "code",
      "execution_count": null,
      "metadata": {
        "colab": {
          "base_uri": "https://localhost:8080/"
        },
        "id": "7zWHZbFZcUpK",
        "outputId": "7d2b2e4a-4905-476a-f350-4d6d8b8eed4d"
      },
      "outputs": [
        {
          "name": "stdout",
          "output_type": "stream",
          "text": [
            "Messi\n",
            "s\n",
            "2\n"
          ]
        }
      ],
      "source": [
        "x=input()\n",
        "y=input()\n",
        "c=0\n",
        "for i in x:\n",
        "  if y in i:#y in x hoi na kno\n",
        "    c+=1\n",
        "print(c)"
      ]
    },
    {
      "cell_type": "code",
      "execution_count": null,
      "metadata": {
        "colab": {
          "base_uri": "https://localhost:8080/"
        },
        "id": "Q_bwVo0tcdXx",
        "outputId": "b4368bd6-d36e-4a16-98b7-4a24aeb3a799"
      },
      "outputs": [
        {
          "output_type": "stream",
          "name": "stdout",
          "text": [
            "samia\n",
            "s*m**\n"
          ]
        }
      ],
      "source": [
        "x=input()\n",
        "y=\"aeoiuAEIOU\"\n",
        "a=\"\"\n",
        "for i in x:\n",
        "  if i in y:\n",
        "    a=a+\"*\"\n",
        "  else:\n",
        "    a=a+i\n",
        "print(a)"
      ]
    },
    {
      "cell_type": "code",
      "execution_count": null,
      "metadata": {
        "colab": {
          "base_uri": "https://localhost:8080/"
        },
        "id": "8CLG3MAMcjN_",
        "outputId": "0a6bbd8c-ea93-4d72-be7e-04d10f810b99"
      },
      "outputs": [
        {
          "output_type": "stream",
          "name": "stdout",
          "text": [
            "Saammiiaa\n",
            "Samia\n"
          ]
        }
      ],
      "source": [
        "x=input()#Samiaa\n",
        "a=\"\"\n",
        "for i in range(len(x)-1):\n",
        "  if x[i]!=x[i+1]:\n",
        "    a=a+x[i]\n",
        "print(a+x[i])"
      ]
    },
    {
      "cell_type": "code",
      "execution_count": null,
      "metadata": {
        "colab": {
          "base_uri": "https://localhost:8080/",
          "height": 252
        },
        "id": "AzpugH7Gct0O",
        "outputId": "3e302b1f-9848-4fe1-99fd-77c17597fb9a"
      },
      "outputs": [
        {
          "output_type": "error",
          "ename": "KeyboardInterrupt",
          "evalue": "ignored",
          "traceback": [
            "\u001b[0;31m---------------------------------------------------------------------------\u001b[0m",
            "\u001b[0;31mKeyboardInterrupt\u001b[0m                         Traceback (most recent call last)",
            "\u001b[0;32m<ipython-input-60-41f8c41319e3>\u001b[0m in \u001b[0;36m<cell line: 4>\u001b[0;34m()\u001b[0m\n\u001b[1;32m      1\u001b[0m \u001b[0;31m#19 parina\u001b[0m\u001b[0;34m\u001b[0m\u001b[0;34m\u001b[0m\u001b[0m\n\u001b[1;32m      2\u001b[0m \u001b[0minput_string\u001b[0m \u001b[0;34m=\u001b[0m \u001b[0;34m\"neymar\"\u001b[0m\u001b[0;34m\u001b[0m\u001b[0;34m\u001b[0m\u001b[0m\n\u001b[1;32m      3\u001b[0m \u001b[0msorted_string\u001b[0m \u001b[0;34m=\u001b[0m \u001b[0;34m\"\"\u001b[0m\u001b[0;34m\u001b[0m\u001b[0;34m\u001b[0m\u001b[0m\n\u001b[1;32m      4\u001b[0m \u001b[0;32mwhile\u001b[0m \u001b[0mlen\u001b[0m\u001b[0;34m(\u001b[0m\u001b[0minput_string\u001b[0m\u001b[0;34m)\u001b[0m\u001b[0;34m>\u001b[0m\u001b[0;36m0\u001b[0m\u001b[0;34m:\u001b[0m\u001b[0;34m\u001b[0m\u001b[0;34m\u001b[0m\u001b[0m\n\u001b[1;32m      5\u001b[0m     \u001b[0mmin_char\u001b[0m \u001b[0;34m=\u001b[0m \u001b[0minput_string\u001b[0m\u001b[0;34m[\u001b[0m\u001b[0;36m0\u001b[0m\u001b[0;34m]\u001b[0m\u001b[0;34m\u001b[0m\u001b[0;34m\u001b[0m\u001b[0m\n",
            "\u001b[0;31mKeyboardInterrupt\u001b[0m: "
          ]
        }
      ],
      "source": [
        "#19 parina\n",
        "input_string = \"neymar\"\n",
        "sorted_string = \"\"\n",
        "while len(input_string)>0:\n",
        "    min_char = input_string[0]\n",
        "    for char in input_string:\n",
        "        if ord(char) <ord(min_char):\n",
        "            min_char = char\n",
        "    sorted_string += min_char\n",
        "    for i in input_string:\n",
        "        if i!=min_char:\n",
        "            input_string+=i\n",
        "print(sorted_string)"
      ]
    },
    {
      "cell_type": "code",
      "execution_count": null,
      "metadata": {
        "colab": {
          "base_uri": "https://localhost:8080/"
        },
        "id": "UqfXGqtRczLv",
        "outputId": "71f228fb-082c-4bc0-e2d0-35139a3c7c1a"
      },
      "outputs": [
        {
          "output_type": "stream",
          "name": "stdout",
          "text": [
            "a1b2c3\n",
            "It's an alphanumeric number\n"
          ]
        }
      ],
      "source": [
        "x=input()\n",
        "all=True\n",
        "for i in range(len(x)):\n",
        "  if \"a\"<=x[i]<=\"z\" or \"A\"<=x[i]<=\"Z\" or \"0\"<=x[i]<=\"9\":\n",
        "    all=True\n",
        "  else:\n",
        "    all=False\n",
        "if all==True:\n",
        "    print(\"It's an alphanumeric number\")\n",
        "else:\n",
        "    print(\"It's not an alphanumeric number\")\n"
      ]
    },
    {
      "cell_type": "code",
      "execution_count": null,
      "metadata": {
        "colab": {
          "base_uri": "https://localhost:8080/"
        },
        "id": "_hxG6RpUesu8",
        "outputId": "5c7578cf-19dd-4325-fe47-4f0b234c009d"
      },
      "outputs": [
        {
          "output_type": "stream",
          "name": "stdout",
          "text": [
            "aaaaabb\n",
            "All lowercase\n"
          ]
        }
      ],
      "source": [
        "x=input()\n",
        "all=True\n",
        "for i in range(len(x)):\n",
        "  if \"A\"<=x[i]<=\"Z\":\n",
        "     print(\"Not lowercase\")\n",
        "     all=False\n",
        "     break\n",
        "if all:\n",
        "     print(\"All lowercase\")\n"
      ]
    },
    {
      "cell_type": "code",
      "execution_count": null,
      "metadata": {
        "colab": {
          "base_uri": "https://localhost:8080/"
        },
        "id": "y0hTmmlPfTFX",
        "outputId": "80dca971-a741-4255-8e35-645c1b3e6cdf"
      },
      "outputs": [
        {
          "output_type": "stream",
          "name": "stdout",
          "text": [
            "12345\n",
            "All digits\n"
          ]
        }
      ],
      "source": [
        "x=input()\n",
        "all=True\n",
        "for i in range(len(x)):\n",
        "  a=x[i]\n",
        "  if not \"0\"<=a<=\"9\":\n",
        "    all=False\n",
        "    print(\"Not all\")\n",
        "    break\n",
        "if all:\n",
        "    print(\"All digits\")"
      ]
    },
    {
      "cell_type": "code",
      "execution_count": null,
      "metadata": {
        "colab": {
          "base_uri": "https://localhost:8080/"
        },
        "id": "9lpXWxe5fyX6",
        "outputId": "7547e871-d91c-49e3-c162-39c7fad47787"
      },
      "outputs": [
        {
          "output_type": "stream",
          "name": "stdout",
          "text": [
            "1.1.1.12\n",
            "ip address\n"
          ]
        }
      ],
      "source": [
        "x=input()\n",
        "c=0\n",
        "for j in range(len(x)):\n",
        "  b=x[j]\n",
        "  if x[j]=='.' and  \"0\"<=x[j-1]<=\"9\" :\n",
        "    c+=1\n",
        "if c==3:\n",
        "  print(\"ip address\")\n",
        "else:\n",
        "  print(\"invalid\")\n"
      ]
    },
    {
      "cell_type": "code",
      "execution_count": null,
      "metadata": {
        "colab": {
          "base_uri": "https://localhost:8080/"
        },
        "id": "k1QNJ-0jKbkn",
        "outputId": "745e08a1-c57d-49cd-8183-072ef0a70e92"
      },
      "outputs": [
        {
          "output_type": "stream",
          "name": "stdout",
          "text": [
            "SAMIA\n",
            "S\n",
            "SA\n",
            "SAM\n",
            "SAMI\n",
            "SAMIA\n"
          ]
        }
      ],
      "source": [
        "# 30\n",
        "x=input()\n",
        "for i in range(len(x)):\n",
        "  for j in range(i+1):\n",
        "    print(x[j],end=\"\")\n",
        "  print()"
      ]
    },
    {
      "cell_type": "code",
      "execution_count": null,
      "metadata": {
        "colab": {
          "base_uri": "https://localhost:8080/"
        },
        "id": "AV5UrVeMNAZp",
        "outputId": "946603db-484b-4794-a704-85a1f6cbff84"
      },
      "outputs": [
        {
          "name": "stdout",
          "output_type": "stream",
          "text": [
            "BANGLA\n",
            "B\n",
            "BA\n",
            "BAN\n",
            "BANG\n",
            "BANGL\n",
            "BANGLA\n"
          ]
        }
      ],
      "source": [
        "a = input()\n",
        "i = 0\n",
        "while i < len(a):\n",
        "    print(a[0:i+1])\n",
        "    i += 1"
      ]
    },
    {
      "cell_type": "code",
      "execution_count": null,
      "metadata": {
        "colab": {
          "base_uri": "https://localhost:8080/"
        },
        "id": "ECd4UmacOnHA",
        "outputId": "bdceeac0-80e2-4ca3-a7ac-e020b819c8a4"
      },
      "outputs": [
        {
          "name": "stdout",
          "output_type": "stream",
          "text": [
            "SAMIA\n",
            "SAMIA\n",
            "SAMI\n",
            "SAM\n",
            "SA\n",
            "S\n",
            "\n"
          ]
        }
      ],
      "source": [
        "a=input()\n",
        "i=len(a)\n",
        "while i>=0:\n",
        "  print(a[:i:])\n",
        "  i-=1"
      ]
    },
    {
      "cell_type": "code",
      "execution_count": null,
      "metadata": {
        "colab": {
          "base_uri": "https://localhost:8080/"
        },
        "id": "aLEcNHaUPgao",
        "outputId": "a6cda50a-1344-41bc-92fd-a9bf4cbbc1d8"
      },
      "outputs": [
        {
          "name": "stdout",
          "output_type": "stream",
          "text": [
            "BANGLA\n",
            "BA\n",
            "BANG\n",
            "BANGLA\n"
          ]
        }
      ],
      "source": [
        "x=input()\n",
        "i=0\n",
        "while i<len(x):\n",
        "  print(x[:i+2:])\n",
        "  i+=2"
      ]
    },
    {
      "cell_type": "code",
      "execution_count": null,
      "metadata": {
        "colab": {
          "base_uri": "https://localhost:8080/"
        },
        "id": "DIumSPW4QwB_",
        "outputId": "ccc8c792-f83f-478b-d7e1-3de390d43657"
      },
      "outputs": [
        {
          "name": "stdout",
          "output_type": "stream",
          "text": [
            "bangla\n",
            "b\n",
            "ban\n",
            "bangl\n"
          ]
        }
      ],
      "source": [
        "x=input()\n",
        "i=0\n",
        "while i<len(x):\n",
        "  print(x[:i+1:])\n",
        "  i+=2"
      ]
    },
    {
      "cell_type": "code",
      "execution_count": null,
      "metadata": {
        "colab": {
          "base_uri": "https://localhost:8080/"
        },
        "id": "TgKiXcN6URR1",
        "outputId": "1f2dadf7-a0d0-4841-b3ad-bb4ad7277b27"
      },
      "outputs": [
        {
          "name": "stdout",
          "output_type": "stream",
          "text": [
            "bangla\n",
            "b\n",
            "ab\n",
            "nab\n",
            "gnab\n",
            "lgnab\n",
            "algnab\n"
          ]
        }
      ],
      "source": [
        "x=input()\n",
        "i=0\n",
        "while i<len(x):\n",
        "  print(x[i::-1])\n",
        "  i+=1"
      ]
    },
    {
      "cell_type": "code",
      "execution_count": null,
      "metadata": {
        "colab": {
          "base_uri": "https://localhost:8080/"
        },
        "id": "C0ueByktWRub",
        "outputId": "9c85ae60-e2e4-42de-ce88-c31d12b8f371"
      },
      "outputs": [
        {
          "name": "stdout",
          "output_type": "stream",
          "text": [
            "bangla\n",
            "b\n",
            "n\n",
            "l\n"
          ]
        }
      ],
      "source": [
        "x=input()\n",
        "i=0\n",
        "while i<len(x):\n",
        "  if i%2==0:\n",
        "     print(x[i])\n",
        "  i+=1"
      ]
    },
    {
      "cell_type": "code",
      "execution_count": null,
      "metadata": {
        "colab": {
          "base_uri": "https://localhost:8080/"
        },
        "id": "Ai1wXHxJW9Bb",
        "outputId": "2c5a8356-03c1-4387-82d4-7a5e24135892"
      },
      "outputs": [
        {
          "output_type": "stream",
          "name": "stdout",
          "text": [
            "siu\n",
            "ssiiuu\n"
          ]
        }
      ],
      "source": [
        "x=input()\n",
        "y=\"\"\n",
        "for i in range(len(x)):\n",
        "  y=y+x[i]+x[i]\n",
        "print(y)\n"
      ]
    },
    {
      "cell_type": "code",
      "execution_count": null,
      "metadata": {
        "colab": {
          "base_uri": "https://localhost:8080/"
        },
        "id": "BsumAe8rYFJZ",
        "outputId": "75ec4ded-bb5c-4742-bbe6-4cfd1ace9e34"
      },
      "outputs": [
        {
          "name": "stdout",
          "output_type": "stream",
          "text": [
            "Programming\n",
            "P : 80\n",
            "r : 114\n",
            "o : 111\n",
            "g : 103\n",
            "r : 114\n",
            "a : 97\n",
            "m : 109\n",
            "m : 109\n",
            "i : 105\n",
            "n : 110\n",
            "g : 103\n"
          ]
        }
      ],
      "source": [
        "x=input()\n",
        "for i in range(len(x)):\n",
        "  print(x[i],\":\",ord(x[i]))"
      ]
    },
    {
      "cell_type": "code",
      "execution_count": null,
      "metadata": {
        "colab": {
          "base_uri": "https://localhost:8080/"
        },
        "id": "Z1MmVHoxkQ2Z",
        "outputId": "96ab03bd-42a6-4aec-b487-c15738d09560"
      },
      "outputs": [
        {
          "name": "stdout",
          "output_type": "stream",
          "text": [
            "abcd\n",
            "5\n",
            "fghi\n"
          ]
        }
      ],
      "source": [
        "#40 number e a er jonno c-1 kno\n",
        "a=input()\n",
        "c=int(input())\n",
        "b=\"\"\n",
        "for i in range(len(a)):\n",
        "  x=ord(a[i])\n",
        "  b=b+chr(x+c)\n",
        "print(b)"
      ]
    },
    {
      "cell_type": "code",
      "execution_count": null,
      "metadata": {
        "colab": {
          "base_uri": "https://localhost:8080/"
        },
        "id": "e6Xbl99_7iue",
        "outputId": "508ac228-9e2e-4aec-ccfc-f674e0c40ebc"
      },
      "outputs": [
        {
          "name": "stdout",
          "output_type": "stream",
          "text": [
            "a1b2c3d4\n",
            "abcd\n"
          ]
        }
      ],
      "source": [
        "x=input()\n",
        "z=\"\"\n",
        "for i in range(len(x)):\n",
        "  a=x[i]\n",
        "  if not \"1\"<=a<=\"9\":\n",
        "    z=z+a\n",
        "print(z)"
      ]
    },
    {
      "cell_type": "code",
      "execution_count": null,
      "metadata": {
        "colab": {
          "base_uri": "https://localhost:8080/"
        },
        "id": "jHmBOZs4--Pp",
        "outputId": "47a7a7a8-d5b1-42cc-8632-dc9adc171726"
      },
      "outputs": [
        {
          "name": "stdout",
          "output_type": "stream",
          "text": [
            "india\n",
            "pakistan\n",
            "ipnadkiiastan\n"
          ]
        }
      ],
      "source": [
        "#46\n",
        "x=input()\n",
        "y=input()\n",
        "choto=len(x)\n",
        "if len(y)<choto:\n",
        "  choto=len(y)\n",
        "a=\"\"\n",
        "for i in range(choto):\n",
        "  a=a+x[i]+y[i]\n",
        "a=a+x[choto::]+y[choto::]\n",
        "print(a)\n"
      ]
    },
    {
      "cell_type": "code",
      "execution_count": null,
      "metadata": {
        "colab": {
          "base_uri": "https://localhost:8080/"
        },
        "id": "j_RZGbCYoVPe",
        "outputId": "098378a7-dd95-4b00-fb6b-6fd1682e68e3"
      },
      "outputs": [
        {
          "name": "stdout",
          "output_type": "stream",
          "text": [
            "reverse\n",
            "order\n",
            "redroesrever\n"
          ]
        }
      ],
      "source": [
        "x=input()\n",
        "y=input()\n",
        "p=x[::-1]\n",
        "q=y[::-1]\n",
        "print(q+p)"
      ]
    },
    {
      "cell_type": "code",
      "execution_count": null,
      "metadata": {
        "colab": {
          "base_uri": "https://localhost:8080/"
        },
        "id": "BDi-5Tglrt4C",
        "outputId": "fd25c014-b353-4825-a0e3-55eb6a73acf5"
      },
      "outputs": [
        {
          "name": "stdout",
          "output_type": "stream",
          "text": [
            "abcd\n",
            "defg\n",
            "abc\n"
          ]
        }
      ],
      "source": [
        "x=input()\n",
        "y=input()\n",
        "p=\"\"\n",
        "for i in range(len(x)):\n",
        "  a=x[i]\n",
        "  if a not in y:\n",
        "    p=p+a\n",
        "print(p)"
      ]
    },
    {
      "cell_type": "code",
      "execution_count": null,
      "metadata": {
        "colab": {
          "base_uri": "https://localhost:8080/"
        },
        "id": "nk8St8xYtR8W",
        "outputId": "8d7faf69-bd0c-4223-d9b1-f80ac86a531f"
      },
      "outputs": [
        {
          "name": "stdout",
          "output_type": "stream",
          "text": [
            "this is a string\n",
            "this_is_a_string\n"
          ]
        }
      ],
      "source": [
        "x=input()\n",
        "y=\"\"\n",
        "for i in range(len(x)):\n",
        "  a=x[i]\n",
        "  if a==\" \":\n",
        "    y=y+\"_\"\n",
        "  else:\n",
        "    y=y+a\n",
        "print(y)\n"
      ]
    },
    {
      "cell_type": "code",
      "execution_count": null,
      "metadata": {
        "colab": {
          "base_uri": "https://localhost:8080/"
        },
        "id": "z9nEZiFEt1gu",
        "outputId": "53b8697d-7abc-4205-bbe7-248d7cb1b992"
      },
      "outputs": [
        {
          "name": "stdout",
          "output_type": "stream",
          "text": [
            "tanjiro kamado\n",
            "a\n",
            "tnjiro kmdo\n"
          ]
        }
      ],
      "source": [
        "x=input()\n",
        "y=input()\n",
        "z=\"\"\n",
        "for i in range(len(x)):\n",
        "  a=x[i]\n",
        "  if a!=y:\n",
        "    z=z+a\n",
        "print(z)"
      ]
    },
    {
      "cell_type": "code",
      "execution_count": null,
      "metadata": {
        "colab": {
          "base_uri": "https://localhost:8080/"
        },
        "id": "Ul0wBHdQvN6_",
        "outputId": "dc737138-bd10-4206-8176-a6f94c091ad0"
      },
      "outputs": [
        {
          "name": "stdout",
          "output_type": "stream",
          "text": [
            "Salam\n",
            "a\n",
            "u\n",
            "Sulum\n"
          ]
        }
      ],
      "source": [
        "x=input()\n",
        "y=input()\n",
        "z=input()\n",
        "p=\"\"\n",
        "for i in range(len(x)):\n",
        "  a=x[i]\n",
        "  if a==y:\n",
        "    p=p+z\n",
        "  else:\n",
        "    p=p+a\n",
        "print(p)"
      ]
    },
    {
      "cell_type": "code",
      "execution_count": null,
      "metadata": {
        "colab": {
          "base_uri": "https://localhost:8080/"
        },
        "id": "W3ureIUtZqt3",
        "outputId": "1a6d0a62-f834-4648-d2f3-9cb0f32cd1d9"
      },
      "outputs": [
        {
          "output_type": "stream",
          "name": "stdout",
          "text": [
            "bangladesh\n",
            "hangladesb\n"
          ]
        }
      ],
      "source": [
        "x=input()\n",
        "a=x[-1]+x[1:len(x)-1]+x[0]\n",
        "print(a)"
      ]
    },
    {
      "cell_type": "code",
      "execution_count": null,
      "metadata": {
        "colab": {
          "base_uri": "https://localhost:8080/"
        },
        "id": "ZG3HSJyOhAxp",
        "outputId": "69175232-4244-48c0-b1a1-45d03ac81a5f"
      },
      "outputs": [
        {
          "name": "stdout",
          "output_type": "stream",
          "text": [
            "This_is_a_string\n",
            "_\n",
            "This\n",
            "is\n",
            "a\n",
            "string"
          ]
        }
      ],
      "source": [
        "x=input()\n",
        "y=input()\n",
        "for i in range(len(x)):\n",
        "  a=x[i]\n",
        "  if a!=y:\n",
        "    print(a,end=\"\")\n",
        "  else:\n",
        "    print()\n"
      ]
    },
    {
      "cell_type": "code",
      "execution_count": null,
      "metadata": {
        "colab": {
          "base_uri": "https://localhost:8080/"
        },
        "id": "i8VQcaJZrPIw",
        "outputId": "637c5516-5a93-46a6-c904-ad1f6eb93644"
      },
      "outputs": [
        {
          "name": "stdout",
          "output_type": "stream",
          "text": [
            "This is a sentence\n",
            "This\n",
            "is\n",
            "a\n",
            "sentence"
          ]
        }
      ],
      "source": [
        "x=input()\n",
        "for i in x:\n",
        "  if \"a\"<=i<=\"z\" or \"A\"<=i<=\"Z\":\n",
        "    print(i,end=\"\")\n",
        "  else:\n",
        "    print()"
      ]
    },
    {
      "cell_type": "markdown",
      "metadata": {
        "id": "qOeED130w1kf"
      },
      "source": [
        "56 57 58 parina"
      ]
    },
    {
      "cell_type": "code",
      "execution_count": null,
      "metadata": {
        "colab": {
          "base_uri": "https://localhost:8080/"
        },
        "id": "vHg67sWLu5Zz",
        "outputId": "76618295-e9e5-4845-88ee-ba9eaf49557b"
      },
      "outputs": [
        {
          "name": "stdout",
          "output_type": "stream",
          "text": [
            "Python programming is very easy\n",
            "PyThOn PrOgRaMmInG iS vErY eAsY\n"
          ]
        }
      ],
      "source": [
        "x=input()\n",
        "z=\"\"\n",
        "j=0\n",
        "for i in range(len(x)):\n",
        "  a=x[i]\n",
        "  if a!=\" \":\n",
        "    if j%2==0:\n",
        "      if \"a\"<=a<=\"z\":\n",
        "        z=z+chr(ord(a)-32)\n",
        "        j+=1\n",
        "      else:\n",
        "        z=z+a\n",
        "        j+=1\n",
        "    else:\n",
        "      if \"A\"<=a<=\"Z\":\n",
        "        z=z+chr(ord(a)+32)\n",
        "        j+=1\n",
        "      else:\n",
        "        z=z+a\n",
        "        j+=1\n",
        "  else:\n",
        "      z=z+\" \"\n",
        "print(z)\n"
      ]
    },
    {
      "cell_type": "code",
      "execution_count": null,
      "metadata": {
        "colab": {
          "base_uri": "https://localhost:8080/"
        },
        "id": "-kPetjcV3ImI",
        "outputId": "8fbf9b97-4bb5-4da5-d5cd-21c7f9f69c0b"
      },
      "outputs": [
        {
          "name": "stdout",
          "output_type": "stream",
          "text": [
            "this is a string\n",
            "3\n",
            "this is a string this is a string this is a string this is a string this is a string this is a string this is a string this is a string this is a string this is a string this is a string this is a string this is a string this is a string this is a string this is a string this is a string this is a string this is a string this is a string this is a string this is a string this is a string this is a string this is a string this is a string this is a string this is a string this is a string this is a string this is a string this is a string \n"
          ]
        }
      ],
      "source": [
        "#parina space kothai chacche #64 65 teo\n",
        "x=input()\n",
        "y=int(input())\n",
        "z=\"\"\n",
        "for i in range(len(x)):\n",
        "  a=x[i]\n",
        "  if y%2==0:\n",
        "     #z=z+x*y+\" \" vul?\n",
        "     z=z+(x+\" \")*y\n",
        "  else:\n",
        "    z=z+(x+\" \")*2\n",
        "print(z)"
      ]
    },
    {
      "cell_type": "code",
      "execution_count": null,
      "metadata": {
        "colab": {
          "base_uri": "https://localhost:8080/"
        },
        "id": "hafDfS7Ilh9B",
        "outputId": "23fe56ad-1fc1-4f98-9f21-2de969b5bcba"
      },
      "outputs": [
        {
          "name": "stdout",
          "output_type": "stream",
          "text": [
            "4\n",
            "34\n"
          ]
        }
      ],
      "source": [
        "number=2\n",
        "increment=3\n",
        "sum=0\n",
        "count=1\n",
        "n=int(input())\n",
        "while count<=n:\n",
        "  sum=sum+number\n",
        "  number=number+increment\n",
        "  increment+=2\n",
        "  count+=1\n",
        "print(sum)"
      ]
    },
    {
      "cell_type": "markdown",
      "metadata": {
        "id": "krxH2KGyZoJj"
      },
      "source": [
        "FUNCTION"
      ]
    },
    {
      "cell_type": "code",
      "execution_count": null,
      "metadata": {
        "colab": {
          "base_uri": "https://localhost:8080/"
        },
        "id": "LtfMiJwKZuoJ",
        "outputId": "dba3d3d7-2efc-43fd-da01-fde2e5c92807"
      },
      "outputs": [
        {
          "name": "stdout",
          "output_type": "stream",
          "text": [
            "Odd!!\n",
            "Even!!\n"
          ]
        }
      ],
      "source": [
        "#task 1\n",
        "def even_checker(number):\n",
        "  if number%2==0:\n",
        "    print(\"Even!!\")\n",
        "  else:\n",
        "    print(\"Odd!!\")\n",
        "even_checker(5)\n",
        "even_checker(2)"
      ]
    },
    {
      "cell_type": "code",
      "source": [
        "def fibonacci(limit):\n",
        "  n0=0\n",
        "  n1=1\n",
        "  while n0<=limit:\n",
        "    print(n0,end=\" \")\n",
        "    temp=n0\n",
        "    n0=n1\n",
        "    n1=temp+n1\n",
        "fibonacci(10)"
      ],
      "metadata": {
        "colab": {
          "base_uri": "https://localhost:8080/"
        },
        "id": "cGbIUNMtmQYd",
        "outputId": "6a106d2d-4270-4972-e43f-d79955a972fc"
      },
      "execution_count": null,
      "outputs": [
        {
          "output_type": "stream",
          "name": "stdout",
          "text": [
            "0 1 1 2 3 5 8 "
          ]
        }
      ]
    },
    {
      "cell_type": "code",
      "execution_count": null,
      "metadata": {
        "colab": {
          "base_uri": "https://localhost:8080/"
        },
        "id": "pdHx-ozPaYJr",
        "outputId": "0ab671e5-1c11-45c8-8c47-8378fb5671c8"
      },
      "outputs": [
        {
          "name": "stdout",
          "output_type": "stream",
          "text": [
            "FooMoo\n",
            "Foo\n",
            "Moo\n",
            "Boo\n"
          ]
        }
      ],
      "source": [
        "#task 3\n",
        "def foo_moo(number):\n",
        "  A=\"\"\n",
        "  if number%2==0 and number%3==0:\n",
        "    return \"FooMoo\"\n",
        "  elif number%2==0:\n",
        "    return \"Foo\"\n",
        "  elif number%3==0:\n",
        "    return \"Moo\"\n",
        "  else:\n",
        "    return \"Boo\"\n",
        "print(foo_moo(6))\n",
        "print(foo_moo(2))\n",
        "print(foo_moo(9))\n",
        "print(foo_moo(5))"
      ]
    },
    {
      "cell_type": "code",
      "execution_count": null,
      "metadata": {
        "colab": {
          "base_uri": "https://localhost:8080/"
        },
        "id": "o-dwAERK-CqJ",
        "outputId": "5ce02cee-a71d-45c9-c19d-881422e49938"
      },
      "outputs": [
        {
          "name": "stdout",
          "output_type": "stream",
          "text": [
            "No. of Uppercase characters : 3\n",
            "No. of Lowercase Characters:  12\n",
            "\n",
            "No. of Uppercase characters : 5\n",
            "No. of Lowercase Characters:  6\n"
          ]
        }
      ],
      "source": [
        "#Task4\n",
        "def function_name(string):\n",
        "  count1=0\n",
        "  count2=0\n",
        "  for i in range (len(string)):\n",
        "    if \"A\"<=string[i]<=\"Z\":\n",
        "       count1+=1\n",
        "    elif \"a\"<=string[i]<=\"z\":\n",
        "      count2+=1\n",
        "  print(\"No. of Uppercase characters :\",count1)\n",
        "  print(\"No. of Lowercase Characters: \",count2)\n",
        "function_name('The quick Sand Man')\n",
        "print()\n",
        "function_name('HaRRy PotteR')\n"
      ]
    },
    {
      "cell_type": "code",
      "execution_count": null,
      "metadata": {
        "colab": {
          "base_uri": "https://localhost:8080/"
        },
        "id": "HcDxjS1JDz14",
        "outputId": "52a08510-1d62-4708-a5bf-f45185fddb65"
      },
      "outputs": [
        {
          "output_type": "stream",
          "name": "stdout",
          "text": [
            "Age:20\n",
            "Salary:20000\n",
            "Designation:president\n",
            "0\n"
          ]
        }
      ],
      "source": [
        "#task 5\n",
        "x=int(input(\"Age:\"))\n",
        "y=int(input(\"Salary:\"))\n",
        "z=input(\"Designation:\")\n",
        "def calculate_tax(age,salary,designation):\n",
        "  if x<18  or y<10000 or z==\"president\" or z==\"President\" :\n",
        "    tax= 0\n",
        "  elif 10000<=y<=20000:\n",
        "    tax=y*(5/100)\n",
        "  elif y>20000:\n",
        "    tax= y*(10/100)\n",
        "  return tax\n",
        "print(calculate_tax(x,y,z))"
      ]
    },
    {
      "cell_type": "code",
      "execution_count": null,
      "metadata": {
        "id": "9c7LTDpgZFr3",
        "colab": {
          "base_uri": "https://localhost:8080/"
        },
        "outputId": "c9a4e285-686c-4d26-e392-1f2409a6bdf5"
      },
      "outputs": [
        {
          "output_type": "stream",
          "name": "stdout",
          "text": [
            "4330\n",
            "11 years , 10 months and 15 days\n"
          ]
        }
      ],
      "source": [
        "#task6\n",
        "x=int(input())\n",
        "def function_name(number):\n",
        "  year=x//365\n",
        "  a=x%365\n",
        "  month=a//30\n",
        "  b=a%30\n",
        "  print(year,\"years\", \",\",month,\"months\",\"and\",b,\"days\")\n",
        "function_name(x)"
      ]
    },
    {
      "cell_type": "code",
      "execution_count": null,
      "metadata": {
        "colab": {
          "base_uri": "https://localhost:8080/"
        },
        "id": "vfmu3mNbb2zi",
        "outputId": "8402c52b-1f9f-4689-d364-261c2890a403"
      },
      "outputs": [
        {
          "output_type": "stream",
          "name": "stdout",
          "text": [
            "123454321\n"
          ]
        }
      ],
      "source": [
        "#task7\n",
        "def show_palindrome(number):\n",
        "  a=str(number)\n",
        "  for i in range(number-1,0,-1):\n",
        "    a=str(i)+a+str(i)\n",
        "  return a\n",
        "print(show_palindrome(5))"
      ]
    },
    {
      "cell_type": "code",
      "source": [
        "a=str(5)\n",
        "for i in range(5-1,0,-1):   #reverse er somoi -1 mention korbo\n",
        "    a=str(i)+a+str(i)\n",
        "print(a)"
      ],
      "metadata": {
        "colab": {
          "base_uri": "https://localhost:8080/"
        },
        "id": "lXQgPbmVKnHG",
        "outputId": "b695ef0d-bb29-4643-afc9-940e5e8616ba"
      },
      "execution_count": null,
      "outputs": [
        {
          "output_type": "stream",
          "name": "stdout",
          "text": [
            "123454321\n"
          ]
        }
      ]
    },
    {
      "cell_type": "code",
      "source": [
        "#task 8\n",
        "def show_palindrome_triangle(number):\n",
        "  for i in range(1,number+1):\n",
        "    space=(2*(number-i))\n",
        "    print(\" \" *space, end=\" \")\n",
        "    print(show_palindrome(i))\n",
        "show_palindrome_triangle(5)"
      ],
      "metadata": {
        "colab": {
          "base_uri": "https://localhost:8080/"
        },
        "id": "I1Dbmh6JrSQ0",
        "outputId": "8e88ad16-35d0-4418-ae97-d952e89a1502"
      },
      "execution_count": null,
      "outputs": [
        {
          "output_type": "stream",
          "name": "stdout",
          "text": [
            "         1\n",
            "       121\n",
            "     12321\n",
            "   1234321\n",
            " 123454321\n"
          ]
        }
      ]
    },
    {
      "cell_type": "code",
      "source": [
        "def show_palindromic_triangle(n):\n",
        "    for i in range(1,n+1):\n",
        "        space=\" \"*(2*(n-i))\n",
        "        print(space,end=\"\")\n",
        "        print(show_palindrome(i))\n",
        "show_palindromic_triangle(5)"
      ],
      "metadata": {
        "colab": {
          "base_uri": "https://localhost:8080/"
        },
        "id": "kmVXJShuNJdj",
        "outputId": "42f5d7c6-031a-47d4-cc7d-a840f3fb934d"
      },
      "execution_count": null,
      "outputs": [
        {
          "output_type": "stream",
          "name": "stdout",
          "text": [
            "        1\n",
            "      121\n",
            "    12321\n",
            "  1234321\n",
            "123454321\n"
          ]
        }
      ]
    },
    {
      "cell_type": "code",
      "source": [
        "#task12 count chara kivbe kora jai?\n",
        "def function_name(a_list):\n",
        "  new_list=[]\n",
        "  for i in range(len(a_list)):\n",
        "     if new_list.count(a_list[i])<2:\n",
        "       new_list.append(a_list[i])\n",
        "  return new_list\n",
        "function_name([1,2,3,3,3,3,4,5,8,8,])"
      ],
      "metadata": {
        "colab": {
          "base_uri": "https://localhost:8080/"
        },
        "id": "NVg7x0oxKRHO",
        "outputId": "ee8189c1-aece-439a-f567-34e57c8b814e"
      },
      "execution_count": null,
      "outputs": [
        {
          "output_type": "execute_result",
          "data": {
            "text/plain": [
              "[1, 2, 3, 3, 4, 5, 8, 8]"
            ]
          },
          "metadata": {},
          "execution_count": 23
        }
      ]
    },
    {
      "cell_type": "code",
      "source": [
        "def function_name(a_list):\n",
        "  new_list=[]\n",
        "  for i in range(len(a_list)):\n",
        "    c=0\n",
        "    for j in range(i+1,len(a_list)):\n",
        "        if a_list[i]==a_list[j]:\n",
        "            c+=1\n",
        "    if c<2:\n",
        "       new_list.append(a_list[i])\n",
        "  return new_list\n",
        "function_name([1,2,3,3,3,3,3,4,5,8,8,])"
      ],
      "metadata": {
        "colab": {
          "base_uri": "https://localhost:8080/"
        },
        "id": "GhVGnS8QVMpy",
        "outputId": "51f69464-aad9-40f9-8c70-6d7dcf5fd356"
      },
      "execution_count": null,
      "outputs": [
        {
          "output_type": "execute_result",
          "data": {
            "text/plain": [
              "[1, 2, 3, 3, 4, 5, 8, 8]"
            ]
          },
          "metadata": {},
          "execution_count": 37
        }
      ]
    },
    {
      "cell_type": "code",
      "source": [
        "#task 13 input e eki sathe integer r float thkle float nibo\n",
        "x=input()\n",
        "y=float(input())\n",
        "z=float(input())\n",
        "\n",
        "def function_name(a,b,c):\n",
        "  if x==\"+\":\n",
        "    result=y+z\n",
        "  elif x==\"-\":\n",
        "    result=y-z\n",
        "  elif x==\"/\":\n",
        "    result=y/z\n",
        "  elif x==\"*\":\n",
        "   result=y*z\n",
        "  return result\n",
        "\n",
        "print(function_name(x,y,z))\n"
      ],
      "metadata": {
        "colab": {
          "base_uri": "https://localhost:8080/"
        },
        "id": "KgsAoHRP4ryo",
        "outputId": "3d33e0e3-8162-4097-9a04-02905e119deb"
      },
      "execution_count": null,
      "outputs": [
        {
          "output_type": "stream",
          "name": "stdout",
          "text": [
            "+\n",
            "10\n",
            "20\n",
            "30.0\n"
          ]
        }
      ]
    },
    {
      "cell_type": "code",
      "source": [
        "#task 14\n",
        "x=input()\n",
        "y=int(input())\n",
        "def function_name(string,position):\n",
        "  new_string=x[0]\n",
        "  new=\"\"\n",
        "  for i in range(1,len(x)):\n",
        "    if i%y!=0:\n",
        "      new_string+=x[i]\n",
        "    else:\n",
        "      new+=x[i]\n",
        "  return new_string+new\n",
        "print(function_name(x,y))"
      ],
      "metadata": {
        "colab": {
          "base_uri": "https://localhost:8080/"
        },
        "id": "FfvR38iFAKKC",
        "outputId": "8960187c-ef01-4d15-96e9-653d566d6a29"
      },
      "execution_count": null,
      "outputs": [
        {
          "output_type": "stream",
          "name": "stdout",
          "text": [
            "I love programming.\n",
            "3\n",
            "I lveprgrmmngo oai.\n"
          ]
        }
      ]
    },
    {
      "cell_type": "code",
      "source": [
        "#sum of n integers\n",
        "n=int(input())\n",
        "def recursive_summation(i,N):\n",
        "  if i==N:\n",
        "    return 1\n",
        "  else:\n",
        "    return N+recursive_summation(1,N-1)\n",
        "print(recursive_summation(1,n))\n"
      ],
      "metadata": {
        "colab": {
          "base_uri": "https://localhost:8080/"
        },
        "id": "vIKgzw8kCwaj",
        "outputId": "2272ee0c-4682-4e8c-ba11-cb9083f602c7"
      },
      "execution_count": null,
      "outputs": [
        {
          "output_type": "stream",
          "name": "stdout",
          "text": [
            "5\n",
            "15\n"
          ]
        }
      ]
    },
    {
      "cell_type": "code",
      "source": [
        "#Task16\n",
        "x=int(input())\n",
        "def splitting_money(amount):\n",
        "  a=x//500\n",
        "  b=x%500\n",
        "  c=b//100\n",
        "  d=b%100\n",
        "  e=d//50\n",
        "  f=d%50\n",
        "  g=f//20\n",
        "  h=f%20\n",
        "  i=h//10\n",
        "  j=h%10\n",
        "  k=j//5\n",
        "  l=j%5\n",
        "  m=l//2\n",
        "  n=l%2\n",
        "  string=f'500 Taka: {a} note(s)' f\"100 Taka: {c} note(s)\" f\"50 Taka: {e} note(s)\" f\"20 Taka: {g} note(s)\" f\"10 Taka: {i} note(s)\" f\"5 Taka: {k} notes\" f\"2 Taka: {m} note(s)\" f\"1 Taka: {n} note(s)\"\n",
        "  return string\n",
        "print(splitting_money(x),end=\"\\n\")\n"
      ],
      "metadata": {
        "colab": {
          "base_uri": "https://localhost:8080/"
        },
        "id": "a_xzfLOXGMdp",
        "outputId": "14f39aa4-5ffe-4d64-aca8-ea8b5a171929"
      },
      "execution_count": null,
      "outputs": [
        {
          "output_type": "stream",
          "name": "stdout",
          "text": [
            "1234\n",
            "500 Taka: 2 note(s)100 Taka: 2 note(s)50 Taka: 0 note(s)20 Taka: 1 note(s)10 Taka: 1 note(s)5 Taka: 0 notes2 Taka: 2 note(s)1 Taka: 0 note(s)\n"
          ]
        }
      ]
    },
    {
      "cell_type": "code",
      "source": [
        "#Task 17\n",
        "def remove_odd(a_list):\n",
        "  compact_list=[]\n",
        "  for i in range(len(a_list)):\n",
        "    if a_list[i]%2==0:\n",
        "      compact_list.append(a_list[i])\n",
        "  return compact_list\n",
        "remove_odd([21,33,44,66,11,1,88,45,10,9])"
      ],
      "metadata": {
        "id": "kvux8_uHz6L_",
        "colab": {
          "base_uri": "https://localhost:8080/"
        },
        "outputId": "7f4affc1-8801-4365-b5ce-aa339caf3bf8"
      },
      "execution_count": null,
      "outputs": [
        {
          "output_type": "execute_result",
          "data": {
            "text/plain": [
              "[44, 66, 88, 10]"
            ]
          },
          "metadata": {},
          "execution_count": 35
        }
      ]
    },
    {
      "cell_type": "code",
      "source": [
        "#task 18\n",
        "x=int(input())\n",
        "y=int(input())\n",
        "p=int(input())\n",
        "q=int(input())\n",
        "def function_name(a,b,c,d):\n",
        "  sum=0\n",
        "  for i in range(x,y):\n",
        "    if (i%p==0 or i%q==0) and not (i%p==0 and i%q==0):\n",
        "      sum=sum+i\n",
        "  return sum\n",
        "print(function_name(x,y,p,q))"
      ],
      "metadata": {
        "colab": {
          "base_uri": "https://localhost:8080/"
        },
        "id": "2yIf8O84KNhX",
        "outputId": "ee8b2cc7-214f-4264-c0be-321cca75c57a"
      },
      "execution_count": null,
      "outputs": [
        {
          "output_type": "stream",
          "name": "stdout",
          "text": [
            "5\n",
            "100\n",
            "3\n",
            "4\n",
            "2012\n"
          ]
        }
      ]
    },
    {
      "cell_type": "code",
      "source": [
        "#19\n",
        "x=input()\n",
        "def function_name(a_string):\n",
        "  all=True\n",
        "  for i in range(65,75):\n",
        "    if chr(i) not in x and chr(i+32) not in x:\n",
        "      all=False\n",
        "  if all==True:\n",
        "    result=5\n",
        "  else:\n",
        "    result=6\n",
        "  return result\n",
        "function_name(x)\n",
        "print( \"PSG will win the Champions League this season\\n\"*function_name(x))\n"
      ],
      "metadata": {
        "id": "jDtBgELMM3aK",
        "colab": {
          "base_uri": "https://localhost:8080/"
        },
        "outputId": "403f82ea-c926-486f-f12c-124945cd6410"
      },
      "execution_count": null,
      "outputs": [
        {
          "output_type": "stream",
          "name": "stdout",
          "text": [
            "abcdefghj\n",
            "PSG will win the Champions League this season\n",
            "PSG will win the Champions League this season\n",
            "PSG will win the Champions League this season\n",
            "PSG will win the Champions League this season\n",
            "PSG will win the Champions League this season\n",
            "PSG will win the Champions League this season\n",
            "\n"
          ]
        }
      ]
    },
    {
      "cell_type": "code",
      "source": [
        "def f(a):\n",
        "    b=\"\"\n",
        "    for i in a:\n",
        "        if \"A\"<=i<=\"Z\":\n",
        "            c=chr(ord(i)+32)\n",
        "            b+=c\n",
        "        else:\n",
        "            b+=i\n",
        "    print(b)\n",
        "    c=0\n",
        "    for i in range(ord(\"a\"),(ord(\"j\")+1)):\n",
        "        if chr(i) in b:\n",
        "            c+=1\n",
        "    if c==10:\n",
        "        result=5\n",
        "    else:\n",
        "        result=6\n",
        "    return result\n",
        "p=input()\n",
        "print(\"PSG will win the Champions League this season\\n\"*f(p))"
      ],
      "metadata": {
        "colab": {
          "base_uri": "https://localhost:8080/"
        },
        "id": "mq3iz-gBwli9",
        "outputId": "1aedbd03-a14f-4e9d-a588-1f3cd669fa27"
      },
      "execution_count": null,
      "outputs": [
        {
          "output_type": "stream",
          "name": "stdout",
          "text": [
            "A black jackal is huntinG a fUll groWn Deer\n",
            "a black jackal is hunting a full grown deer\n",
            "PSG will win the Champions League this season\n",
            "PSG will win the Champions League this season\n",
            "PSG will win the Champions League this season\n",
            "PSG will win the Champions League this season\n",
            "PSG will win the Champions League this season\n",
            "\n"
          ]
        }
      ]
    },
    {
      "cell_type": "code",
      "source": [
        "#task 20\n",
        "def individul_bonus_calculation(a,b,c,d):\n",
        "  if c>30:\n",
        "    bonus=int(c*(d/100*b)+10000)\n",
        "    x=f'{a} earned a bonus of {bonus} Taka for {c} goals'\n",
        "  elif 20<=c<=30:\n",
        "    bonus=int(c*(d/100*b)+5000)\n",
        "    x= f'{a} earned a bonus of {bonus} Taka for {c} goals'\n",
        "  else:\n",
        "    bonus=int(c*(d/100*b)+0)\n",
        "    x=f'{a} earned a bonus of {bonus}Taka for {c} goals'\n",
        "  return x\n",
        "print(individul_bonus_calculation(\"Luis\",80000,25,10))"
      ],
      "metadata": {
        "colab": {
          "base_uri": "https://localhost:8080/"
        },
        "id": "zSwGuv-f2-Ls",
        "outputId": "6463473d-14ce-4d57-966f-19a957f2534b"
      },
      "execution_count": null,
      "outputs": [
        {
          "output_type": "stream",
          "name": "stdout",
          "text": [
            "Luis earned a bonus of 205000 Taka for 25 goals\n"
          ]
        }
      ]
    },
    {
      "cell_type": "code",
      "source": [
        "#task 21\n",
        "def call_bonus(*args):\n",
        "  print(individul_bonus_calculation(*args))\n",
        "call_bonus(\"Neymar\",1200000,35,5)\n"
      ],
      "metadata": {
        "id": "IBtrr8jkQlZm",
        "colab": {
          "base_uri": "https://localhost:8080/"
        },
        "outputId": "06c1b47f-45ed-4f70-9b1b-4720a021c760"
      },
      "execution_count": null,
      "outputs": [
        {
          "output_type": "stream",
          "name": "stdout",
          "text": [
            "Neymar earned a bonus of 2110000 Taka for 35 goals\n"
          ]
        }
      ]
    },
    {
      "cell_type": "markdown",
      "source": [
        "Function Practice Problems"
      ],
      "metadata": {
        "id": "dPQADZY5TZcY"
      }
    },
    {
      "cell_type": "code",
      "source": [
        "def function_name(x):\n",
        "  new_list=[]\n",
        "  for i in range(len(x)):\n",
        "    a=ord(x[i])\n",
        "    new_list.append(str(a)+x[i]+str(a))\n",
        "  return new_list\n",
        "print(function_name(\"pythonbook\"))\n",
        "\n"
      ],
      "metadata": {
        "colab": {
          "base_uri": "https://localhost:8080/"
        },
        "id": "1YcTpywQS92U",
        "outputId": "dcfebf29-574a-489e-b278-5f334b31366f"
      },
      "execution_count": null,
      "outputs": [
        {
          "output_type": "stream",
          "name": "stdout",
          "text": [
            "['112p112', '121y121', '116t116', '104h104', '111o111', '110n110', '98b98', '111o111', '111o111', '107k107']\n"
          ]
        }
      ]
    },
    {
      "cell_type": "code",
      "source": [
        "#5\n",
        "matrix_A = [ [1,5], [-4,3]]\n",
        "matrix_B = [ [2,-1] , [4,-1] ]\n",
        "lst=[]\n",
        "for i in range(len(matrix_A)):\n",
        "    lt=[]\n",
        "    for j in range(0,len(matrix_B)):\n",
        "        a=matrix_A[i][j]+matrix_B[i][j]\n",
        "        lt.append(a)\n",
        "    lst.append(lt)\n",
        "print(lst)\n"
      ],
      "metadata": {
        "id": "ISs3kLDrGcmC",
        "colab": {
          "base_uri": "https://localhost:8080/"
        },
        "outputId": "1132e1b3-3011-4ea4-b54d-44836eebb88f"
      },
      "execution_count": null,
      "outputs": [
        {
          "output_type": "stream",
          "name": "stdout",
          "text": [
            "[[3, 4], [0, 2]]\n"
          ]
        }
      ]
    },
    {
      "cell_type": "code",
      "source": [
        "matrix_A = [ [1,5], [-4,3]]\n",
        "print(matrix_A[0][1])"
      ],
      "metadata": {
        "colab": {
          "base_uri": "https://localhost:8080/"
        },
        "id": "AdMIWUQpHwsg",
        "outputId": "52c2bac2-c045-473c-fad7-dd63b1d5acbd"
      },
      "execution_count": null,
      "outputs": [
        {
          "output_type": "stream",
          "name": "stdout",
          "text": [
            "5\n"
          ]
        }
      ]
    },
    {
      "cell_type": "code",
      "source": [
        "matrix= [[1, 2, 3, 4], [4, 5, 6, 7], [7, 8, 9, 3], [9, 1, 2, 3]]\n",
        "def print_matrix_list(a):\n",
        "    for i in range(len(a)):\n",
        "        x=a[i]\n",
        "        for j in range(len(x)):\n",
        "            print(x[j],end=\" \")\n",
        "        print()\n",
        "print_matrix_list(matrix)\n"
      ],
      "metadata": {
        "colab": {
          "base_uri": "https://localhost:8080/"
        },
        "id": "TsF_NNkKIvNi",
        "outputId": "a2ed9c94-ed25-4c27-f9b3-c6b9b4e9d3ed"
      },
      "execution_count": null,
      "outputs": [
        {
          "output_type": "stream",
          "name": "stdout",
          "text": [
            "1 2 3 4 \n",
            "4 5 6 7 \n",
            "7 8 9 3 \n",
            "9 1 2 3 \n"
          ]
        }
      ]
    },
    {
      "cell_type": "code",
      "source": [
        "matrix= [[1, 2, 3, 4], [4, 5, 6, 7], [7, 8, 9, 3], [9, 1, 2, 3]]\n",
        "for i in range(len(matrix)):\n",
        "    for j in range(len(matrix)):\n",
        "        print(matrix[i][j],end=\" \")\n",
        "    print()\n"
      ],
      "metadata": {
        "colab": {
          "base_uri": "https://localhost:8080/"
        },
        "id": "aOdzt8xDE2D3",
        "outputId": "9683a4f1-856e-469e-f30b-7489f456120e"
      },
      "execution_count": null,
      "outputs": [
        {
          "output_type": "stream",
          "name": "stdout",
          "text": [
            "1 2 3 4 \n",
            "4 5 6 7 \n",
            "7 8 9 3 \n",
            "9 1 2 3 \n"
          ]
        }
      ]
    },
    {
      "cell_type": "markdown",
      "source": [
        " LIST"
      ],
      "metadata": {
        "id": "jsB4NQWoQ32O"
      }
    },
    {
      "cell_type": "code",
      "source": [
        "#a_list=['Rajshahi', 'Chittagong', 'Sylhet', 'Khulna']\n",
        "#a_list[2].append(\"Dhaka\")                #evabe hoi na\n",
        "#print(a_list)"
      ],
      "metadata": {
        "id": "RcAPIbwySORT"
      },
      "execution_count": null,
      "outputs": []
    },
    {
      "cell_type": "code",
      "source": [
        "#Task1\n",
        "a_list=[]\n",
        "for i in range(5):\n",
        "  n=int(input())\n",
        "  a_list.append(n)\n",
        "  print(\"Numbers in the list:\", a_list)\n"
      ],
      "metadata": {
        "id": "uH-tKxqSQ2eu",
        "colab": {
          "base_uri": "https://localhost:8080/"
        },
        "outputId": "0bce67ee-841a-4a60-895f-348cb1849cb0"
      },
      "execution_count": null,
      "outputs": [
        {
          "output_type": "stream",
          "name": "stdout",
          "text": [
            "1\n",
            "Numbers in the list: [1]\n",
            "2\n",
            "Numbers in the list: [1, 2]\n",
            "3\n",
            "Numbers in the list: [1, 2, 3]\n",
            "4\n",
            "Numbers in the list: [1, 2, 3, 4]\n",
            "5\n",
            "Numbers in the list: [1, 2, 3, 4, 5]\n"
          ]
        }
      ]
    },
    {
      "cell_type": "code",
      "source": [
        "#Task2\n",
        "x=input()\n",
        "s=x+\",\"\n",
        "emp=\"\"\n",
        "a_list=[]\n",
        "for i in range(len(s)):\n",
        "  a=s[i]\n",
        "  if a!=\",\" and a!=\" \":\n",
        "    emp+=a\n",
        "  elif a==\",\":\n",
        "    b=int(emp)\n",
        "    a_list.append(b)\n",
        "    emp=\"\"\n",
        "new_list=[]\n",
        "if len(a_list)<4:\n",
        "  print(\"Not possible\")\n",
        "else:                                             #len takes time to compute large list\n",
        "    new_list=a_list[2:len(a_list)-2] #len(x)-2 na die manually number dile shb khetre  jst last 2 ta bad dibe na\n",
        "    print(new_list)                         #3 ta bad dile -3\n"
      ],
      "metadata": {
        "id": "zpZsS14ZOEd1",
        "colab": {
          "base_uri": "https://localhost:8080/"
        },
        "outputId": "9508df11-0cd4-4c9e-e651-24a592eebe01"
      },
      "execution_count": null,
      "outputs": [
        {
          "output_type": "stream",
          "name": "stdout",
          "text": [
            "10, 20, 24\n",
            "Not possible\n"
          ]
        }
      ]
    },
    {
      "cell_type": "code",
      "source": [
        "#Task3\n",
        "a_list=[]\n",
        "for i in range(5):\n",
        "  n=int(input())\n",
        "  a_list.append(n)\n",
        "#new_list=a_list[-1: :-1]\n",
        "print(\"Printing values from the list in reverse order:\")\n",
        "for j in range(-1,-len(a_list)-1,-1):\n",
        "  print(a_list[j])"
      ],
      "metadata": {
        "id": "ouqGSAWJLtX9",
        "colab": {
          "base_uri": "https://localhost:8080/"
        },
        "outputId": "08bc121b-d561-4139-d4e3-f96f99b71d27"
      },
      "execution_count": null,
      "outputs": [
        {
          "output_type": "stream",
          "name": "stdout",
          "text": [
            "5\n",
            "-5\n",
            "100\n",
            "1\n",
            "0\n",
            "Printing values from the list in reverse order:\n",
            "0\n",
            "1\n",
            "100\n",
            "-5\n",
            "5\n"
          ]
        }
      ]
    },
    {
      "cell_type": "code",
      "source": [
        "#Task4\n",
        "a_list=[3, 5 ,1 ,6]\n",
        "new_list=[]\n",
        "for i in range(len(a_list)):            #new list e rakha jbe\n",
        "  new_list.append(a_list[i]**2)\n",
        "print(new_list)"
      ],
      "metadata": {
        "colab": {
          "base_uri": "https://localhost:8080/"
        },
        "id": "4gJ5WbgHXoZh",
        "outputId": "da880cca-0d4b-4637-8274-2dd7cca5a2f7"
      },
      "execution_count": null,
      "outputs": [
        {
          "output_type": "stream",
          "name": "stdout",
          "text": [
            "[9, 25, 1, 36]\n"
          ]
        }
      ]
    },
    {
      "cell_type": "code",
      "source": [
        "a_list=[3, 5 ,1, 6]\n",
        "for i in range(len(a_list)):\n",
        "  a_list[i]=a_list[i]**2                 #  input list ei change korbo\n",
        "print(a_list)"
      ],
      "metadata": {
        "colab": {
          "base_uri": "https://localhost:8080/"
        },
        "id": "yMBAoJj9YiMO",
        "outputId": "1d4db873-6715-4268-9672-3373144be9d8"
      },
      "execution_count": null,
      "outputs": [
        {
          "output_type": "stream",
          "name": "stdout",
          "text": [
            "[9, 25, 1, 36]\n"
          ]
        }
      ]
    },
    {
      "cell_type": "code",
      "source": [
        "a_list=[1,2,3,4,5,6,7]\n",
        "b_list=[1,2,3,4,5,6,7]\n",
        "a_list.append(b_list)\n",
        "print(a_list)"
      ],
      "metadata": {
        "colab": {
          "base_uri": "https://localhost:8080/"
        },
        "id": "xUYERkg3dMOt",
        "outputId": "a5d573ae-40c0-4a0a-861b-793ec87bcbe8"
      },
      "execution_count": null,
      "outputs": [
        {
          "output_type": "stream",
          "name": "stdout",
          "text": [
            "[1, 2, 3, 4, 5, 6, 7, [1, 2, 3, 4, 5, 6, 7]]\n"
          ]
        }
      ]
    },
    {
      "cell_type": "code",
      "source": [
        "a_list=[\"start\", 10, [4, 2, [11, [9, \"mid\", 3, [1, 0], 6]], 8], \"Done\"]\n",
        "new_list=[]\n",
        "def nested_to_linear(a_list):\n",
        "    for i in range(len(a_list)):\n",
        "        if not type(a_list[i])==type([ ]):\n",
        "            new_list.append(a_list[i])\n",
        "        else:\n",
        "            nested_to_linear(a_list[i])\n",
        "nested_to_linear(a_list)\n",
        "print(new_list)"
      ],
      "metadata": {
        "colab": {
          "base_uri": "https://localhost:8080/"
        },
        "id": "O7TJLR__m0l0",
        "outputId": "028e6b9e-eba4-41f7-9560-2769e46c1666"
      },
      "execution_count": null,
      "outputs": [
        {
          "output_type": "stream",
          "name": "stdout",
          "text": [
            "['start', 10, 4, 2, 11, 9, 'mid', 3, 1, 0, 6, 8, 'Done']\n"
          ]
        }
      ]
    },
    {
      "cell_type": "code",
      "source": [
        "#Task 5\n",
        "a_list=[\"hey\", \"there\", \"\", \"what's\", \"\", \"up\", \"\", \"?\"]\n",
        "print(\"Original List:\",a_list)\n",
        "print()\n",
        "new_list=[]\n",
        "for i in range(len(a_list)):\n",
        "  if a_list[i]!=\"\":\n",
        "    new_list.append(a_list[i])\n",
        "print(\"Modified List:\",new_list)"
      ],
      "metadata": {
        "colab": {
          "base_uri": "https://localhost:8080/"
        },
        "id": "0TVcT48zvbuz",
        "outputId": "a0037968-124b-4076-a285-11b7be7d293b"
      },
      "execution_count": null,
      "outputs": [
        {
          "output_type": "stream",
          "name": "stdout",
          "text": [
            "Original List: ['hey', 'there', '', \"what's\", '', 'up', '', '?']\n",
            "\n",
            "Modified List: ['hey', 'there', \"what's\", 'up', '?']\n"
          ]
        }
      ]
    },
    {
      "cell_type": "code",
      "source": [
        "#Task 6\n",
        "x=input()\n",
        "s=x+\",\"\n",
        "emp=\"\"\n",
        "lst=[]\n",
        "for i in range(len(s)):\n",
        "  a=s[i]\n",
        "  if a!=\",\" and a!=\" \":\n",
        "    emp+=a\n",
        "  elif a==\",\":\n",
        "    b=int(emp)\n",
        "    lst.append(b)\n",
        "    emp=\"\"\n",
        "print(\"My list:\",lst)\n",
        "largest=lst[0]\n",
        "index=0\n",
        "for j in range(1,len(lst)):\n",
        "  if lst[j]>largest:\n",
        "    largest=lst[j]\n",
        "    index+=1\n",
        "print(largest)\n",
        "print(index)"
      ],
      "metadata": {
        "id": "50EBKB_azXVd",
        "colab": {
          "base_uri": "https://localhost:8080/"
        },
        "outputId": "00b2cf57-de37-4f5b-9033-9d0773154dea"
      },
      "execution_count": null,
      "outputs": [
        {
          "output_type": "stream",
          "name": "stdout",
          "text": [
            "7, 13, 2, 10, 6, -11, 0\n",
            "My list: [7, 13, 2, 10, 6, -11, 0]\n",
            "13\n",
            "1\n"
          ]
        }
      ]
    },
    {
      "cell_type": "code",
      "source": [
        "#Task 7\n",
        "list_one=[1, 3, 5, 7, 9, 10]\n",
        "list_two=[2, 4, 6, 8]\n",
        "list_one=list_one[0:len(list_one)-1:1]\n",
        "for i in range(len(list_two)):\n",
        "  a=list_two[i]\n",
        "  list_one.append(a)\n",
        "print(list_one)"
      ],
      "metadata": {
        "colab": {
          "base_uri": "https://localhost:8080/"
        },
        "id": "f2QRgBYC8Kgt",
        "outputId": "cc10f240-b646-4c6a-f4d9-4b4cdeae8af1"
      },
      "execution_count": null,
      "outputs": [
        {
          "output_type": "stream",
          "name": "stdout",
          "text": [
            "[1, 3, 5, 7, 9, 2, 4, 6, 8]\n"
          ]
        }
      ]
    },
    {
      "cell_type": "code",
      "source": [
        "#Task 8\n",
        "list_one = [1, 2, 3, 4, 5, 6, 7, 8, 9]\n",
        "list_two = [10, 11, 12, -13, -14, -15, -16]\n",
        "list_three=[]\n",
        "for i in range(len(list_one)):\n",
        "  if list_one[i]%2==0:\n",
        "    list_three.append(list_one[i])\n",
        "for j in range(len(list_two)):\n",
        "  if list_two[j]%2==0:\n",
        "    list_three.append(list_two[j])\n",
        "print(list_three)"
      ],
      "metadata": {
        "colab": {
          "base_uri": "https://localhost:8080/"
        },
        "id": "qjlk_L4nwt7j",
        "outputId": "2e6a53f5-430c-458a-9146-be789b33ec9b"
      },
      "execution_count": null,
      "outputs": [
        {
          "output_type": "stream",
          "name": "stdout",
          "text": [
            "[2, 4, 6, 8, 10, 12, -14, -16]\n"
          ]
        }
      ]
    },
    {
      "cell_type": "code",
      "source": [
        "#Task 9\n",
        "s=input()\n",
        "x=s+\" \"\n",
        "emp=\"\"\n",
        "lst=[]\n",
        "for i in range(len(x)):\n",
        "  a=x[i]\n",
        "  if a!=\" \":\n",
        "    emp+=a\n",
        "  else:\n",
        "    c=int(emp)\n",
        "    lst.append(c)\n",
        "    emp=\"\"\n",
        "print( \"Original list:\",lst)\n",
        "mo_list=[]                       #rekta list use kora jbe to?\n",
        "for j in range(len(lst)):\n",
        "  if lst[j]%2!=0:\n",
        "    mo_list.append(lst[j])\n",
        "print(\"Modified list:\",mo_list)\n",
        "\n"
      ],
      "metadata": {
        "id": "_EKcMnZGj8xA",
        "colab": {
          "base_uri": "https://localhost:8080/"
        },
        "outputId": "6dc6ae7e-a402-4e69-9546-1a996a881ad2"
      },
      "execution_count": null,
      "outputs": [
        {
          "output_type": "stream",
          "name": "stdout",
          "text": [
            "7 12 4 55 96 2 11 61 33 42\n",
            "Original list: [7, 12, 4, 55, 96, 2, 11, 61, 33, 42]\n",
            "Modified list: [7, 55, 11, 61, 33]\n"
          ]
        }
      ]
    },
    {
      "cell_type": "code",
      "source": [
        "#Task10\n",
        "x=input()\n",
        "s=x+\",\"\n",
        "emp=\"\"\n",
        "input_list=[]\n",
        "for i in range(len(s)):\n",
        "  a=s[i]\n",
        "  if a!=\",\" and a!=\" \":\n",
        "    emp+=a\n",
        "  elif a==\",\":\n",
        "    b=int(emp)\n",
        "    input_list.append(b)\n",
        "    emp=\"\"\n",
        "print(\"Input list:\",input_list)\n",
        "new_list=[]\n",
        "for i in range(len(input_list)):\n",
        "  a=input_list[i]\n",
        "  if a not in(new_list):\n",
        "    new_list.append(input_list[i])\n",
        "print(\"Modified list:\",new_list)"
      ],
      "metadata": {
        "colab": {
          "base_uri": "https://localhost:8080/"
        },
        "id": "WmChWataknP1",
        "outputId": "ffdb98d4-c2bf-45de-b58d-f82472b9ec25"
      },
      "execution_count": null,
      "outputs": [
        {
          "output_type": "stream",
          "name": "stdout",
          "text": [
            "0, 0, 1, 2, 3, 4, 4, 5, 6, 6, 6, 7, 8, 9, 4, 4\n",
            "Input list: [0, 0, 1, 2, 3, 4, 4, 5, 6, 6, 6, 7, 8, 9, 4, 4]\n",
            "Modified list: [0, 1, 2, 3, 4, 5, 6, 7, 8, 9]\n"
          ]
        }
      ]
    },
    {
      "cell_type": "code",
      "source": [
        "#Task11 thikase?\n",
        "list_one=[1, 4, 3, 2, 6]\n",
        "list_two=[5, 9, 8, 7, 6]\n",
        "all=True\n",
        "for i in range(len(list_one)):\n",
        "  a=list_one[i]\n",
        "  for j in range(len(list_two)):\n",
        "    if a==list_two[j]:\n",
        "        all=True\n",
        "        break\n",
        "    else:\n",
        "        all=False\n",
        "print(all)"
      ],
      "metadata": {
        "colab": {
          "base_uri": "https://localhost:8080/"
        },
        "id": "iHfp_jjIoXee",
        "outputId": "7810b9de-ca24-49ce-a749-d755911ced94"
      },
      "execution_count": null,
      "outputs": [
        {
          "output_type": "stream",
          "name": "stdout",
          "text": [
            "True\n"
          ]
        }
      ]
    },
    {
      "cell_type": "code",
      "source": [
        "g=[7, 13, 2, 6, -11, 0]\n",
        "max=g[0]\n",
        "a=0\n",
        "for i in range(1,len(g)):\n",
        "    if g[i]>max:\n",
        "        max=g[i]\n",
        "        a=i\n",
        "b=g[0]\n",
        "g[0]=g[a]\n",
        "g[a]=b\n",
        "max=g[1]\n",
        "for i in range(2,len(g)):\n",
        "    if g[i]>max:\n",
        "        max=g[i]\n",
        "        a=i\n",
        "print(f\"Second largest number in the list is {max} which was found at index {a}\")"
      ],
      "metadata": {
        "colab": {
          "base_uri": "https://localhost:8080/"
        },
        "id": "F10rkWjAnkUQ",
        "outputId": "b9d46260-c16f-489c-f03a-f1490f63d739"
      },
      "execution_count": null,
      "outputs": [
        {
          "output_type": "stream",
          "name": "stdout",
          "text": [
            "Second largest number in the list is 7 which was found at index 1\n"
          ]
        }
      ]
    },
    {
      "cell_type": "code",
      "source": [
        "#Task 16\n",
        "lst=[]\n",
        "for i in range(7):\n",
        "  n=int(input())\n",
        "  lst.append(n)\n",
        "print(\"My list:\",lst)\n",
        "li= 0      #list er 1st index nibo\n",
        "for i in range(1,len(lst)):\n",
        "  p=lst[i]\n",
        "  if p>lst[li]:\n",
        "    li=i\n",
        "a=lst[li]\n",
        "lst[li]=lst[0]\n",
        "lst[0]=a\n",
        "for i in range(1,len(lst)):\n",
        "  p=lst[i]\n",
        "  if p>lst[li]:\n",
        "    li=i\n",
        "print(\"Second largest number in the list is\",lst[li],\"which was found at index\",li)"
      ],
      "metadata": {
        "colab": {
          "base_uri": "https://localhost:8080/"
        },
        "id": "SeUgmHccxAfg",
        "outputId": "c8f99946-c7aa-4609-a937-442332f61bf9"
      },
      "execution_count": null,
      "outputs": [
        {
          "output_type": "stream",
          "name": "stdout",
          "text": [
            "7\n",
            "13\n",
            "2\n",
            "10\n",
            "6\n",
            "-11\n",
            "0\n",
            "My list: [7, 13, 2, 10, 6, -11, 0]\n",
            "Second largest number in the list is 10 which was found at index 3\n"
          ]
        }
      ]
    },
    {
      "cell_type": "code",
      "source": [
        "#Task 17\n",
        "lst=[]\n",
        "for i in range(5):\n",
        "  n=int(input())\n",
        "  lst.append(n)\n",
        "print(\"My list:\",lst)\n",
        "li=  0\n",
        "si=0\n",
        "for i in range(1,len(lst)):\n",
        "  p=lst[i]\n",
        "  if p>lst[li]:\n",
        "    li=i\n",
        "  if p<lst[si]:\n",
        "    si=i\n",
        "print(\"Smallest number in the list is\",lst[si],\"which was found at index\",si)\n",
        "print(\"Largest number in the list is\", lst[li],\"which was found at index\",li)"
      ],
      "metadata": {
        "id": "3FYLIJCpvbt1",
        "colab": {
          "base_uri": "https://localhost:8080/"
        },
        "outputId": "cb5c178c-b2b8-4511-c155-fbe3113082a2"
      },
      "execution_count": null,
      "outputs": [
        {
          "output_type": "stream",
          "name": "stdout",
          "text": [
            "7\n",
            "13\n",
            "-5\n",
            "10\n",
            "6\n",
            "My list: [7, 13, -5, 10, 6]\n",
            "Smallest number in the list is -5 which was found at index 2\n",
            "Largest number in the list is 13 which was found at index 1\n"
          ]
        }
      ]
    },
    {
      "cell_type": "code",
      "source": [
        "#Task 18\n",
        "a=[\"A\", \"B\", \"C\", \"D\"]  #nki string input nite bolse?\n",
        "b=[\"C\", \"E\", \"F\", \"B\"]\n",
        "c=[]\n",
        "for i in range (len(a)):\n",
        "  if a[i] in b:\n",
        "    c.append(a[i])\n",
        "print(c)"
      ],
      "metadata": {
        "colab": {
          "base_uri": "https://localhost:8080/"
        },
        "id": "B1_z_1cX3xJf",
        "outputId": "2f369812-0b8c-4514-b7c3-086e23aad3d9"
      },
      "execution_count": null,
      "outputs": [
        {
          "output_type": "stream",
          "name": "stdout",
          "text": [
            "['B', 'C']\n"
          ]
        }
      ]
    },
    {
      "cell_type": "code",
      "source": [
        "a=[\"1\", \"3\", \"A\", \"H\", \"P\"]\n",
        "b=[\"A\", \"G\", \"1\", \"P\", \"O\"]\n",
        "c=[]\n",
        "for i in a:\n",
        "    for j in b:\n",
        "        if j==i:\n",
        "            c.append(j)\n",
        "print(c)"
      ],
      "metadata": {
        "colab": {
          "base_uri": "https://localhost:8080/"
        },
        "id": "hCVcb0YUudpa",
        "outputId": "5483ac0f-dfe5-440f-d702-3e1d08a01d6d"
      },
      "execution_count": null,
      "outputs": [
        {
          "output_type": "stream",
          "name": "stdout",
          "text": [
            "['1', 'A', 'P']\n"
          ]
        }
      ]
    },
    {
      "cell_type": "code",
      "source": [
        "#Task 19\n",
        "list_one = [1, 2, 2, 4, 5, 5, 7, 99, 200, 303, 70]\n",
        "list_two = [1, 1, 2, 3, 3, 3, 4, 5, 200, 500, -5]\n",
        "third_list=[]\n",
        "for i in range(len(list_one)):\n",
        "  a=list_one[i]\n",
        "  if a not in third_list:\n",
        "     third_list.append(a)\n",
        "for j in range(len(list_two)):\n",
        "  b=list_two[j]\n",
        "  if b not in third_list:\n",
        "    third_list.append(b)\n",
        "print(third_list)\n"
      ],
      "metadata": {
        "colab": {
          "base_uri": "https://localhost:8080/"
        },
        "id": "eVXo3JSL6IS3",
        "outputId": "cde0458e-e5ff-4f99-809c-9f31f367a9e1"
      },
      "execution_count": null,
      "outputs": [
        {
          "output_type": "stream",
          "name": "stdout",
          "text": [
            "[1, 2, 4, 5, 7, 99, 200, 303, 70, 3, 500, -5]\n"
          ]
        }
      ]
    },
    {
      "cell_type": "code",
      "source": [
        "#Task 21\n",
        "x=input()\n",
        "s=x+\",\"\n",
        "emp=\"\"\n",
        "lst=[]\n",
        "for i in range(len(s)):\n",
        "  a=s[i]\n",
        "  if a!=\",\" and a!=\" \":\n",
        "    emp+=a\n",
        "  elif a==\",\":\n",
        "    b=int(emp)\n",
        "    lst.append(b)\n",
        "    emp=\"\"\n",
        "print(\"Given numbers in list:\",lst)\n",
        "nl=[]\n",
        "for j in range(len(lst)):\n",
        "  if lst[j] not in nl:\n",
        "    nl.append(lst[j])\n",
        "print(\"List without any dupliacte values: \",nl)"
      ],
      "metadata": {
        "colab": {
          "base_uri": "https://localhost:8080/"
        },
        "id": "moE9iy48G1ng",
        "outputId": "8ee12ad4-fd5a-4a15-a583-ed3f41f2b259"
      },
      "execution_count": null,
      "outputs": [
        {
          "output_type": "stream",
          "name": "stdout",
          "text": [
            "0, 0, 1, 2, 3, 4,      4, 5, 6, 6, 6,      7, 8, 9, 4,         4\n",
            "Given numbers in list: [0, 0, 1, 2, 3, 4, 4, 5, 6, 6, 6, 7, 8, 9, 4, 4]\n",
            "List without any dupliacte values:  [0, 1, 2, 3, 4, 5, 6, 7, 8, 9]\n"
          ]
        }
      ]
    },
    {
      "cell_type": "code",
      "source": [
        "#Easy1\n",
        "List1 = [90,30,-30,20,12]\n",
        "List2 = [-8,-5,-2,100,6]\n",
        "j=-1\n",
        "for i in range(len(List1)):                            #range(-1,-1) dile reverse hoi na\n",
        "    print(List1[i],List2[j])\n",
        "    j-=1\n"
      ],
      "metadata": {
        "colab": {
          "base_uri": "https://localhost:8080/"
        },
        "id": "dbUzw_h8IqCf",
        "outputId": "81b44a8b-9f18-4ff7-94d3-322619ef4525"
      },
      "execution_count": null,
      "outputs": [
        {
          "output_type": "stream",
          "name": "stdout",
          "text": [
            "90 6\n",
            "30 100\n",
            "-30 -2\n",
            "20 -5\n",
            "12 -8\n"
          ]
        }
      ]
    },
    {
      "cell_type": "code",
      "source": [
        "#Easy 2\n",
        "a=['Red','Green','Blue','White','Black']\n",
        "nl=[]\n",
        "for i in range(len(a)):\n",
        "  b=a[i]\n",
        "  c=b[-1::-1]\n",
        "  nl.append(c)\n",
        "print(nl)"
      ],
      "metadata": {
        "colab": {
          "base_uri": "https://localhost:8080/"
        },
        "id": "2ttgLeK8Lspv",
        "outputId": "538e00ea-9879-457b-9513-df4689d4123a"
      },
      "execution_count": null,
      "outputs": [
        {
          "output_type": "stream",
          "name": "stdout",
          "text": [
            "['deR', 'neerG', 'eulB', 'etihW', 'kcalB']\n"
          ]
        }
      ]
    },
    {
      "cell_type": "code",
      "source": [
        "#Easy 3\n",
        "x=[1, 3, 5, 7, 4, 1, 6, 8]\n",
        "odd1=0\n",
        "even1=1\n",
        "for i in range(len(x)):\n",
        "   if x[i]%2==0:\n",
        "        even1=x[i]\n",
        "        break\n",
        "for i in range(len(x)):\n",
        "   if x[i]%2!=0:\n",
        "        odd1=x[i]\n",
        "        break\n",
        "if odd1=0:\n",
        "    print(\"first odd : not found\")\n",
        "print(\"First even:\",even1,\"and\", \"First odd:\",odd1)"
      ],
      "metadata": {
        "colab": {
          "base_uri": "https://localhost:8080/"
        },
        "id": "tRpNP0KSXAVd",
        "outputId": "2120b90c-6592-4ca2-967c-a5990b49e789"
      },
      "execution_count": null,
      "outputs": [
        {
          "output_type": "stream",
          "name": "stdout",
          "text": [
            "First even: 4 and First odd: 1\n"
          ]
        }
      ]
    },
    {
      "cell_type": "code",
      "source": [
        "#Easy 4\n",
        "nt=[]\n",
        "T=['p', 'q', 'r', 's']\n",
        "N=2\n",
        "for i in range(1,N+1):\n",
        "  for j in range(len(T)):\n",
        "    a=T[j]\n",
        "    b=a+str(i)\n",
        "    nt.append(b)\n",
        "print(nt)"
      ],
      "metadata": {
        "colab": {
          "base_uri": "https://localhost:8080/"
        },
        "id": "RXyvaN86ZHAn",
        "outputId": "cae80662-caa3-4356-cb93-ae672785d62d"
      },
      "execution_count": null,
      "outputs": [
        {
          "output_type": "stream",
          "name": "stdout",
          "text": [
            "['p1', 'q1', 'r1', 's1', 'p2', 'q2', 'r2', 's2']\n"
          ]
        }
      ]
    },
    {
      "cell_type": "code",
      "source": [
        "#Task 1\n",
        "x=int(input())\n",
        "a=str(x)\n",
        "if len(a)==1:\n",
        "    print(\"False\")\n",
        "else:\n",
        "    all=True\n",
        "    for i in range(len(a)-1):\n",
        "        if a[i]<=a[i+1]:\n",
        "            all=False\n",
        "            break\n",
        "    print(all)"
      ],
      "metadata": {
        "colab": {
          "base_uri": "https://localhost:8080/"
        },
        "id": "sqHoR0iCtSWg",
        "outputId": "b240c78a-a783-4e9f-9341-6c4f230e5bf7"
      },
      "execution_count": null,
      "outputs": [
        {
          "output_type": "stream",
          "name": "stdout",
          "text": [
            "4321\n",
            "True\n"
          ]
        }
      ]
    },
    {
      "cell_type": "code",
      "source": [
        "#Task 2\n",
        "x=[976321, 321, 9763221, 9742, 876, 3211]\n",
        "for i in range(len(x)):\n",
        "  a=str(x[i])\n",
        "  all=True\n",
        "  for j in range(len(a)-1):\n",
        "    if a[j]<=a[j+1]:\n",
        "        all=False\n",
        "        break\n",
        "  if all:\n",
        "    print(int(a),\"is an awesome number\")\n",
        "  else:\n",
        "    print(int(a),\"is a not-so-awesome number.\")"
      ],
      "metadata": {
        "id": "Eu8BD7V59qYA",
        "colab": {
          "base_uri": "https://localhost:8080/"
        },
        "outputId": "ef0cf398-4b62-4895-a1b5-b7feb1b1d6c9"
      },
      "execution_count": null,
      "outputs": [
        {
          "output_type": "stream",
          "name": "stdout",
          "text": [
            "976321 is an awesome number\n",
            "321 is an awesome number\n",
            "9763221 is a not-so-awesome number.\n",
            "9742 is an awesome number\n",
            "876 is an awesome number\n",
            "3211 is a not-so-awesome number.\n"
          ]
        }
      ]
    },
    {
      "cell_type": "code",
      "source": [
        "#Task 3\n",
        "s=input()\n",
        "x=s+','\n",
        "emp=\"\"\n",
        "lst=[]\n",
        "for i in range(len(x)):\n",
        "    if x[i]!=\",\" and x[i]!=\" \":\n",
        "        emp+=x[i]\n",
        "    elif x[i]==\",\":\n",
        "        lst.append(int(emp))\n",
        "        emp=\"\"\n",
        "print(lst)"
      ],
      "metadata": {
        "colab": {
          "base_uri": "https://localhost:8080/"
        },
        "id": "VzluIkdgW72F",
        "outputId": "10a3bd89-a98d-4c53-e58a-635391fdbcc5"
      },
      "execution_count": null,
      "outputs": [
        {
          "output_type": "stream",
          "name": "stdout",
          "text": [
            "97821, 1 \t, 97210,   963,    979210 , 979210\n",
            "[97821, 1, 97210, 963, 979210, 979210]\n"
          ]
        }
      ]
    },
    {
      "cell_type": "code",
      "source": [
        "#Task 5\n",
        "a=[976321, 9742, 3211, 30987]\n",
        "lt=[]\n",
        "k=0\n",
        "for i in a:\n",
        "    s=0\n",
        "    m=1\n",
        "    lst=[a[k]]\n",
        "    p=str(i)\n",
        "    for j in range(len(p)):\n",
        "        s+=int(p[j])\n",
        "        m*=int(p[j])\n",
        "    lst.append(s)\n",
        "    lst.append(m)\n",
        "    lt.append(lst)\n",
        "    k+=1\n",
        "print(lt)"
      ],
      "metadata": {
        "colab": {
          "base_uri": "https://localhost:8080/"
        },
        "id": "MXKEhKoL1yuc",
        "outputId": "0900ee95-44bf-405a-a653-4b08160fd836"
      },
      "execution_count": null,
      "outputs": [
        {
          "output_type": "stream",
          "name": "stdout",
          "text": [
            "[[976321, 28, 2268], [9742, 22, 504], [3211, 7, 6], [30987, 27, 0]]\n"
          ]
        }
      ]
    },
    {
      "cell_type": "code",
      "source": [
        "#s k r ki korle use korte parbo?\n",
        "s=0\n",
        "def sum(lst):\n",
        "    global s\n",
        "    for i in lst:\n",
        "        if type(i)==list:\n",
        "            sum(i)\n",
        "        else:\n",
        "            s+=i\n",
        "    return s\n",
        "print(sum([ 4, [2, 5], [ 3, [1], 7 ], [ [ 4, [7, 6] ], 2], [8, 10] ]))"
      ],
      "metadata": {
        "colab": {
          "base_uri": "https://localhost:8080/"
        },
        "id": "4L6yPY9447Mp",
        "outputId": "f8337bd7-f893-4fd0-f358-d37e72275e51"
      },
      "execution_count": null,
      "outputs": [
        {
          "output_type": "stream",
          "name": "stdout",
          "text": [
            "59\n"
          ]
        }
      ]
    },
    {
      "cell_type": "markdown",
      "source": [
        "Tracing"
      ],
      "metadata": {
        "id": "wLqDJoCt-AZC"
      }
    },
    {
      "cell_type": "code",
      "source": [
        "myList = [0, 0, 0, 0, 0, 0, 0, 0, 0, 0]\n",
        "index1 = 0\n",
        "index2 = 0\n",
        "index1 = 1\n",
        "while(index1<10):\n",
        "  myList[index1] = index1+4\n",
        "  index2 = 1\n",
        "  while(index2<index1):\n",
        "      myList[index1] = myList[index1] + myList[index2]-index1\n",
        "      index2 = index2+1\n",
        "  print(myList[index1])\n",
        "  index1 = index1+1"
      ],
      "metadata": {
        "colab": {
          "base_uri": "https://localhost:8080/"
        },
        "id": "eCsGj949pq7t",
        "outputId": "e9a7785c-3b02-49ee-af96-a5be2dba0c9d"
      },
      "execution_count": null,
      "outputs": [
        {
          "output_type": "stream",
          "name": "stdout",
          "text": [
            "5\n",
            "9\n",
            "15\n",
            "25\n",
            "43\n",
            "77\n",
            "143\n",
            "273\n",
            "531\n"
          ]
        }
      ]
    },
    {
      "cell_type": "code",
      "source": [
        "#Tracing2\n",
        "myList = [0, 0, 0, 0, 0, 0, 0, 0, 0, 0]\n",
        "index1 = 0\n",
        "index2 = 0\n",
        "index1 = 1\n",
        "while (index1 < 10):\n",
        "  myList[index1] = index1 + 4\n",
        "  index2 = 1\n",
        "  while (index2 < index1):\n",
        "    myList[index1] = myList[index1-1] - myList[index2-1] - index1\n",
        "    index2 = index2 + 1\n",
        "  print(myList[index1])\n",
        "  index1 = index1 + 1"
      ],
      "metadata": {
        "colab": {
          "base_uri": "https://localhost:8080/"
        },
        "id": "GK1MrqjNqKqO",
        "outputId": "7be72c5b-4741-4092-d846-7c1f5a1319bd"
      },
      "execution_count": null,
      "outputs": [
        {
          "output_type": "stream",
          "name": "stdout",
          "text": [
            "5\n",
            "3\n",
            "-5\n",
            "-12\n",
            "-12\n",
            "-6\n",
            "-1\n",
            "-3\n",
            "-11\n"
          ]
        }
      ]
    },
    {
      "cell_type": "code",
      "source": [
        "#Task 14\n",
        "myList = [0, 0, 0, 0, 0, 0, 0, 0, 0, 0]\n",
        "b = []\n",
        "index1 = 0\n",
        "index2 = 0\n",
        "index1 = 1\n",
        "b = myList\n",
        "while(index1<4):\n",
        "  myList[index1] = index1+2\n",
        "  index2 = 1\n",
        "  while(index2<index1):\n",
        "    myList[index1] = b[index1]+myList[index2]-index1\n",
        "    index2 = index2+1\n",
        "  print(myList[index1])\n",
        "  index1 = index1+1\n",
        "\n"
      ],
      "metadata": {
        "colab": {
          "base_uri": "https://localhost:8080/"
        },
        "id": "qr4hUO94qPhv",
        "outputId": "d66617dd-c242-455d-93e7-90d73669c902"
      },
      "execution_count": null,
      "outputs": [
        {
          "output_type": "stream",
          "name": "stdout",
          "text": [
            "3\n",
            "5\n",
            "7\n"
          ]
        }
      ]
    },
    {
      "cell_type": "code",
      "source": [
        "#Task 15\n",
        "myList = [0, 0, 0, 0, 0, 0, 0, 0, 0, 0]\n",
        "b = []\n",
        "index1 = 0\n",
        "index2 = 0\n",
        "index1 = 1\n",
        "b = myList\n",
        "while (index1 < 4):\n",
        "  myList[index1] = index1 + 1\n",
        "  index2 = 1\n",
        "  while (index2 < index1):\n",
        "    myList[index1] = b[index2-1] + myList[index2] - index1\n",
        "    index2 = index2 + 1\n",
        "  print(myList[index1])\n",
        "  index1 = index1 + 1\n",
        "\n"
      ],
      "metadata": {
        "colab": {
          "base_uri": "https://localhost:8080/"
        },
        "id": "xtlM-iE_qjpf",
        "outputId": "036fb03e-d753-44d2-86e5-d516d2e2f5e6"
      },
      "execution_count": null,
      "outputs": [
        {
          "output_type": "stream",
          "name": "stdout",
          "text": [
            "2\n",
            "0\n",
            "-1\n"
          ]
        }
      ]
    },
    {
      "cell_type": "code",
      "source": [
        "\n",
        "myList = [10, 1, 4, 3, 8, 2, 4, 3, 5, 8, \"done\"]\n",
        "index1, index2 = 0, 0\n",
        "index1 = 1\n",
        "while(index1<10):\n",
        "  while(index2<index1):\n",
        "    myList[index1] = myList[index1]+myList[index2]-index1\n",
        "    index2 = index2+1\n",
        "  print(myList[index1])\n",
        "  index1 = index1+1\n",
        "print(myList[-1:])\n",
        "\n"
      ],
      "metadata": {
        "id": "nrWVTTVDqwT0",
        "colab": {
          "base_uri": "https://localhost:8080/"
        },
        "outputId": "c054b721-a5c4-4968-9e3c-8661950b65a7"
      },
      "execution_count": null,
      "outputs": [
        {
          "output_type": "stream",
          "name": "stdout",
          "text": [
            "10\n",
            "12\n",
            "12\n",
            "16\n",
            "13\n",
            "11\n",
            "7\n",
            "4\n",
            "3\n",
            "['done']\n"
          ]
        }
      ]
    },
    {
      "cell_type": "code",
      "source": [
        "myList = [10, 1, 4, 3, 8, 2, 4, 3, 5, 8, \"done\"]\n",
        "print(myList[-1::1])\n",
        "print(myList[-1::-1])\n",
        "print(myList[-1])\n"
      ],
      "metadata": {
        "colab": {
          "base_uri": "https://localhost:8080/"
        },
        "id": "Qxlw8eLv-Fdu",
        "outputId": "ab7201e0-0904-47e8-f0e0-24f89b3dd457"
      },
      "execution_count": null,
      "outputs": [
        {
          "output_type": "stream",
          "name": "stdout",
          "text": [
            "['done']\n",
            "['done', 8, 5, 3, 4, 2, 8, 3, 4, 1, 10]\n",
            "done\n"
          ]
        }
      ]
    },
    {
      "cell_type": "code",
      "source": [
        "def function_name(l):\n",
        "    lst=[]\n",
        "    for i in range(len(l)-1):\n",
        "        c=0\n",
        "        if l[i]==l[i+1]:\n",
        "            c+=1\n",
        "        if l[i]!=l[i+1] or c==1:\n",
        "            lst.append(l[i])\n",
        "    return lst\n",
        "print(function_name([1, 2, 3, 3, 3, 3, 4, 5, 8, 8]))"
      ],
      "metadata": {
        "colab": {
          "base_uri": "https://localhost:8080/"
        },
        "id": "NKSlm-f4f0K0",
        "outputId": "4d6d9f0e-5658-4638-a0de-5989547376f8"
      },
      "execution_count": null,
      "outputs": [
        {
          "output_type": "stream",
          "name": "stdout",
          "text": [
            "[1, 2, 3, 3, 3, 3, 4, 5, 8]\n"
          ]
        }
      ]
    }
  ],
  "metadata": {
    "colab": {
      "provenance": [],
      "authorship_tag": "ABX9TyOurh9ixrcMO4Y8Rv9lQol/",
      "include_colab_link": true
    },
    "kernelspec": {
      "display_name": "Python 3",
      "name": "python3"
    },
    "language_info": {
      "name": "python"
    }
  },
  "nbformat": 4,
  "nbformat_minor": 0
}