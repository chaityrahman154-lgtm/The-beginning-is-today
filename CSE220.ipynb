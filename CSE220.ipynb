{
  "nbformat": 4,
  "nbformat_minor": 0,
  "metadata": {
    "colab": {
      "provenance": [],
      "collapsed_sections": [
        "1KdjUqGZ1oF-",
        "25yyqpCQ066w",
        "3lotJ81zLAVt",
        "vnIRQSsP6KND",
        "D2YTYr3S_6sO"
      ],
      "toc_visible": true,
      "authorship_tag": "ABX9TyPHU0SuzcPlO1Jpe0L9BC6f",
      "include_colab_link": true
    },
    "kernelspec": {
      "name": "python3",
      "display_name": "Python 3"
    },
    "language_info": {
      "name": "python"
    }
  },
  "cells": [
    {
      "cell_type": "markdown",
      "metadata": {
        "id": "view-in-github",
        "colab_type": "text"
      },
      "source": [
        "<a href=\"https://colab.research.google.com/github/chaityrahman154-lgtm/The-beginning-is-today/blob/main/CSE220.ipynb\" target=\"_parent\"><img src=\"https://colab.research.google.com/assets/colab-badge.svg\" alt=\"Open In Colab\"/></a>"
      ]
    },
    {
      "cell_type": "code",
      "source": [
        " import numpy as np"
      ],
      "metadata": {
        "id": "0z9KxmxUsYkf"
      },
      "execution_count": null,
      "outputs": []
    },
    {
      "cell_type": "markdown",
      "source": [
        "###Right shift, left shift, rotate shift, k time shifting\n"
      ],
      "metadata": {
        "id": "1KdjUqGZ1oF-"
      }
    },
    {
      "cell_type": "code",
      "source": [
        "#WRONG right shifting\n",
        "arr=np.array([10,20,30,40,50,60])\n",
        "for i in range(1,len(arr)):\n",
        "    arr[i]=arr[i-1]\n",
        "arr[0]=0\n",
        "print(arr)"
      ],
      "metadata": {
        "colab": {
          "base_uri": "https://localhost:8080/"
        },
        "id": "Mt8sXSGHa8YF",
        "outputId": "9842d4c7-e827-40d1-c5c9-77b37fb37451"
      },
      "execution_count": null,
      "outputs": [
        {
          "output_type": "stream",
          "name": "stdout",
          "text": [
            "[ 0 10 10 10 10 10]\n"
          ]
        }
      ]
    },
    {
      "cell_type": "code",
      "source": [
        "#Right shifting\n",
        "arr=np.array([10,20,30,40,50,60])\n",
        "for i in range(len(arr)-1,-1,-1):\n",
        "    arr[i]=arr[i-1]\n",
        "arr[0]=0\n",
        "print(arr)"
      ],
      "metadata": {
        "colab": {
          "base_uri": "https://localhost:8080/"
        },
        "id": "xMn-Wtz4U1UN",
        "outputId": "db28cdb6-7547-4998-a6b7-769bc319d151"
      },
      "execution_count": null,
      "outputs": [
        {
          "output_type": "stream",
          "name": "stdout",
          "text": [
            "[ 0 10 20 30 40 50]\n"
          ]
        }
      ]
    },
    {
      "cell_type": "code",
      "source": [
        "#Left shifting\n",
        "lst=np.array([10,20,30,40,50,60])\n",
        "for i in range(len(lst)-1):\n",
        "    lst[i]=lst[i+1]\n",
        "lst[-1]=0\n",
        "print(lst)"
      ],
      "metadata": {
        "colab": {
          "base_uri": "https://localhost:8080/"
        },
        "id": "8B43yyTtW9Mo",
        "outputId": "64f6d057-99bc-4a3a-a3fe-e6711fcf71c9"
      },
      "execution_count": null,
      "outputs": [
        {
          "output_type": "stream",
          "name": "stdout",
          "text": [
            "[20 30 40 50 60  0]\n"
          ]
        }
      ]
    },
    {
      "cell_type": "code",
      "source": [
        "#Rotate right\n",
        "lst=np.array([10,20,30,40,50,60])\n",
        "temp=lst[-1]\n",
        "for i in range(len(lst)-1,-1,-1):\n",
        "    lst[i]=lst[i-1]\n",
        "lst[0]=temp\n",
        "print(lst)"
      ],
      "metadata": {
        "colab": {
          "base_uri": "https://localhost:8080/"
        },
        "id": "KlJ28kGAZFtD",
        "outputId": "e599b4a0-0bb7-49bd-d05a-f69b7fe2d81c"
      },
      "execution_count": null,
      "outputs": [
        {
          "output_type": "stream",
          "name": "stdout",
          "text": [
            "[60 10 20 30 40 50]\n"
          ]
        }
      ]
    },
    {
      "cell_type": "code",
      "source": [
        "#k time right shifting\n",
        "arr=np.array([10,20,30,40,50,60])\n",
        "k=2\n",
        "for i in range(len(arr)-1,k-1,-1):\n",
        "    arr[i]=arr[i-k]\n",
        "for i in range(k):\n",
        "    arr[i]=0\n",
        "print(arr)"
      ],
      "metadata": {
        "colab": {
          "base_uri": "https://localhost:8080/"
        },
        "id": "oYdcmA1ky0PD",
        "outputId": "81bd78d4-abff-4273-9acd-017afd82b45d"
      },
      "execution_count": null,
      "outputs": [
        {
          "output_type": "stream",
          "name": "stdout",
          "text": [
            "[ 0  0 10 20 30 40]\n"
          ]
        }
      ]
    },
    {
      "cell_type": "code",
      "source": [
        "#k time rotate shifting\n",
        "arr=np.array([10,20,30,40,50,60,70])\n",
        "k=4\n",
        "lst=[]\n",
        "idx=len(arr)-1\n",
        "for i in range(k):\n",
        "    lst.append(arr[idx])\n",
        "    idx-=1\n",
        "for i in range(len(arr)-1,k-1,-1):\n",
        "    arr[i]=arr[i-k]\n",
        "idx=len(lst)-1\n",
        "for i in range(k):\n",
        "    arr[i]=lst[idx]\n",
        "    idx-=1\n",
        "print(arr)"
      ],
      "metadata": {
        "colab": {
          "base_uri": "https://localhost:8080/"
        },
        "id": "vh3LH6tg2RZ3",
        "outputId": "550fb583-d180-408a-c041-2cd2ac04509e"
      },
      "execution_count": null,
      "outputs": [
        {
          "output_type": "stream",
          "name": "stdout",
          "text": [
            "[40 50 60 70 10 20 30]\n"
          ]
        }
      ]
    },
    {
      "cell_type": "markdown",
      "source": [
        "Linear array to Circular array, print all element of an array, print it reversely, insert new element in empty spot, Resize, Remove\n",
        "---"
      ],
      "metadata": {
        "id": "xKteJRjq0VbJ"
      }
    },
    {
      "cell_type": "markdown",
      "source": [
        "**[0 0 10 20 30 40 0] -> size = 4, length = 7, starting index=2, last element=(starting_index+(arr.size-1))%len(arr)**"
      ],
      "metadata": {
        "id": "4hiilwww68nf"
      }
    },
    {
      "cell_type": "code",
      "source": [
        "#Creating a circular array\n",
        "arr=np.array([10,20,30,40,50,60,0]) #[50 60 10 20 30 40]\n",
        "circular_arr=np.array([0]*len(arr))\n",
        "starting_i=2  #the number of the index at which the circular array will be started\n",
        "size=arr.size\n",
        "print(size)\n",
        "for i in range(size):\n",
        "    circular_arr[starting_i]=arr[i]\n",
        "    starting_i=(starting_i+1)%len(arr) # so that when i will be equal to lenght it will again start iterating from index 0\n",
        "print(circular_arr)"
      ],
      "metadata": {
        "id": "Nvu17cjOZ2yg",
        "colab": {
          "base_uri": "https://localhost:8080/"
        },
        "outputId": "b062b10e-667a-4114-9678-e65de6707619"
      },
      "execution_count": null,
      "outputs": [
        {
          "output_type": "stream",
          "name": "stdout",
          "text": [
            "7\n",
            "[60  0 10 20 30 40 50]\n"
          ]
        }
      ]
    },
    {
      "cell_type": "code",
      "source": [
        "a=np.array([0,0,10,20,30,40,0])  # but I heard size is 4???\n",
        "print(a.size)"
      ],
      "metadata": {
        "colab": {
          "base_uri": "https://localhost:8080/"
        },
        "id": "KC3cBO1l7gpC",
        "outputId": "0404f6e4-3706-4e0c-f960-c4ac0cabda9d"
      },
      "execution_count": null,
      "outputs": [
        {
          "output_type": "stream",
          "name": "stdout",
          "text": [
            "7\n"
          ]
        }
      ]
    },
    {
      "cell_type": "code",
      "source": [
        "#print all the element\n",
        "starting_i=2\n",
        "for i in range(circular_arr.size):\n",
        "    print(circular_arr[starting_i])\n",
        "    starting_i=(starting_i+1)%len(arr)\n"
      ],
      "metadata": {
        "colab": {
          "base_uri": "https://localhost:8080/"
        },
        "id": "C80-sp3Wu8Ni",
        "outputId": "76214c4d-8355-4ec9-8787-8ffb0ba38f1b"
      },
      "execution_count": null,
      "outputs": [
        {
          "output_type": "stream",
          "name": "stdout",
          "text": [
            "10\n",
            "20\n",
            "30\n",
            "40\n",
            "50\n",
            "60\n",
            "0\n"
          ]
        }
      ]
    },
    {
      "cell_type": "code",
      "source": [
        "#print reversely [50 60 10 20 30 40]\n",
        "starting_i=2\n",
        "for i in range(circular_arr.size):\n",
        "    starting_i=(circular_arr.size+starting_i-1)%len(arr)\n",
        "    print(circular_arr[starting_i])"
      ],
      "metadata": {
        "colab": {
          "base_uri": "https://localhost:8080/"
        },
        "id": "X8_WNphdyTvE",
        "outputId": "43b5247b-09ef-4800-bb5d-c03e68e047f0"
      },
      "execution_count": null,
      "outputs": [
        {
          "output_type": "stream",
          "name": "stdout",
          "text": [
            "0\n",
            "60\n",
            "50\n",
            "40\n",
            "30\n",
            "20\n",
            "10\n"
          ]
        }
      ]
    },
    {
      "cell_type": "code",
      "source": [
        "#insert new element\n",
        "arr=np.array([60,0,10,20,30,40,50])\n",
        "new_element=70\n",
        "last_element_idx=(circular_arr.size+starting_i-1)%len(arr)\n",
        "if arr[last_element_idx+1]==0:\n",
        "    arr[last_element_idx+1]=new_element\n",
        "print(arr)"
      ],
      "metadata": {
        "colab": {
          "base_uri": "https://localhost:8080/"
        },
        "id": "4XOHf5mG01_2",
        "outputId": "ca07bd7f-c253-4ee0-c895-3b4870af5b8d"
      },
      "execution_count": null,
      "outputs": [
        {
          "output_type": "stream",
          "name": "stdout",
          "text": [
            "[60  0 10 20 30 40 50]\n"
          ]
        }
      ]
    },
    {
      "cell_type": "code",
      "source": [
        "arr=np.array([10,20,30,0,0])  #linear array not circular\n",
        "idx=1          #  4            1    -1 = 4 3 2\n",
        "for i in range(len(arr)-1,idx,-1):  # right shifting\n",
        "    arr[i]=arr[i-1]\n",
        "arr[idx]=15\n",
        "print(arr)"
      ],
      "metadata": {
        "colab": {
          "base_uri": "https://localhost:8080/"
        },
        "id": "MQ_ieJ0PKvXj",
        "outputId": "dc9a2cbd-a1a1-446c-8c5d-a532b13a6ae7"
      },
      "execution_count": null,
      "outputs": [
        {
          "output_type": "stream",
          "name": "stdout",
          "text": [
            "[10 15 20 30  0]\n"
          ]
        }
      ]
    },
    {
      "cell_type": "code",
      "source": [
        "#You have to insert the elem in idx index. However, if there's no space left in the array.\n",
        "#You must copy the array into a double sized array and then insert the element.\n",
        "def insert(arr,idx,elem):\n",
        "    no_space=None\n",
        "    for i in range(len(arr)):\n",
        "        if arr[i]==0:\n",
        "            no_space=False\n",
        "            break\n",
        "        else:\n",
        "            no_space=True\n",
        "    if no_space:\n",
        "        new_arr=np.zeros(len(arr)*2,dtype=int)\n",
        "        for i in range(len(arr)):\n",
        "            new_arr[i]=arr[i]\n",
        "        arr=new_arr\n",
        "    for i in range(len(arr)-1,idx,-1):\n",
        "        arr[i]=arr[i-1]\n",
        "    arr[idx]=elem\n",
        "    print(arr)\n",
        "\n",
        "arr = np.array([11,22,33,44,55])\n",
        "insert(arr,2,100)\n",
        "\n",
        "arr = np.array([11,22,33,44,55,0])\n",
        "insert(arr,2,100)"
      ],
      "metadata": {
        "colab": {
          "base_uri": "https://localhost:8080/"
        },
        "id": "_bteXufZpumH",
        "outputId": "077a59d3-4e82-43cd-85c0-7daf4e704228"
      },
      "execution_count": null,
      "outputs": [
        {
          "output_type": "stream",
          "name": "stdout",
          "text": [
            "[ 11  22 100  33  44  55   0   0   0   0]\n",
            "[ 11  22 100  33  44  55]\n"
          ]
        }
      ]
    },
    {
      "cell_type": "code",
      "source": [
        "#Resize\n",
        "arr=np.array([60,70,10,20,30,40,50])\n",
        "size=9\n",
        "starting_i=2\n",
        "starting_j=2\n",
        "new_arr=np.array([0]*size)\n",
        "for i in range(arr.size):\n",
        "    new_arr[starting_i]=arr[starting_j]\n",
        "    starting_j=(starting_j+1)%len(arr)    # 10-50 hoar por abar 0 number index\n",
        "    starting_i=(starting_i+1)%len(new_arr) # 10-70 abr 0 number index\n",
        "print(new_arr)"
      ],
      "metadata": {
        "id": "uza0sqyE6xSv",
        "colab": {
          "base_uri": "https://localhost:8080/"
        },
        "outputId": "c0c5a911-6ed8-45ea-9d3c-1fee4ac3ee38"
      },
      "execution_count": null,
      "outputs": [
        {
          "output_type": "stream",
          "name": "stdout",
          "text": [
            "[ 0  0 10 20 30 40 50 60 70]\n"
          ]
        }
      ]
    },
    {
      "cell_type": "code",
      "source": [
        "1#Remove\n",
        "arr=np.array([60,70,10,20,30,40,50])\n",
        "element=70\n",
        "for i in range(len(arr)):\n",
        "    if arr[i]==element:\n",
        "        arr[i]=0\n",
        "print(arr)"
      ],
      "metadata": {
        "colab": {
          "base_uri": "https://localhost:8080/"
        },
        "outputId": "d2fbf77b-2561-4cbd-bc10-832e4a67bd7a",
        "id": "WJ3T5KWe7eUI"
      },
      "execution_count": null,
      "outputs": [
        {
          "output_type": "stream",
          "name": "stdout",
          "text": [
            "[60  0 10 20 30 40 50]\n"
          ]
        }
      ]
    },
    {
      "cell_type": "code",
      "source": [
        "arr=np.array([10,20,30,40,50])\n",
        "n=2\n",
        "for i in range(n,len(arr)-1):\n",
        "    arr[i]=arr[i+1]\n",
        "arr[len(arr)-1]=0\n",
        "print(arr)"
      ],
      "metadata": {
        "id": "gY3kRVB5Z87b",
        "colab": {
          "base_uri": "https://localhost:8080/"
        },
        "outputId": "89b54c8d-979e-48ff-ec05-4d57c96884f8"
      },
      "execution_count": null,
      "outputs": [
        {
          "output_type": "stream",
          "name": "stdout",
          "text": [
            "[10 20 40 50  0]\n"
          ]
        }
      ]
    },
    {
      "cell_type": "code",
      "source": [
        "arr=np.array([60,70,10,20,30,40,50]) # [60 70 10 20 0 40 50]=> [60 70 0 10 20 40 50]\n",
        "element_i=4\n",
        "starting_i=2\n",
        "last_element=(arr.size+starting_i-1)%len(arr) # 1\n",
        "for i in range(element_i,last_element,-1):  # 4 3 2\n",
        "    arr[i]=arr[i-1]\n",
        "arr[last_element+1]=0\n",
        "print(arr)"
      ],
      "metadata": {
        "colab": {
          "base_uri": "https://localhost:8080/"
        },
        "id": "b1c7tNVA7zcI",
        "outputId": "f6a5bbdf-e723-4a2d-80be-98e4e1adfba8"
      },
      "execution_count": null,
      "outputs": [
        {
          "output_type": "stream",
          "name": "stdout",
          "text": [
            "[60 70  0 10 20 40 50]\n"
          ]
        }
      ]
    },
    {
      "cell_type": "markdown",
      "source": [
        "Sort\n",
        "---"
      ],
      "metadata": {
        "id": "lqIe2PhywZsP"
      }
    },
    {
      "cell_type": "code",
      "source": [
        "#Bubble sort\n",
        "arr=np.array([10,5,8,9,3,7])\n",
        "for i in range(arr.size):\n",
        "    for j in range(arr.size-1-i): # i=number of how many numbers have been sorted in each iteration\n",
        "        if arr[j]>arr[j+1]:\n",
        "            temp=arr[j]\n",
        "            arr[j]=arr[j+1]\n",
        "            arr[j+1]=temp\n",
        "print(arr)"
      ],
      "metadata": {
        "colab": {
          "base_uri": "https://localhost:8080/"
        },
        "id": "rg5r6eMHwiv0",
        "outputId": "adb04c95-409f-4def-978f-86e8063ddf35"
      },
      "execution_count": null,
      "outputs": [
        {
          "output_type": "stream",
          "name": "stdout",
          "text": [
            "[ 3  5  7  8  9 10]\n"
          ]
        }
      ]
    },
    {
      "cell_type": "code",
      "source": [
        "#Selection sort\n",
        "arr=np.array([5,10,8,9,3,7])\n",
        "for i in range(arr.size):\n",
        "    small_idx=i\n",
        "    for j in range(i+1,arr.size):\n",
        "        if arr[j]<arr[small_idx]:\n",
        "            small_idx=j\n",
        "    temp=arr[i]\n",
        "    arr[i]=arr[small_idx]\n",
        "    arr[small_idx]=temp\n",
        "print(arr)"
      ],
      "metadata": {
        "colab": {
          "base_uri": "https://localhost:8080/"
        },
        "id": "oWe6tS-4w4MI",
        "outputId": "8ca4e9bd-0a5d-4f57-b70f-7961fb37486e"
      },
      "execution_count": null,
      "outputs": [
        {
          "output_type": "stream",
          "name": "stdout",
          "text": [
            "[ 3  5  7  8  9 10]\n"
          ]
        }
      ]
    },
    {
      "cell_type": "markdown",
      "source": [
        "Binary Search\n",
        "---"
      ],
      "metadata": {
        "id": "25yyqpCQ066w"
      }
    },
    {
      "cell_type": "code",
      "source": [],
      "metadata": {
        "id": "L0boNlm20-jf"
      },
      "execution_count": null,
      "outputs": []
    },
    {
      "cell_type": "markdown",
      "source": [
        "Multi Dimentional Array\n",
        "---\n",
        "\n",
        "\n",
        "\n",
        "\n",
        "\n"
      ],
      "metadata": {
        "id": "3lotJ81zLAVt"
      }
    },
    {
      "cell_type": "code",
      "source": [
        "import numpy as np\n",
        "arr2D = np.zeros(shape=(3,4), dtype = int)\n",
        "total_cells = arr2D.size #12"
      ],
      "metadata": {
        "id": "Jqnr27yHMUpz"
      },
      "execution_count": null,
      "outputs": []
    },
    {
      "cell_type": "code",
      "source": [
        "#Row Major Traversal\n",
        "arr=np.array([[1, 2, 3],\n",
        "                      [4, 5, 6],\n",
        "                      [7, 8, 9]])\n",
        "for r in range(arr.shape[0]):\n",
        "    for c in range(arr.shape[1]):\n",
        "        print(arr[r][c],end=\" \")\n",
        "    print()"
      ],
      "metadata": {
        "colab": {
          "base_uri": "https://localhost:8080/"
        },
        "id": "vqfL-08CO-ot",
        "outputId": "349dca44-5aa6-4b80-fb5d-138be5e040aa"
      },
      "execution_count": null,
      "outputs": [
        {
          "output_type": "stream",
          "name": "stdout",
          "text": [
            "1 2 3 \n",
            "4 5 6 \n",
            "7 8 9 \n"
          ]
        }
      ]
    },
    {
      "cell_type": "code",
      "source": [
        "#Column Major Traversal\n",
        "arr=np.array([[1, 2, 3],\n",
        "                      [4, 5, 6]])\n",
        "for c in range(arr.shape[1]):\n",
        "    for r in range(arr.shape[0]):\n",
        "        print(arr[r][c],end=\" \")\n",
        "    print()"
      ],
      "metadata": {
        "colab": {
          "base_uri": "https://localhost:8080/"
        },
        "id": "JhAOuExIRG5J",
        "outputId": "d17abad1-c494-40d2-b22a-9fe6c1de8551"
      },
      "execution_count": null,
      "outputs": [
        {
          "output_type": "stream",
          "name": "stdout",
          "text": [
            "1 4 \n",
            "2 5 \n",
            "3 6 \n"
          ]
        }
      ]
    },
    {
      "cell_type": "code",
      "source": [
        "#Transpose\n",
        "arr=np.array([[1, 2, 3],\n",
        "                      [4, 5, 6]])\n",
        "r_len, c_len = arr.shape\n",
        "new_arr = np.zeros(shape=(c_len, r_len), dtype=int)\n",
        "for i in range(c_len):\n",
        "    for j in range(r_len):\n",
        "        new_arr[i][j]=arr[j][i]\n",
        "print(arr)\n",
        "print(new_arr)"
      ],
      "metadata": {
        "id": "T-0uZZ_YUD8o",
        "colab": {
          "base_uri": "https://localhost:8080/"
        },
        "outputId": "fe726d5d-1cef-4367-e305-41ed2dc11bf8"
      },
      "execution_count": null,
      "outputs": [
        {
          "output_type": "stream",
          "name": "stdout",
          "text": [
            "[[1 2 3]\n",
            " [4 5 6]]\n",
            "[[1 4]\n",
            " [2 5]\n",
            " [3 6]]\n"
          ]
        }
      ]
    },
    {
      "cell_type": "code",
      "source": [
        "#Swap two columns of a mX2 matrix\n",
        "arr=np.array([[1,2],\n",
        "                      [3,4],\n",
        "                      [5,6]])\n",
        "for i in range(arr.shape[0]):\n",
        "    for j in range(arr.shape[1]-1):\n",
        "        arr[i][j],arr[i][j+1]=arr[i][j+1],arr[i][j]\n",
        "print(arr)"
      ],
      "metadata": {
        "colab": {
          "base_uri": "https://localhost:8080/"
        },
        "id": "tp1O4OIh6OHM",
        "outputId": "f62901f0-e9b1-464c-b6d9-04a3adf2d13f"
      },
      "execution_count": null,
      "outputs": [
        {
          "output_type": "stream",
          "name": "stdout",
          "text": [
            "[[2 1]\n",
            " [4 3]\n",
            " [6 5]]\n"
          ]
        }
      ]
    },
    {
      "cell_type": "code",
      "source": [
        "#Swap two columns of mxn matrix\n",
        "arr=np.array([[1, 2, 3],\n",
        "                      [4, 5, 6],\n",
        "                      [7, 8, 9]])\n",
        "for i in range(arr.shape[0]):\n",
        "    for j in range(arr.shape[1]-1):\n",
        "        arr[i][j],arr[i][j+1]=arr[i][j+1],arr[i][j]\n",
        "print(arr)"
      ],
      "metadata": {
        "id": "bZsVh44I8rmI"
      },
      "execution_count": null,
      "outputs": []
    },
    {
      "cell_type": "code",
      "source": [
        "import numpy as np\n",
        "arr=np.array([[1, 2, 3,10,13,16], #5-0 = 5  5-1 =  4  5-2 = 3 arr.shape[1]-1-j=new j\n",
        "                      [4, 5, 6,11,14,17],\n",
        "                      [7, 8, 9,12,15,18]])\n",
        "print(arr.shape[1])\n",
        "for i in range(arr.shape[0]):\n",
        "    for j in range(arr.shape[1]//2):\n",
        "        arr[i][j],arr[i][arr.shape[1]-1-j]=arr[i][arr.shape[1]-1-j],arr[i][j]\n",
        "print(arr)"
      ],
      "metadata": {
        "colab": {
          "base_uri": "https://localhost:8080/"
        },
        "id": "9Rim5-KAl92M",
        "outputId": "0b116ea5-122c-4508-d284-a3da5fe4a68b"
      },
      "execution_count": null,
      "outputs": [
        {
          "output_type": "stream",
          "name": "stdout",
          "text": [
            "6\n",
            "[[16 13 10  3  2  1]\n",
            " [17 14 11  6  5  4]\n",
            " [18 15 12  9  8  7]]\n"
          ]
        }
      ]
    },
    {
      "cell_type": "code",
      "source": [
        "#Secondary Diagonal of Square Mtarix\n",
        "arr=np.array([[1, 2, 3],  # 0 2\n",
        "                      [4, 5, 6],  # 1 1\n",
        "                      [7, 8, 9]]) # 2 0\n",
        "for i in range(arr.shape[0]):\n",
        "    for j in range(arr.shape[0]):\n",
        "        if i == c_len-1-j:       # try to find out another technique\n",
        "            print(arr[i][j],end=\" \")"
      ],
      "metadata": {
        "colab": {
          "base_uri": "https://localhost:8080/"
        },
        "id": "d3pqHFONoUTp",
        "outputId": "fdb50729-b4ff-4727-c60a-8e8aaa0f54e4"
      },
      "execution_count": null,
      "outputs": [
        {
          "output_type": "stream",
          "name": "stdout",
          "text": [
            "3 5 7 "
          ]
        }
      ]
    },
    {
      "cell_type": "code",
      "source": [
        "#Sum of every row\n",
        "arr=np.array([[1, 2, 3],\n",
        "                      [4, 5, 6],\n",
        "                      [7, 8, 9]])\n",
        "new_arr=np.zeros((arr.shape[0],1),dtype=int)\n",
        "for i in range(arr.shape[0]):\n",
        "    s=0\n",
        "    for j in range(arr.shape[1]):\n",
        "        s+=arr[i][j]\n",
        "    new_arr[i][0]=s\n",
        "print(new_arr)"
      ],
      "metadata": {
        "colab": {
          "base_uri": "https://localhost:8080/"
        },
        "id": "1Yphwo4-zbuk",
        "outputId": "bb23c46d-5448-4c46-acb0-1a22d89dedda"
      },
      "execution_count": null,
      "outputs": [
        {
          "output_type": "stream",
          "name": "stdout",
          "text": [
            "[[ 6]\n",
            " [15]\n",
            " [24]]\n"
          ]
        }
      ]
    },
    {
      "cell_type": "code",
      "source": [
        "#Sum of every column\n",
        "arr=np.array([[1, 2, 3],\n",
        "                      [4, 5, 6],\n",
        "                      [7, 8, 9]])\n",
        "new_arr=np.zeros((1,arr.shape[1]),dtype=int)\n",
        "for i in range(arr.shape[1]):\n",
        "    s=0\n",
        "    for j in range(arr.shape[0]):\n",
        "        s+=arr[j][i]\n",
        "    new_arr[0][i]=s\n",
        "print(new_arr)"
      ],
      "metadata": {
        "colab": {
          "base_uri": "https://localhost:8080/"
        },
        "id": "9OTNxFEAxsDp",
        "outputId": "e37266fb-3338-4020-88c3-5fb64f609053"
      },
      "execution_count": null,
      "outputs": [
        {
          "output_type": "stream",
          "name": "stdout",
          "text": [
            "[[12 15 18]]\n"
          ]
        }
      ]
    },
    {
      "cell_type": "code",
      "source": [
        "#Add two matrixes of same dimension\n",
        "arr1=np.array([[1,2,3],\n",
        "                        [4,5,6]])\n",
        "arr2=np.array([[7,8,9],\n",
        "                       [10,11,12]])\n",
        "new_arr=np.zeros((arr1.shape[0],arr1.shape[1]),dtype=int)\n",
        "for i in range(arr1.shape[0]):\n",
        "    for j in range(arr1.shape[1]):\n",
        "        new_arr[i][j]=arr1[i][j]+arr2[i][j]\n",
        "print(new_arr)"
      ],
      "metadata": {
        "colab": {
          "base_uri": "https://localhost:8080/"
        },
        "id": "e2znCFVK0wre",
        "outputId": "8eabb230-51f9-43ff-9473-2ac779ebac41"
      },
      "execution_count": null,
      "outputs": [
        {
          "output_type": "stream",
          "name": "stdout",
          "text": [
            "[[ 8 10 12]\n",
            " [14 16 18]]\n"
          ]
        }
      ]
    },
    {
      "cell_type": "code",
      "source": [
        "#Add elements of primary diagonal\n",
        "arr1=np.array([[1,2,3],\n",
        "                        [4,5,6],\n",
        "                        [7,8,9]])\n",
        "s=0\n",
        "for i in range(arr1.shape[0]):\n",
        "    for j in range(arr1.shape[1]):\n",
        "        if i==j:\n",
        "            s+=arr[i][j]\n",
        "print(s)"
      ],
      "metadata": {
        "colab": {
          "base_uri": "https://localhost:8080/"
        },
        "id": "eOq5K_Kg4XZ8",
        "outputId": "66787152-6594-4e3b-b163-2bdbf8377434"
      },
      "execution_count": null,
      "outputs": [
        {
          "output_type": "stream",
          "name": "stdout",
          "text": [
            "15\n"
          ]
        }
      ]
    },
    {
      "cell_type": "code",
      "source": [
        "#Max value of row_wise min value"
      ],
      "metadata": {
        "id": "y2n7Yp5a5hxL"
      },
      "execution_count": null,
      "outputs": []
    },
    {
      "cell_type": "code",
      "source": [
        "# Matrix Multiplication - the number of columns in the first matrix must be equal to the number of rows in the second matrix\n",
        "import numpy as np\n",
        "m1 = np.array([[1,5],\n",
        "               [2,6],\n",
        "               [3,7],\n",
        "               [4,8]])\n",
        "\n",
        "m2 = np.array([[1,2,3],\n",
        "               [4,5,6]])\n",
        "\n",
        "m1_r, m1_c = m1.shape\n",
        "m2_r, m2_c = m2.shape\n",
        "\n",
        "m3 = np.zeros( shape=(m1_r, m2_c),dtype=int )\n",
        "\n",
        "# rows of M1 or M3\n",
        "for i in range(m1.shape[0]):\n",
        "   # cols of M2 or M3\n",
        "   for j in range(m2.shape[1]):\n",
        "       # iterate through rows of M2\n",
        "       for k in range(m1.shape[1]):\n",
        "           m3[i][j] += m1[i][k] * m2[k][j]\n",
        "print(m1)\n",
        "print(m2)\n",
        "print(m3)"
      ],
      "metadata": {
        "colab": {
          "base_uri": "https://localhost:8080/"
        },
        "outputId": "fb7ee2be-8c7e-4a0e-e1ab-9ce4c6315a22",
        "id": "bSMSxrhPsL1R"
      },
      "execution_count": null,
      "outputs": [
        {
          "output_type": "stream",
          "name": "stdout",
          "text": [
            "[[1 5]\n",
            " [2 6]\n",
            " [3 7]\n",
            " [4 8]]\n",
            "[[1 2 3]\n",
            " [4 5 6]]\n",
            "[[21 27 33]\n",
            " [26 34 42]\n",
            " [31 41 51]\n",
            " [36 48 60]]\n"
          ]
        }
      ]
    },
    {
      "cell_type": "markdown",
      "source": [
        "Linked List\n",
        "--"
      ],
      "metadata": {
        "id": "vnIRQSsP6KND"
      }
    },
    {
      "cell_type": "code",
      "source": [
        "#Create LinkedList class\n",
        "class Node:\n",
        "    def __init__(self,data,address):\n",
        "        self.elem=data\n",
        "        self.next=address\n",
        "\n",
        "\n",
        "n1=Node(10,None)\n",
        "n2=Node(20,None)\n",
        "n3=Node(30,None)\n",
        "n1.next=n2\n",
        "n2.next=n3\n",
        "head=n1"
      ],
      "metadata": {
        "id": "4g-Ng32o6hrV"
      },
      "execution_count": null,
      "outputs": []
    },
    {
      "cell_type": "code",
      "source": [
        "# print linklist\n",
        "def printLL(head):\n",
        "    n = head\n",
        "    while n!=None:\n",
        "        print(n.elem, end=' -> ')\n",
        "        n = n.next"
      ],
      "metadata": {
        "id": "OqZ5ay0aqplj"
      },
      "execution_count": null,
      "outputs": []
    },
    {
      "cell_type": "code",
      "source": [
        "#interate\n",
        "class Node:\n",
        "    def __init__(self,elem,next=None):\n",
        "        self.elem = elem\n",
        "        self.next = next\n",
        "n1 = Node(10)\n",
        "n2 = Node(20)\n",
        "n3 = Node(30)\n",
        "n4 = Node(40)\n",
        "n1.next = n2\n",
        "n2.next = n3\n",
        "n3.next = n4\n",
        "head = n1\n",
        "\n",
        "n = head\n",
        "while n!=None:\n",
        "    print(n.elem, end=' -> ')\n",
        "    n = n.next"
      ],
      "metadata": {
        "colab": {
          "base_uri": "https://localhost:8080/"
        },
        "id": "r5INn3kJV-GZ",
        "outputId": "6d568255-3cfe-43cb-bc01-f3efb7918c54"
      },
      "execution_count": null,
      "outputs": [
        {
          "output_type": "stream",
          "name": "stdout",
          "text": [
            "10 -> 20 -> 30 -> 40 -> "
          ]
        }
      ]
    },
    {
      "cell_type": "code",
      "source": [
        "#array to Linked List\n",
        "class LinkedList:\n",
        "    def __init__(self,arr):\n",
        "        head=None\n",
        "        tail=None\n",
        "        for i in arr:\n",
        "            n=Node(i,None)\n",
        "            if head==None:\n",
        "                head=n\n",
        "                tail=n\n",
        "            else:\n",
        "                tail.next=n\n",
        "                tail=n\n",
        "        print(head.elem)\n",
        "import numpy as np\n",
        "arr=np.array([10, 20, 30, 40, 50])\n",
        "a=LinkedList(arr)"
      ],
      "metadata": {
        "id": "JfhuuTZ5USn9",
        "colab": {
          "base_uri": "https://localhost:8080/"
        },
        "outputId": "e4f9ffc4-9be9-41a7-988b-9b4ba1fc235e"
      },
      "execution_count": null,
      "outputs": [
        {
          "output_type": "stream",
          "name": "stdout",
          "text": [
            "10\n"
          ]
        }
      ]
    },
    {
      "cell_type": "code",
      "source": [
        "# access a node\n",
        "def acc_node(head,idx):\n",
        "    c=0\n",
        "    n=head\n",
        "    while n!=None:\n",
        "        if c==idx:\n",
        "            return n\n",
        "        c+=1\n",
        "        n=n.next"
      ],
      "metadata": {
        "id": "Rx00rGCjgfLT"
      },
      "execution_count": null,
      "outputs": []
    },
    {
      "cell_type": "code",
      "source": [
        "def appendLL(tail,data):\n",
        "    newNode = Node(data)\n",
        "    tail.next = newNode\n",
        "    tail = newNode\n",
        "def prependLL(head,data):\n",
        "    newNode = Node(data)\n",
        "    newNode.next = head\n",
        "    head = newNode\n",
        "appendLL(n3,50)"
      ],
      "metadata": {
        "id": "sXg4s7DMwj8q"
      },
      "execution_count": null,
      "outputs": []
    },
    {
      "cell_type": "code",
      "source": [
        "#insert a new node\n",
        "def ins_node(head,idx,elem):\n",
        "    new=Node(elem,None)\n",
        "    if idx<0:\n",
        "        return None\n",
        "    elif idx==0:\n",
        "        new.next=head\n",
        "        head=new\n",
        "        return head\n",
        "    else:\n",
        "        prv=acc_node(head,idx-1)\n",
        "        next=prv.next\n",
        "        prv.next=new\n",
        "        new.next=next\n",
        "        return head\n",
        "x=ins_node(n1,-1,55)\n",
        "if x==None:\n",
        "    print(\"Insert failed\")\n",
        "else:\n",
        "    head=x\n",
        "printLL(x)"
      ],
      "metadata": {
        "id": "ELvgQLKreTFR",
        "colab": {
          "base_uri": "https://localhost:8080/"
        },
        "outputId": "ab1f88bd-2576-4d19-9e5f-7d11df72e984"
      },
      "execution_count": null,
      "outputs": [
        {
          "output_type": "stream",
          "name": "stdout",
          "text": [
            "Insert failed\n"
          ]
        }
      ]
    },
    {
      "cell_type": "code",
      "source": [
        "#remove\n",
        "def rmv_node(head,idx):\n",
        "    if idx<0:\n",
        "        return None\n",
        "    elif idx==0:\n",
        "        rmvnod=head\n",
        "        head=head.next\n",
        "        rmvnod.next=None\n",
        "        return head\n",
        "    else:\n",
        "        prv=acc_node(head,idx-1)\n",
        "        rmvnod=prv.next\n",
        "        next=rmvnod.next\n",
        "        prv.next=next\n",
        "        rmvnod.next=None\n",
        "        return head\n",
        "x=rmv_node(n1,2)\n",
        "if x==None:\n",
        "    print(\"Remove Failed\")\n",
        "else:\n",
        "    head=x\n",
        "printLL(head)\n"
      ],
      "metadata": {
        "colab": {
          "base_uri": "https://localhost:8080/"
        },
        "id": "a7ll5q12e8_f",
        "outputId": "5ed65058-e0b7-4f25-87d0-dcbf5691826d"
      },
      "execution_count": null,
      "outputs": [
        {
          "output_type": "stream",
          "name": "stdout",
          "text": [
            "10 -> 20 -> "
          ]
        }
      ]
    },
    {
      "cell_type": "code",
      "source": [
        "#reverse\n",
        "def reverseLL(head): #n1 n2 n3 n4 -> n4 n3 n2 n1\n",
        "        n = head # n1\n",
        "        while n != None:\n",
        "            after = n.next  # n2 -> n3 -> n4 -> None\n",
        "            if n==head: # n1\n",
        "                n.next = None # n1.next = None\n",
        "            else:\n",
        "                n.next = head # n2.next = n1 -> n3.next = n2 -> n4.next = n3\n",
        "                head = n # head = n2 -> n3 -> n4\n",
        "            n = after # n = n2 -> n3 -> n4 -> None"
      ],
      "metadata": {
        "id": "IYjooOUTjO0k"
      },
      "execution_count": null,
      "outputs": []
    },
    {
      "cell_type": "code",
      "source": [
        "#reverse\n",
        "def reverse(head):\n",
        "    curr=head\n",
        "    prev=None\n",
        "    while curr!=None:\n",
        "        temp=curr.next\n",
        "        curr.next=prev\n",
        "        prev=curr\n",
        "        curr=temp"
      ],
      "metadata": {
        "id": "WQYmg_ACFjLU"
      },
      "execution_count": null,
      "outputs": []
    },
    {
      "cell_type": "code",
      "source": [
        "#leftRotate 10 20 30 40 -> 20 30 40 10\n",
        "def leftRotate(head):\n",
        "        first_node = head\n",
        "        head = head.next\n",
        "        n = head\n",
        "        while n.next!=None:\n",
        "            n=n.next\n",
        "        n.next = first_node\n",
        "        first_node.next = None"
      ],
      "metadata": {
        "id": "37-oFtrPaguP"
      },
      "execution_count": null,
      "outputs": []
    },
    {
      "cell_type": "code",
      "source": [
        "#right rotate  10 20 30 40 -> 40 10 20 30\n",
        "def rightRotate(head):\n",
        "    bckup_head=head\n",
        "    n=head\n",
        "    while n!=None:\n",
        "        n=n.next\n",
        "    head=n\n",
        "    head.next=bckup_head.next\n",
        "    head.next=None"
      ],
      "metadata": {
        "id": "BEjTPZHVj0lc"
      },
      "execution_count": null,
      "outputs": []
    },
    {
      "cell_type": "markdown",
      "source": [
        "Dummy Headed Doubly Circular Linked List\n",
        "---"
      ],
      "metadata": {
        "id": "D2YTYr3S_6sO"
      }
    },
    {
      "cell_type": "code",
      "source": [
        "class DummyLL:\n",
        "        def __init__(self,elem,next=None,prev=None):\n",
        "            self.elem = elem\n",
        "            self.next = next\n",
        "            self.prev = prev"
      ],
      "metadata": {
        "id": "vOxxWlEuABz6"
      },
      "execution_count": null,
      "outputs": []
    },
    {
      "cell_type": "code",
      "source": [
        "#append\n",
        "def append(data,head):\n",
        "    node=DummyLL(data)\n",
        "    lastNode=head.prev\n",
        "    lastNode.next=node\n",
        "    node.prev=lastNode\n",
        "    node.next=head\n",
        "    head.prev=node\n"
      ],
      "metadata": {
        "id": "dSq_HCvhFZoG"
      },
      "execution_count": null,
      "outputs": []
    },
    {
      "cell_type": "code",
      "source": [
        "#insert\n",
        "def insert(head,data,idx): # 1 2-> 1 3 2\n",
        "    node=DummyLL(data)\n",
        "    ins_node=nodeAt(idx)\n",
        "    prev=ins_node.prev\n",
        "    prev.next=node\n",
        "    node.prev=prev\n",
        "    node.next=ins_node\n",
        "    ins_node.prev=node"
      ],
      "metadata": {
        "id": "Cg15mHbsFdFp"
      },
      "execution_count": null,
      "outputs": []
    },
    {
      "cell_type": "code",
      "source": [
        "#remove\n",
        "def remove(head,idx):\n",
        "    rmv_node=nodeAt(idx)\n",
        "    prev=rmv_node.prev\n",
        "    next=rmv_node.next\n",
        "    rmv_node.prev=None\n",
        "    rmv_node.next=None\n",
        "    prev.next=next\n",
        "    next.prev=prev"
      ],
      "metadata": {
        "id": "sY_xuJBJFfpy"
      },
      "execution_count": null,
      "outputs": []
    },
    {
      "cell_type": "markdown",
      "source": [
        "Stack\n",
        "---"
      ],
      "metadata": {
        "id": "1enyuk6EaSJy"
      }
    },
    {
      "cell_type": "code",
      "source": [
        "#ArrayStack\n",
        "class arrayStack:\n",
        "\n",
        "    def __init__(self,arr):\n",
        "        self.arr=arr\n",
        "        self.size=0\n",
        "    def push(self,elem):\n",
        "        if self.size>len(arr):\n",
        "            return \"Overflow\"\n",
        "        else:\n",
        "            arr[self.size]=elem\n",
        "            self.size+=1\n",
        "            return arr\n",
        "    def pop(self):\n",
        "        if self.size==0:\n",
        "            return \"Null\"\n",
        "        else:\n",
        "            arr[self.size-1]=0\n",
        "            self.size-=1\n",
        "            return arr\n",
        "    def peek(self):\n",
        "        if self.size==0:\n",
        "            return \"Null\"\n",
        "        else:\n",
        "            return arr[self.size-1]\n",
        "\n",
        "\n",
        "arr=np.zeros(5,dtype=int)\n",
        "a=arrayStack(arr)\n",
        "print(a.push(10))\n",
        "print(a.peek())\n",
        "print(a.pop())"
      ],
      "metadata": {
        "colab": {
          "base_uri": "https://localhost:8080/"
        },
        "id": "fxXI9AC-aUML",
        "outputId": "2d4a11e3-b34b-4585-8c24-afc5d17d0d16"
      },
      "execution_count": null,
      "outputs": [
        {
          "output_type": "stream",
          "name": "stdout",
          "text": [
            "[10  0  0  0  0]\n",
            "10\n",
            "[0 0 0 0 0]\n"
          ]
        }
      ]
    },
    {
      "cell_type": "code",
      "source": [
        "class Node:\n",
        "    def __init__(self,elem,next=None):\n",
        "        self.elem=elem\n",
        "        self.next=next\n"
      ],
      "metadata": {
        "id": "kA5gV1bWk8QH"
      },
      "execution_count": null,
      "outputs": []
    },
    {
      "cell_type": "code",
      "source": [
        "#LinkedListStack\n",
        "class ListStack:\n",
        "    def __init__(self):\n",
        "        self.newStacktop=None\n",
        "        self.top=None\n",
        "    def push(self,elem):\n",
        "        new=Node(elem)\n",
        "        if self.top==None:\n",
        "            self.top=new\n",
        "        else:\n",
        "            new.next=self.top\n",
        "            self.top=new\n",
        "    def pop(self):\n",
        "        if self.top==None:\n",
        "            return \"Underflow\"\n",
        "        else:\n",
        "            bckup=self.top\n",
        "            self.top=self.top.next\n",
        "            bckup.next=None\n",
        "            return bckup.elem\n",
        "    def peek(self):\n",
        "        return self.top.elem\n",
        "    def conditional_reverse(self):\n",
        "        while self.top!=None:\n",
        "            if self.newStacktop==None:\n",
        "                self.newStacktop=Node(self.pop())\n",
        "            else:\n",
        "                if self.newStacktop.elem!=self.peek():\n",
        "                    new=Node(self.pop())\n",
        "                    new.next=self.newStacktop\n",
        "                    self.newStacktop=new\n",
        "                    print(self.newStacktop.elem)\n",
        "                else:\n",
        "                    self.top=self.top.next\n",
        "\n",
        "a=ListStack()\n",
        "a.push(10)\n",
        "a.push(10)\n",
        "a.push(20)\n",
        "a.push(20)\n",
        "a.push(30)\n",
        "a.push(10)\n",
        "a.push(50)\n",
        "a.conditional_reverse()"
      ],
      "metadata": {
        "id": "qQvzx0n3gmU5",
        "colab": {
          "base_uri": "https://localhost:8080/"
        },
        "outputId": "01a79e12-7d5c-4ada-cd85-96fb9e1ac021"
      },
      "execution_count": null,
      "outputs": [
        {
          "output_type": "stream",
          "name": "stdout",
          "text": [
            "10\n",
            "30\n",
            "20\n",
            "10\n"
          ]
        }
      ]
    },
    {
      "cell_type": "code",
      "source": [
        "#Infix to postfix\n",
        "    def reverseStack(self,s):\n",
        "        string=s\n",
        "        for i in range(len(string)):\n",
        "            self.push(string[i])\n",
        "        rvrs=\"\"\n",
        "        while self.top!=None:\n",
        "            rvrs+=self.pop()\n",
        "        print(rvrs)\n",
        "\n",
        "    def post_exp(self,st):\n",
        "        result=0\n",
        "        for chr in st:\n",
        "            if \"0\"<=chr<=\"9\":\n",
        "                self.push(int(chr))\n",
        "            else:\n",
        "                nmb2=self.pop()\n",
        "                nmb1=self.pop()\n",
        "                if chr==\"+\":\n",
        "                    result=nmb1+nmb2\n",
        "                elif chr==\"-\":\n",
        "                    result=nmb1-nmb2\n",
        "                elif chr==\"*\":\n",
        "                    result=nmb1*nmb2\n",
        "                elif chr==\"/\":\n",
        "                    result=nmb1/nmb2\n",
        "                self.push(result)\n",
        "        print(int(result))\n"
      ],
      "metadata": {
        "id": "6aExSSuVZ3iI"
      },
      "execution_count": null,
      "outputs": []
    },
    {
      "cell_type": "code",
      "source": [
        "\n",
        "    def inTopo(self,stg):\n",
        "        s=\"\"\n",
        "        for chr in stg:\n",
        "            if chr not in \"(){}[]\":\n",
        "                if \"0\"<=chr<=\"9\":\n",
        "                    s+=chr\n",
        "                    print(s)\n",
        "                else:\n",
        "                    if self.top==None:\n",
        "                        self.push(chr)\n",
        "                        print(chr)\n",
        "                    elif (self.peek()==\"+\" or self.peek()==\"-\") and (chr==\"*\" or chr==\"/\" or chr==\"%\"):\n",
        "                        self.push(chr)\n",
        "                        print(chr)\n",
        "                    else:\n",
        "                        s+=self.pop()\n",
        "                        if self.top!=None:\n",
        "                            if self.peek()==\"*\" or self.peek()==\"+\":\n",
        "                                s+=self.pop()\n",
        "                                print(s)\n",
        "                                print(chr)\n",
        "                        self.push(chr)\n",
        "        s+=self.top.elem\n",
        "        print(s)\n",
        "\n",
        "    def count_diamond(self,stack,s):\n",
        "        c=0\n",
        "        for chr in s:\n",
        "            if chr!=\".\":\n",
        "                if chr==\"<\":\n",
        "                    self.push(chr)\n",
        "                elif chr==\">\":\n",
        "                    if self.top==None:\n",
        "                        break\n",
        "                    else:\n",
        "                        self.pop()\n",
        "                        c+=1\n",
        "        print(c)"
      ],
      "metadata": {
        "id": "kJ0bfrqdKSs1"
      },
      "execution_count": null,
      "outputs": []
    },
    {
      "cell_type": "code",
      "source": [
        "#Parathesis Balancing\n"
      ],
      "metadata": {
        "id": "OgFYjs9qhmJw"
      },
      "execution_count": null,
      "outputs": []
    },
    {
      "cell_type": "code",
      "source": [
        "new=[None]*5\n",
        "print(type(new))"
      ],
      "metadata": {
        "colab": {
          "base_uri": "https://localhost:8080/"
        },
        "id": "UziHzZ7zl-sP",
        "outputId": "ac7f95ec-b4cd-488d-c9ab-ee2eabe9bc81"
      },
      "execution_count": null,
      "outputs": [
        {
          "output_type": "stream",
          "name": "stdout",
          "text": [
            "<class 'list'>\n"
          ]
        }
      ]
    },
    {
      "cell_type": "code",
      "source": [
        "arr=np.array([1,2,3,4,5])\n",
        "new_arr=arr\n",
        "print(new_arr[0])"
      ],
      "metadata": {
        "colab": {
          "base_uri": "https://localhost:8080/"
        },
        "id": "OOWueWFvpzVw",
        "outputId": "dfb1101b-0d81-4bb4-fdaa-f9d4db06e6e1"
      },
      "execution_count": null,
      "outputs": [
        {
          "output_type": "stream",
          "name": "stdout",
          "text": [
            "1\n"
          ]
        }
      ]
    },
    {
      "cell_type": "code",
      "source": [
        "arr=np.array([1,2,3,0,0])\n",
        "print(arr.size)"
      ],
      "metadata": {
        "colab": {
          "base_uri": "https://localhost:8080/"
        },
        "id": "J8PsNNk0wnMi",
        "outputId": "4f1497c5-9771-4730-e96a-795abd48cf8f"
      },
      "execution_count": null,
      "outputs": [
        {
          "output_type": "stream",
          "name": "stdout",
          "text": [
            "5\n"
          ]
        }
      ]
    }
  ]
}